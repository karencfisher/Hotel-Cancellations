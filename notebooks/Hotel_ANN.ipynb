{
  "nbformat": 4,
  "nbformat_minor": 0,
  "metadata": {
    "colab": {
      "name": "Hotel ANN.ipynb",
      "provenance": [],
      "authorship_tag": "ABX9TyMD0q16m4BTM1PRyYnJIPL+",
      "include_colab_link": true
    },
    "kernelspec": {
      "name": "python3",
      "display_name": "Python 3"
    }
  },
  "cells": [
    {
      "cell_type": "markdown",
      "metadata": {
        "id": "view-in-github",
        "colab_type": "text"
      },
      "source": [
        "<a href=\"https://colab.research.google.com/github/karencfisher/Hotel-Cancellations/blob/master/notebooks/Hotel_ANN.ipynb\" target=\"_parent\"><img src=\"https://colab.research.google.com/assets/colab-badge.svg\" alt=\"Open In Colab\"/></a>"
      ]
    },
    {
      "cell_type": "code",
      "metadata": {
        "id": "oeYTd1vv2Mf_",
        "colab_type": "code",
        "colab": {
          "base_uri": "https://localhost:8080/",
          "height": 468
        },
        "outputId": "6e387836-811a-4cad-e33e-28ff57745fd1"
      },
      "source": [
        "!pip install category_encoders\n",
        "!wget https://raw.githubusercontent.com/karencfisher/Hotel-Cancellations/master/tools.py"
      ],
      "execution_count": null,
      "outputs": [
        {
          "output_type": "stream",
          "text": [
            "Collecting category_encoders\n",
            "\u001b[?25l  Downloading https://files.pythonhosted.org/packages/44/57/fcef41c248701ee62e8325026b90c432adea35555cbc870aff9cfba23727/category_encoders-2.2.2-py2.py3-none-any.whl (80kB)\n",
            "\r\u001b[K     |████                            | 10kB 17.4MB/s eta 0:00:01\r\u001b[K     |████████▏                       | 20kB 1.7MB/s eta 0:00:01\r\u001b[K     |████████████▏                   | 30kB 2.2MB/s eta 0:00:01\r\u001b[K     |████████████████▎               | 40kB 2.5MB/s eta 0:00:01\r\u001b[K     |████████████████████▎           | 51kB 2.0MB/s eta 0:00:01\r\u001b[K     |████████████████████████▍       | 61kB 2.3MB/s eta 0:00:01\r\u001b[K     |████████████████████████████▍   | 71kB 2.5MB/s eta 0:00:01\r\u001b[K     |████████████████████████████████| 81kB 2.1MB/s \n",
            "\u001b[?25hRequirement already satisfied: statsmodels>=0.9.0 in /usr/local/lib/python3.6/dist-packages (from category_encoders) (0.10.2)\n",
            "Requirement already satisfied: numpy>=1.14.0 in /usr/local/lib/python3.6/dist-packages (from category_encoders) (1.18.5)\n",
            "Requirement already satisfied: scipy>=1.0.0 in /usr/local/lib/python3.6/dist-packages (from category_encoders) (1.4.1)\n",
            "Requirement already satisfied: patsy>=0.5.1 in /usr/local/lib/python3.6/dist-packages (from category_encoders) (0.5.1)\n",
            "Requirement already satisfied: pandas>=0.21.1 in /usr/local/lib/python3.6/dist-packages (from category_encoders) (1.0.4)\n",
            "Requirement already satisfied: scikit-learn>=0.20.0 in /usr/local/lib/python3.6/dist-packages (from category_encoders) (0.22.2.post1)\n",
            "Requirement already satisfied: six in /usr/local/lib/python3.6/dist-packages (from patsy>=0.5.1->category_encoders) (1.12.0)\n",
            "Requirement already satisfied: pytz>=2017.2 in /usr/local/lib/python3.6/dist-packages (from pandas>=0.21.1->category_encoders) (2018.9)\n",
            "Requirement already satisfied: python-dateutil>=2.6.1 in /usr/local/lib/python3.6/dist-packages (from pandas>=0.21.1->category_encoders) (2.8.1)\n",
            "Requirement already satisfied: joblib>=0.11 in /usr/local/lib/python3.6/dist-packages (from scikit-learn>=0.20.0->category_encoders) (0.15.1)\n",
            "Installing collected packages: category-encoders\n",
            "Successfully installed category-encoders-2.2.2\n",
            "--2020-06-15 07:21:39--  https://raw.githubusercontent.com/karencfisher/Hotel-Cancellations/master/tools.py\n",
            "Resolving raw.githubusercontent.com (raw.githubusercontent.com)... 151.101.0.133, 151.101.64.133, 151.101.128.133, ...\n",
            "Connecting to raw.githubusercontent.com (raw.githubusercontent.com)|151.101.0.133|:443... connected.\n",
            "HTTP request sent, awaiting response... 200 OK\n",
            "Length: 8853 (8.6K) [text/plain]\n",
            "Saving to: ‘tools.py’\n",
            "\n",
            "tools.py            100%[===================>]   8.65K  --.-KB/s    in 0s      \n",
            "\n",
            "2020-06-15 07:21:40 (53.4 MB/s) - ‘tools.py’ saved [8853/8853]\n",
            "\n"
          ],
          "name": "stdout"
        }
      ]
    },
    {
      "cell_type": "markdown",
      "metadata": {
        "id": "6tT-DaePeVNg",
        "colab_type": "text"
      },
      "source": [
        "## Model implementing an artificial neural network.\n",
        "\n",
        "This was really an aside: I was also following a Tensorflow tutorial and chose to use the hotel data set. Here I am still predicting multiple classes: no-shows as distinct from cancellations (ultimately I combined them). There is some exploration in adjusting class balances to have a similar distribution of prediction to the actual classes in the test set."
      ]
    },
    {
      "cell_type": "code",
      "metadata": {
        "id": "fZyzxzIE2e1s",
        "colab_type": "code",
        "colab": {}
      },
      "source": [
        "import tools\n",
        "import pandas as pd\n",
        "import numpy as np\n",
        "from sklearn.model_selection import train_test_split"
      ],
      "execution_count": null,
      "outputs": []
    },
    {
      "cell_type": "markdown",
      "metadata": {
        "id": "Ib29rilGfFrL",
        "colab_type": "text"
      },
      "source": [
        "### Load the data set and separate training, validation, and test sets."
      ]
    },
    {
      "cell_type": "code",
      "metadata": {
        "id": "uDyvW3zj2DL8",
        "colab_type": "code",
        "colab": {}
      },
      "source": [
        "url = 'https://raw.githubusercontent.com/karencfisher/Hotel-Cancellations/master/hotel_bookings.csv'\n",
        "df = pd.read_csv(url)\n",
        "\n",
        "# Correct some target values -- should be 'no-show' or 'cancellation' when checkout and\n",
        "# arrival dates same indicating no stay\n",
        "df = tools.fixTarget(df)\n",
        "\n",
        "# Prepare training, validation, and test sets\n",
        "X = df.drop('reservation_status', axis=1)\n",
        "y = df['reservation_status']\n",
        "\n",
        "X_train, X_test, y_train, y_test = train_test_split(X, y, test_size=.3, random_state=42,\n",
        "                                                    stratify=y)\n",
        "X_train, X_val, y_train, y_val = train_test_split(X_train, y_train, test_size=.3,\n",
        "                                                  random_state=42, stratify=y_train)"
      ],
      "execution_count": null,
      "outputs": []
    },
    {
      "cell_type": "code",
      "metadata": {
        "id": "HaE8KsMx6_RF",
        "colab_type": "code",
        "colab": {
          "base_uri": "https://localhost:8080/",
          "height": 309
        },
        "outputId": "3eed2cd3-ed96-4a6c-e66a-90111e8b250b"
      },
      "source": [
        "X_train.head()"
      ],
      "execution_count": null,
      "outputs": [
        {
          "output_type": "execute_result",
          "data": {
            "text/html": [
              "<div>\n",
              "<style scoped>\n",
              "    .dataframe tbody tr th:only-of-type {\n",
              "        vertical-align: middle;\n",
              "    }\n",
              "\n",
              "    .dataframe tbody tr th {\n",
              "        vertical-align: top;\n",
              "    }\n",
              "\n",
              "    .dataframe thead th {\n",
              "        text-align: right;\n",
              "    }\n",
              "</style>\n",
              "<table border=\"1\" class=\"dataframe\">\n",
              "  <thead>\n",
              "    <tr style=\"text-align: right;\">\n",
              "      <th></th>\n",
              "      <th>hotel</th>\n",
              "      <th>is_canceled</th>\n",
              "      <th>lead_time</th>\n",
              "      <th>arrival_date_week_number</th>\n",
              "      <th>stays_in_weekend_nights</th>\n",
              "      <th>stays_in_week_nights</th>\n",
              "      <th>adults</th>\n",
              "      <th>children</th>\n",
              "      <th>babies</th>\n",
              "      <th>meal</th>\n",
              "      <th>country</th>\n",
              "      <th>market_segment</th>\n",
              "      <th>distribution_channel</th>\n",
              "      <th>is_repeated_guest</th>\n",
              "      <th>previous_cancellations</th>\n",
              "      <th>previous_bookings_not_canceled</th>\n",
              "      <th>reserved_room_type</th>\n",
              "      <th>assigned_room_type</th>\n",
              "      <th>booking_changes</th>\n",
              "      <th>deposit_type</th>\n",
              "      <th>agent</th>\n",
              "      <th>company</th>\n",
              "      <th>days_in_waiting_list</th>\n",
              "      <th>customer_type</th>\n",
              "      <th>adr</th>\n",
              "      <th>required_car_parking_spaces</th>\n",
              "      <th>total_of_special_requests</th>\n",
              "      <th>reservation_status_date</th>\n",
              "      <th>arrival_date</th>\n",
              "    </tr>\n",
              "  </thead>\n",
              "  <tbody>\n",
              "    <tr>\n",
              "      <th>50429</th>\n",
              "      <td>City Hotel</td>\n",
              "      <td>1</td>\n",
              "      <td>79</td>\n",
              "      <td>18</td>\n",
              "      <td>2</td>\n",
              "      <td>1</td>\n",
              "      <td>2</td>\n",
              "      <td>0.0</td>\n",
              "      <td>0</td>\n",
              "      <td>BB</td>\n",
              "      <td>DEU</td>\n",
              "      <td>Online TA</td>\n",
              "      <td>TA/TO</td>\n",
              "      <td>0</td>\n",
              "      <td>0</td>\n",
              "      <td>0</td>\n",
              "      <td>A</td>\n",
              "      <td>A</td>\n",
              "      <td>0</td>\n",
              "      <td>No Deposit</td>\n",
              "      <td>9.0</td>\n",
              "      <td>NaN</td>\n",
              "      <td>0</td>\n",
              "      <td>Transient</td>\n",
              "      <td>126.90</td>\n",
              "      <td>0</td>\n",
              "      <td>0</td>\n",
              "      <td>2016-03-17</td>\n",
              "      <td>2016-04-30</td>\n",
              "    </tr>\n",
              "    <tr>\n",
              "      <th>48610</th>\n",
              "      <td>City Hotel</td>\n",
              "      <td>1</td>\n",
              "      <td>161</td>\n",
              "      <td>13</td>\n",
              "      <td>1</td>\n",
              "      <td>2</td>\n",
              "      <td>2</td>\n",
              "      <td>0.0</td>\n",
              "      <td>0</td>\n",
              "      <td>HB</td>\n",
              "      <td>PRT</td>\n",
              "      <td>Offline TA/TO</td>\n",
              "      <td>TA/TO</td>\n",
              "      <td>0</td>\n",
              "      <td>0</td>\n",
              "      <td>0</td>\n",
              "      <td>B</td>\n",
              "      <td>B</td>\n",
              "      <td>0</td>\n",
              "      <td>Non Refund</td>\n",
              "      <td>12.0</td>\n",
              "      <td>NaN</td>\n",
              "      <td>101</td>\n",
              "      <td>Transient</td>\n",
              "      <td>130.00</td>\n",
              "      <td>0</td>\n",
              "      <td>0</td>\n",
              "      <td>2016-02-10</td>\n",
              "      <td>2016-03-25</td>\n",
              "    </tr>\n",
              "    <tr>\n",
              "      <th>74119</th>\n",
              "      <td>City Hotel</td>\n",
              "      <td>1</td>\n",
              "      <td>335</td>\n",
              "      <td>38</td>\n",
              "      <td>0</td>\n",
              "      <td>2</td>\n",
              "      <td>2</td>\n",
              "      <td>0.0</td>\n",
              "      <td>0</td>\n",
              "      <td>BB</td>\n",
              "      <td>PRT</td>\n",
              "      <td>Groups</td>\n",
              "      <td>TA/TO</td>\n",
              "      <td>0</td>\n",
              "      <td>1</td>\n",
              "      <td>0</td>\n",
              "      <td>A</td>\n",
              "      <td>A</td>\n",
              "      <td>0</td>\n",
              "      <td>Non Refund</td>\n",
              "      <td>1.0</td>\n",
              "      <td>NaN</td>\n",
              "      <td>0</td>\n",
              "      <td>Contract</td>\n",
              "      <td>62.00</td>\n",
              "      <td>0</td>\n",
              "      <td>0</td>\n",
              "      <td>2015-01-01</td>\n",
              "      <td>2015-09-17</td>\n",
              "    </tr>\n",
              "    <tr>\n",
              "      <th>75388</th>\n",
              "      <td>City Hotel</td>\n",
              "      <td>1</td>\n",
              "      <td>323</td>\n",
              "      <td>36</td>\n",
              "      <td>1</td>\n",
              "      <td>1</td>\n",
              "      <td>2</td>\n",
              "      <td>0.0</td>\n",
              "      <td>0</td>\n",
              "      <td>BB</td>\n",
              "      <td>PRT</td>\n",
              "      <td>Groups</td>\n",
              "      <td>TA/TO</td>\n",
              "      <td>0</td>\n",
              "      <td>1</td>\n",
              "      <td>0</td>\n",
              "      <td>A</td>\n",
              "      <td>A</td>\n",
              "      <td>0</td>\n",
              "      <td>Non Refund</td>\n",
              "      <td>1.0</td>\n",
              "      <td>NaN</td>\n",
              "      <td>0</td>\n",
              "      <td>Transient-Party</td>\n",
              "      <td>62.00</td>\n",
              "      <td>0</td>\n",
              "      <td>0</td>\n",
              "      <td>2015-07-02</td>\n",
              "      <td>2015-09-05</td>\n",
              "    </tr>\n",
              "    <tr>\n",
              "      <th>98175</th>\n",
              "      <td>City Hotel</td>\n",
              "      <td>0</td>\n",
              "      <td>41</td>\n",
              "      <td>39</td>\n",
              "      <td>1</td>\n",
              "      <td>3</td>\n",
              "      <td>2</td>\n",
              "      <td>0.0</td>\n",
              "      <td>0</td>\n",
              "      <td>BB</td>\n",
              "      <td>FRA</td>\n",
              "      <td>Offline TA/TO</td>\n",
              "      <td>TA/TO</td>\n",
              "      <td>0</td>\n",
              "      <td>0</td>\n",
              "      <td>0</td>\n",
              "      <td>A</td>\n",
              "      <td>A</td>\n",
              "      <td>0</td>\n",
              "      <td>No Deposit</td>\n",
              "      <td>NaN</td>\n",
              "      <td>NaN</td>\n",
              "      <td>0</td>\n",
              "      <td>Transient</td>\n",
              "      <td>118.96</td>\n",
              "      <td>0</td>\n",
              "      <td>2</td>\n",
              "      <td>2016-09-26</td>\n",
              "      <td>2016-09-22</td>\n",
              "    </tr>\n",
              "  </tbody>\n",
              "</table>\n",
              "</div>"
            ],
            "text/plain": [
              "            hotel  is_canceled  ...  reservation_status_date  arrival_date\n",
              "50429  City Hotel            1  ...               2016-03-17    2016-04-30\n",
              "48610  City Hotel            1  ...               2016-02-10    2016-03-25\n",
              "74119  City Hotel            1  ...               2015-01-01    2015-09-17\n",
              "75388  City Hotel            1  ...               2015-07-02    2015-09-05\n",
              "98175  City Hotel            0  ...               2016-09-26    2016-09-22\n",
              "\n",
              "[5 rows x 29 columns]"
            ]
          },
          "metadata": {
            "tags": []
          },
          "execution_count": 4
        }
      ]
    },
    {
      "cell_type": "markdown",
      "metadata": {
        "id": "fw6650l-fTcZ",
        "colab_type": "text"
      },
      "source": [
        "### Preprocessing\n",
        "\n",
        "Preparing the data as input to the ANN required somewhat different preprocessing."
      ]
    },
    {
      "cell_type": "code",
      "metadata": {
        "id": "SUjqaSWQ4C14",
        "colab_type": "code",
        "colab": {
          "base_uri": "https://localhost:8080/",
          "height": 52
        },
        "outputId": "f10f0933-2263-40c2-f76d-132bdbd924c3"
      },
      "source": [
        "from sklearn.pipeline import make_pipeline\n",
        "import category_encoders as ce \n",
        "from sklearn.impute import SimpleImputer\n",
        "from sklearn.preprocessing import StandardScaler, LabelEncoder\n",
        "from sklearn.compose import ColumnTransformer, make_column_transformer\n",
        "\n",
        "\n"
      ],
      "execution_count": null,
      "outputs": [
        {
          "output_type": "stream",
          "text": [
            "/usr/local/lib/python3.6/dist-packages/statsmodels/tools/_testing.py:19: FutureWarning: pandas.util.testing is deprecated. Use the functions in the public API at pandas.testing instead.\n",
            "  import pandas.util.testing as tm\n"
          ],
          "name": "stderr"
        }
      ]
    },
    {
      "cell_type": "code",
      "metadata": {
        "id": "kzNxU0pEh5BZ",
        "colab_type": "code",
        "colab": {}
      },
      "source": [
        "# Apply my wrangling function from tools.py, both test and validation\n",
        "wrangle = tools.wrangleData(max_cardinality=50)\n",
        "\n",
        "X_train_enc = wrangle.transform(X_train)                                  \n",
        "X_val_enc = wrangle.transform(X_val)\n",
        "\n",
        "# Distinguish between numeric and categorical features. We'll later also want a\n",
        "# list of all the features\n",
        "numeric_columns = X_train_enc.select_dtypes(include='number').columns.tolist()\n",
        "cat_columns = X_train_enc.select_dtypes(exclude='number').columns.tolist()\n",
        "columns = numeric_columns + cat_columns\n",
        "\n",
        "# Build column transformer to handle numeric and categorical features distinctly\n",
        "# (Impute numeric features to handle NaNs. There were none in the categorical \n",
        "# features at this point, but need to be ordinal encoded))\n",
        "impute = make_column_transformer((SimpleImputer(), numeric_columns), \n",
        "                                 (ce.OrdinalEncoder(), cat_columns),\n",
        "                                 remainder='passthrough')\n",
        "\n",
        "# Get imputed and encoded data sets\n",
        "X_train_enc = impute.fit_transform(X_train_enc)\n",
        "X_val_enc = impute.transform(X_val_enc)\n",
        "\n",
        "# Scale data to prepare for ANN\n",
        "scaler = StandardScaler()\n",
        "X_train_enc = scaler.fit_transform(X_train_enc)\n",
        "X_val_enc = scaler.transform(X_val_enc)\n",
        "\n",
        "# And label encode the target data. All needs be numeric.\n",
        "le = LabelEncoder()\n",
        "y_train_enc = np.array(le.fit_transform(y_train))\n",
        "y_val_enc = np.array(le.transform(y_val))"
      ],
      "execution_count": null,
      "outputs": []
    },
    {
      "cell_type": "code",
      "metadata": {
        "id": "Rjy0Lj34kTAD",
        "colab_type": "code",
        "colab": {
          "base_uri": "https://localhost:8080/",
          "height": 436
        },
        "outputId": "853d5361-ab19-4681-f01e-8833acf58591"
      },
      "source": [
        "pd.DataFrame(X_train_enc, columns=columns)"
      ],
      "execution_count": null,
      "outputs": [
        {
          "output_type": "execute_result",
          "data": {
            "text/html": [
              "<div>\n",
              "<style scoped>\n",
              "    .dataframe tbody tr th:only-of-type {\n",
              "        vertical-align: middle;\n",
              "    }\n",
              "\n",
              "    .dataframe tbody tr th {\n",
              "        vertical-align: top;\n",
              "    }\n",
              "\n",
              "    .dataframe thead th {\n",
              "        text-align: right;\n",
              "    }\n",
              "</style>\n",
              "<table border=\"1\" class=\"dataframe\">\n",
              "  <thead>\n",
              "    <tr style=\"text-align: right;\">\n",
              "      <th></th>\n",
              "      <th>lead_time</th>\n",
              "      <th>arrival_date_week_number</th>\n",
              "      <th>adults</th>\n",
              "      <th>is_repeated_guest</th>\n",
              "      <th>previous_cancellations</th>\n",
              "      <th>booking_changes</th>\n",
              "      <th>days_in_waiting_list</th>\n",
              "      <th>adr</th>\n",
              "      <th>required_car_parking_spaces</th>\n",
              "      <th>total_of_special_requests</th>\n",
              "      <th>nights_stay</th>\n",
              "      <th>hotel</th>\n",
              "      <th>meal</th>\n",
              "      <th>market_segment</th>\n",
              "      <th>deposit_type</th>\n",
              "      <th>customer_type</th>\n",
              "      <th>room_type_changed</th>\n",
              "    </tr>\n",
              "  </thead>\n",
              "  <tbody>\n",
              "    <tr>\n",
              "      <th>0</th>\n",
              "      <td>-0.233284</td>\n",
              "      <td>-0.669588</td>\n",
              "      <td>0.301515</td>\n",
              "      <td>-0.182218</td>\n",
              "      <td>-0.102826</td>\n",
              "      <td>-0.337948</td>\n",
              "      <td>-0.133266</td>\n",
              "      <td>4.478815e-01</td>\n",
              "      <td>-0.255346</td>\n",
              "      <td>-0.719290</td>\n",
              "      <td>-0.175427</td>\n",
              "      <td>-0.70922</td>\n",
              "      <td>-0.496841</td>\n",
              "      <td>-0.821674</td>\n",
              "      <td>-0.373039</td>\n",
              "      <td>-0.562565</td>\n",
              "      <td>-0.375609</td>\n",
              "    </tr>\n",
              "    <tr>\n",
              "      <th>1</th>\n",
              "      <td>0.533244</td>\n",
              "      <td>-1.036705</td>\n",
              "      <td>0.301515</td>\n",
              "      <td>-0.182218</td>\n",
              "      <td>-0.102826</td>\n",
              "      <td>-0.337948</td>\n",
              "      <td>5.607519</td>\n",
              "      <td>5.241947e-01</td>\n",
              "      <td>-0.255346</td>\n",
              "      <td>-0.719290</td>\n",
              "      <td>-0.175427</td>\n",
              "      <td>-0.70922</td>\n",
              "      <td>0.978201</td>\n",
              "      <td>-0.096743</td>\n",
              "      <td>2.606639</td>\n",
              "      <td>-0.562565</td>\n",
              "      <td>-0.375609</td>\n",
              "    </tr>\n",
              "    <tr>\n",
              "      <th>2</th>\n",
              "      <td>2.159778</td>\n",
              "      <td>0.798879</td>\n",
              "      <td>0.301515</td>\n",
              "      <td>-0.182218</td>\n",
              "      <td>1.027043</td>\n",
              "      <td>-0.337948</td>\n",
              "      <td>-0.133266</td>\n",
              "      <td>-1.149772e+00</td>\n",
              "      <td>-0.255346</td>\n",
              "      <td>-0.719290</td>\n",
              "      <td>-0.561552</td>\n",
              "      <td>-0.70922</td>\n",
              "      <td>-0.496841</td>\n",
              "      <td>0.628188</td>\n",
              "      <td>2.606639</td>\n",
              "      <td>0.634750</td>\n",
              "      <td>-0.375609</td>\n",
              "    </tr>\n",
              "    <tr>\n",
              "      <th>3</th>\n",
              "      <td>2.047603</td>\n",
              "      <td>0.652032</td>\n",
              "      <td>0.301515</td>\n",
              "      <td>-0.182218</td>\n",
              "      <td>1.027043</td>\n",
              "      <td>-0.337948</td>\n",
              "      <td>-0.133266</td>\n",
              "      <td>-1.149772e+00</td>\n",
              "      <td>-0.255346</td>\n",
              "      <td>-0.719290</td>\n",
              "      <td>-0.561552</td>\n",
              "      <td>-0.70922</td>\n",
              "      <td>-0.496841</td>\n",
              "      <td>0.628188</td>\n",
              "      <td>2.606639</td>\n",
              "      <td>1.832066</td>\n",
              "      <td>-0.375609</td>\n",
              "    </tr>\n",
              "    <tr>\n",
              "      <th>4</th>\n",
              "      <td>-0.588504</td>\n",
              "      <td>0.872302</td>\n",
              "      <td>0.301515</td>\n",
              "      <td>-0.182218</td>\n",
              "      <td>-0.102826</td>\n",
              "      <td>-0.337948</td>\n",
              "      <td>-0.133266</td>\n",
              "      <td>2.524212e-01</td>\n",
              "      <td>-0.255346</td>\n",
              "      <td>1.801779</td>\n",
              "      <td>0.210697</td>\n",
              "      <td>-0.70922</td>\n",
              "      <td>-0.496841</td>\n",
              "      <td>-0.096743</td>\n",
              "      <td>-0.373039</td>\n",
              "      <td>-0.562565</td>\n",
              "      <td>-0.375609</td>\n",
              "    </tr>\n",
              "    <tr>\n",
              "      <th>...</th>\n",
              "      <td>...</td>\n",
              "      <td>...</td>\n",
              "      <td>...</td>\n",
              "      <td>...</td>\n",
              "      <td>...</td>\n",
              "      <td>...</td>\n",
              "      <td>...</td>\n",
              "      <td>...</td>\n",
              "      <td>...</td>\n",
              "      <td>...</td>\n",
              "      <td>...</td>\n",
              "      <td>...</td>\n",
              "      <td>...</td>\n",
              "      <td>...</td>\n",
              "      <td>...</td>\n",
              "      <td>...</td>\n",
              "      <td>...</td>\n",
              "    </tr>\n",
              "    <tr>\n",
              "      <th>58496</th>\n",
              "      <td>0.879116</td>\n",
              "      <td>0.725455</td>\n",
              "      <td>0.301515</td>\n",
              "      <td>-0.182218</td>\n",
              "      <td>-0.102826</td>\n",
              "      <td>-0.337948</td>\n",
              "      <td>-0.133266</td>\n",
              "      <td>2.780231e-01</td>\n",
              "      <td>-0.255346</td>\n",
              "      <td>-0.719290</td>\n",
              "      <td>-0.175427</td>\n",
              "      <td>-0.70922</td>\n",
              "      <td>-0.496841</td>\n",
              "      <td>0.628188</td>\n",
              "      <td>2.606639</td>\n",
              "      <td>-0.562565</td>\n",
              "      <td>-0.375609</td>\n",
              "    </tr>\n",
              "    <tr>\n",
              "      <th>58497</th>\n",
              "      <td>-0.906333</td>\n",
              "      <td>-1.330398</td>\n",
              "      <td>0.301515</td>\n",
              "      <td>-0.182218</td>\n",
              "      <td>-0.102826</td>\n",
              "      <td>-0.337948</td>\n",
              "      <td>-0.133266</td>\n",
              "      <td>6.996618e-16</td>\n",
              "      <td>-0.255346</td>\n",
              "      <td>-0.719290</td>\n",
              "      <td>0.210697</td>\n",
              "      <td>1.41000</td>\n",
              "      <td>-0.496841</td>\n",
              "      <td>0.628188</td>\n",
              "      <td>-0.373039</td>\n",
              "      <td>1.832066</td>\n",
              "      <td>2.662343</td>\n",
              "    </tr>\n",
              "    <tr>\n",
              "      <th>58498</th>\n",
              "      <td>-0.906333</td>\n",
              "      <td>-1.256975</td>\n",
              "      <td>-1.743639</td>\n",
              "      <td>-0.182218</td>\n",
              "      <td>-0.102826</td>\n",
              "      <td>1.200836</td>\n",
              "      <td>-0.133266</td>\n",
              "      <td>-7.066633e-01</td>\n",
              "      <td>-0.255346</td>\n",
              "      <td>-0.719290</td>\n",
              "      <td>-0.947677</td>\n",
              "      <td>-0.70922</td>\n",
              "      <td>-0.496841</td>\n",
              "      <td>1.353120</td>\n",
              "      <td>-0.373039</td>\n",
              "      <td>-0.562565</td>\n",
              "      <td>-0.375609</td>\n",
              "    </tr>\n",
              "    <tr>\n",
              "      <th>58499</th>\n",
              "      <td>-0.111761</td>\n",
              "      <td>0.431762</td>\n",
              "      <td>0.301515</td>\n",
              "      <td>-0.182218</td>\n",
              "      <td>-0.102826</td>\n",
              "      <td>-0.337948</td>\n",
              "      <td>-0.133266</td>\n",
              "      <td>-3.374059e-01</td>\n",
              "      <td>-0.255346</td>\n",
              "      <td>0.541245</td>\n",
              "      <td>1.369071</td>\n",
              "      <td>-0.70922</td>\n",
              "      <td>2.453244</td>\n",
              "      <td>-0.821674</td>\n",
              "      <td>-0.373039</td>\n",
              "      <td>-0.562565</td>\n",
              "      <td>-0.375609</td>\n",
              "    </tr>\n",
              "    <tr>\n",
              "      <th>58500</th>\n",
              "      <td>0.458460</td>\n",
              "      <td>-0.596165</td>\n",
              "      <td>0.301515</td>\n",
              "      <td>-0.182218</td>\n",
              "      <td>-0.102826</td>\n",
              "      <td>-0.337948</td>\n",
              "      <td>-0.133266</td>\n",
              "      <td>-2.610927e-01</td>\n",
              "      <td>-0.255346</td>\n",
              "      <td>0.541245</td>\n",
              "      <td>-0.561552</td>\n",
              "      <td>-0.70922</td>\n",
              "      <td>-0.496841</td>\n",
              "      <td>-0.096743</td>\n",
              "      <td>-0.373039</td>\n",
              "      <td>-0.562565</td>\n",
              "      <td>-0.375609</td>\n",
              "    </tr>\n",
              "  </tbody>\n",
              "</table>\n",
              "<p>58501 rows × 17 columns</p>\n",
              "</div>"
            ],
            "text/plain": [
              "       lead_time  arrival_date_week_number  ...  customer_type  room_type_changed\n",
              "0      -0.233284                 -0.669588  ...      -0.562565          -0.375609\n",
              "1       0.533244                 -1.036705  ...      -0.562565          -0.375609\n",
              "2       2.159778                  0.798879  ...       0.634750          -0.375609\n",
              "3       2.047603                  0.652032  ...       1.832066          -0.375609\n",
              "4      -0.588504                  0.872302  ...      -0.562565          -0.375609\n",
              "...          ...                       ...  ...            ...                ...\n",
              "58496   0.879116                  0.725455  ...      -0.562565          -0.375609\n",
              "58497  -0.906333                 -1.330398  ...       1.832066           2.662343\n",
              "58498  -0.906333                 -1.256975  ...      -0.562565          -0.375609\n",
              "58499  -0.111761                  0.431762  ...      -0.562565          -0.375609\n",
              "58500   0.458460                 -0.596165  ...      -0.562565          -0.375609\n",
              "\n",
              "[58501 rows x 17 columns]"
            ]
          },
          "metadata": {
            "tags": []
          },
          "execution_count": 7
        }
      ]
    },
    {
      "cell_type": "code",
      "metadata": {
        "id": "VOs1ErinF0LT",
        "colab_type": "code",
        "colab": {
          "base_uri": "https://localhost:8080/",
          "height": 34
        },
        "outputId": "659e1055-45c6-46f8-cb5f-5e22cc277ea4"
      },
      "source": [
        "le.classes_"
      ],
      "execution_count": null,
      "outputs": [
        {
          "output_type": "execute_result",
          "data": {
            "text/plain": [
              "array(['Canceled', 'Check-Out', 'No-Show'], dtype=object)"
            ]
          },
          "metadata": {
            "tags": []
          },
          "execution_count": 8
        }
      ]
    },
    {
      "cell_type": "code",
      "metadata": {
        "id": "KVrvyuzZ3I-A",
        "colab_type": "code",
        "colab": {
          "base_uri": "https://localhost:8080/",
          "height": 34
        },
        "outputId": "6c425c27-5adc-47b7-df82-ea6e0bc0f513"
      },
      "source": [
        "# Calculate class weights.\n",
        "from sklearn.utils import class_weight\n",
        "weights = class_weight.compute_class_weight('balanced', classes=np.unique(y_train_enc), y=y_train_enc)\n",
        "class_weights = dict(enumerate(weights))\n",
        "class_weights"
      ],
      "execution_count": null,
      "outputs": [
        {
          "output_type": "execute_result",
          "data": {
            "text/plain": [
              "{0: 0.9251071366446859, 1: 0.5344753551687909, 2: 20.811454998221272}"
            ]
          },
          "metadata": {
            "tags": []
          },
          "execution_count": 9
        }
      ]
    },
    {
      "cell_type": "code",
      "metadata": {
        "id": "Ca6o7Mh9G6fo",
        "colab_type": "code",
        "colab": {}
      },
      "source": [
        "# Custom weights\n",
        "class_weights = {0: .8, 1: 0.54, 2: 4}"
      ],
      "execution_count": null,
      "outputs": []
    },
    {
      "cell_type": "code",
      "metadata": {
        "id": "P5UDc5xiNVVL",
        "colab_type": "code",
        "colab": {
          "base_uri": "https://localhost:8080/",
          "height": 34
        },
        "outputId": "bf343216-47b7-4194-8ea1-5f122434890d"
      },
      "source": [
        "y_train.shape"
      ],
      "execution_count": null,
      "outputs": [
        {
          "output_type": "execute_result",
          "data": {
            "text/plain": [
              "(58501,)"
            ]
          },
          "metadata": {
            "tags": []
          },
          "execution_count": 11
        }
      ]
    },
    {
      "cell_type": "markdown",
      "metadata": {
        "id": "TpcyuUwDg_WO",
        "colab_type": "text"
      },
      "source": [
        "### Build the ANN\n",
        "\n",
        "1) Input layer  \n",
        "2) Two inner dense layers. I finally settles on 100 neurons in the first layer, 34 in the second, after some experimentation. Relu activation.\n",
        "3) Output layer. Three output neurons for three classes. Softmax."
      ]
    },
    {
      "cell_type": "code",
      "metadata": {
        "id": "ZALhj2JLwPps",
        "colab_type": "code",
        "colab": {}
      },
      "source": [
        "import tensorflow as tf"
      ],
      "execution_count": null,
      "outputs": []
    },
    {
      "cell_type": "code",
      "metadata": {
        "id": "IqXBGwdBxGOf",
        "colab_type": "code",
        "colab": {}
      },
      "source": [
        "ann = tf.keras.Sequential()\n",
        "ann.add(tf.keras.layers.Dense(units=100, activation='relu'))\n",
        "ann.add(tf.keras.layers.Dense(units=34, activation='relu'))\n",
        "ann.add(tf.keras.layers.Dense(units=3, activation='softmax'))\n",
        "\n",
        "ann.compile(optimizer='adam', loss='sparse_categorical_crossentropy', metrics=['accuracy'])"
      ],
      "execution_count": null,
      "outputs": []
    },
    {
      "cell_type": "markdown",
      "metadata": {
        "id": "Xs75VAvOhlSs",
        "colab_type": "text"
      },
      "source": [
        "Train the model"
      ]
    },
    {
      "cell_type": "code",
      "metadata": {
        "id": "8ZABEhbo0PKh",
        "colab_type": "code",
        "colab": {
          "base_uri": "https://localhost:8080/",
          "height": 1000
        },
        "outputId": "a4a84b52-9308-4a07-9457-4b9d28be9623"
      },
      "source": [
        "\n",
        "history = ann.fit(X_train_enc, y_train_enc, epochs=100, class_weight=class_weights)\n"
      ],
      "execution_count": null,
      "outputs": [
        {
          "output_type": "stream",
          "text": [
            "Epoch 1/100\n",
            "1829/1829 [==============================] - 3s 2ms/step - loss: 0.4476 - accuracy: 0.7822\n",
            "Epoch 2/100\n",
            "1829/1829 [==============================] - 3s 1ms/step - loss: 0.4174 - accuracy: 0.7984\n",
            "Epoch 3/100\n",
            "1829/1829 [==============================] - 3s 1ms/step - loss: 0.4074 - accuracy: 0.8010\n",
            "Epoch 4/100\n",
            "1829/1829 [==============================] - 3s 1ms/step - loss: 0.4002 - accuracy: 0.8039\n",
            "Epoch 5/100\n",
            "1829/1829 [==============================] - 3s 1ms/step - loss: 0.3935 - accuracy: 0.8069\n",
            "Epoch 6/100\n",
            "1829/1829 [==============================] - 3s 1ms/step - loss: 0.3878 - accuracy: 0.8082\n",
            "Epoch 7/100\n",
            "1829/1829 [==============================] - 3s 1ms/step - loss: 0.3830 - accuracy: 0.8099\n",
            "Epoch 8/100\n",
            "1829/1829 [==============================] - 3s 1ms/step - loss: 0.3780 - accuracy: 0.8084\n",
            "Epoch 9/100\n",
            "1829/1829 [==============================] - 3s 1ms/step - loss: 0.3738 - accuracy: 0.8122\n",
            "Epoch 10/100\n",
            "1829/1829 [==============================] - 3s 1ms/step - loss: 0.3696 - accuracy: 0.8120\n",
            "Epoch 11/100\n",
            "1829/1829 [==============================] - 3s 1ms/step - loss: 0.3671 - accuracy: 0.8142\n",
            "Epoch 12/100\n",
            "1829/1829 [==============================] - 3s 1ms/step - loss: 0.3631 - accuracy: 0.8139\n",
            "Epoch 13/100\n",
            "1829/1829 [==============================] - 3s 2ms/step - loss: 0.3611 - accuracy: 0.8147\n",
            "Epoch 14/100\n",
            "1829/1829 [==============================] - 3s 2ms/step - loss: 0.3582 - accuracy: 0.8147\n",
            "Epoch 15/100\n",
            "1829/1829 [==============================] - 3s 2ms/step - loss: 0.3555 - accuracy: 0.8160\n",
            "Epoch 16/100\n",
            "1829/1829 [==============================] - 3s 1ms/step - loss: 0.3533 - accuracy: 0.8174\n",
            "Epoch 17/100\n",
            "1829/1829 [==============================] - 3s 1ms/step - loss: 0.3507 - accuracy: 0.8175\n",
            "Epoch 18/100\n",
            "1829/1829 [==============================] - 3s 1ms/step - loss: 0.3486 - accuracy: 0.8184\n",
            "Epoch 19/100\n",
            "1829/1829 [==============================] - 3s 1ms/step - loss: 0.3460 - accuracy: 0.8190\n",
            "Epoch 20/100\n",
            "1829/1829 [==============================] - 3s 1ms/step - loss: 0.3445 - accuracy: 0.8193\n",
            "Epoch 21/100\n",
            "1829/1829 [==============================] - 3s 2ms/step - loss: 0.3416 - accuracy: 0.8195\n",
            "Epoch 22/100\n",
            "1829/1829 [==============================] - 3s 1ms/step - loss: 0.3399 - accuracy: 0.8211\n",
            "Epoch 23/100\n",
            "1829/1829 [==============================] - 3s 1ms/step - loss: 0.3383 - accuracy: 0.8221\n",
            "Epoch 24/100\n",
            "1829/1829 [==============================] - 3s 1ms/step - loss: 0.3363 - accuracy: 0.8223\n",
            "Epoch 25/100\n",
            "1829/1829 [==============================] - 3s 1ms/step - loss: 0.3348 - accuracy: 0.8229\n",
            "Epoch 26/100\n",
            "1829/1829 [==============================] - 3s 1ms/step - loss: 0.3339 - accuracy: 0.8227\n",
            "Epoch 27/100\n",
            "1829/1829 [==============================] - 3s 1ms/step - loss: 0.3317 - accuracy: 0.8244\n",
            "Epoch 28/100\n",
            "1829/1829 [==============================] - 3s 1ms/step - loss: 0.3300 - accuracy: 0.8235\n",
            "Epoch 29/100\n",
            "1829/1829 [==============================] - 3s 1ms/step - loss: 0.3294 - accuracy: 0.8248\n",
            "Epoch 30/100\n",
            "1829/1829 [==============================] - 3s 1ms/step - loss: 0.3272 - accuracy: 0.8247\n",
            "Epoch 31/100\n",
            "1829/1829 [==============================] - 3s 1ms/step - loss: 0.3269 - accuracy: 0.8252\n",
            "Epoch 32/100\n",
            "1829/1829 [==============================] - 3s 1ms/step - loss: 0.3246 - accuracy: 0.8254\n",
            "Epoch 33/100\n",
            "1829/1829 [==============================] - 3s 1ms/step - loss: 0.3245 - accuracy: 0.8253\n",
            "Epoch 34/100\n",
            "1829/1829 [==============================] - 3s 1ms/step - loss: 0.3230 - accuracy: 0.8253\n",
            "Epoch 35/100\n",
            "1829/1829 [==============================] - 3s 1ms/step - loss: 0.3215 - accuracy: 0.8274\n",
            "Epoch 36/100\n",
            "1829/1829 [==============================] - 3s 1ms/step - loss: 0.3215 - accuracy: 0.8258\n",
            "Epoch 37/100\n",
            "1829/1829 [==============================] - 3s 1ms/step - loss: 0.3199 - accuracy: 0.8245\n",
            "Epoch 38/100\n",
            "1829/1829 [==============================] - 3s 1ms/step - loss: 0.3178 - accuracy: 0.8260\n",
            "Epoch 39/100\n",
            "1829/1829 [==============================] - 3s 2ms/step - loss: 0.3174 - accuracy: 0.8259\n",
            "Epoch 40/100\n",
            "1829/1829 [==============================] - 3s 1ms/step - loss: 0.3164 - accuracy: 0.8257\n",
            "Epoch 41/100\n",
            "1829/1829 [==============================] - 3s 1ms/step - loss: 0.3162 - accuracy: 0.8251\n",
            "Epoch 42/100\n",
            "1829/1829 [==============================] - 3s 1ms/step - loss: 0.3143 - accuracy: 0.8259\n",
            "Epoch 43/100\n",
            "1829/1829 [==============================] - 3s 1ms/step - loss: 0.3137 - accuracy: 0.8263\n",
            "Epoch 44/100\n",
            "1829/1829 [==============================] - 3s 1ms/step - loss: 0.3131 - accuracy: 0.8272\n",
            "Epoch 45/100\n",
            "1829/1829 [==============================] - 3s 1ms/step - loss: 0.3124 - accuracy: 0.8271\n",
            "Epoch 46/100\n",
            "1829/1829 [==============================] - 3s 1ms/step - loss: 0.3111 - accuracy: 0.8260\n",
            "Epoch 47/100\n",
            "1829/1829 [==============================] - 3s 1ms/step - loss: 0.3109 - accuracy: 0.8267\n",
            "Epoch 48/100\n",
            "1829/1829 [==============================] - 3s 1ms/step - loss: 0.3089 - accuracy: 0.8267\n",
            "Epoch 49/100\n",
            "1829/1829 [==============================] - 3s 1ms/step - loss: 0.3095 - accuracy: 0.8283\n",
            "Epoch 50/100\n",
            "1829/1829 [==============================] - 3s 1ms/step - loss: 0.3065 - accuracy: 0.8271\n",
            "Epoch 51/100\n",
            "1829/1829 [==============================] - 3s 1ms/step - loss: 0.3066 - accuracy: 0.8283\n",
            "Epoch 52/100\n",
            "1829/1829 [==============================] - 3s 1ms/step - loss: 0.3060 - accuracy: 0.8282\n",
            "Epoch 53/100\n",
            "1829/1829 [==============================] - 3s 2ms/step - loss: 0.3046 - accuracy: 0.8269\n",
            "Epoch 54/100\n",
            "1829/1829 [==============================] - 3s 2ms/step - loss: 0.3054 - accuracy: 0.8288\n",
            "Epoch 55/100\n",
            "1829/1829 [==============================] - 3s 2ms/step - loss: 0.3037 - accuracy: 0.8281\n",
            "Epoch 56/100\n",
            "1829/1829 [==============================] - 3s 2ms/step - loss: 0.3030 - accuracy: 0.8281\n",
            "Epoch 57/100\n",
            "1829/1829 [==============================] - 3s 2ms/step - loss: 0.3032 - accuracy: 0.8280\n",
            "Epoch 58/100\n",
            "1829/1829 [==============================] - 3s 2ms/step - loss: 0.3014 - accuracy: 0.8277\n",
            "Epoch 59/100\n",
            "1829/1829 [==============================] - 3s 2ms/step - loss: 0.3017 - accuracy: 0.8295\n",
            "Epoch 60/100\n",
            "1829/1829 [==============================] - 3s 2ms/step - loss: 0.3006 - accuracy: 0.8288\n",
            "Epoch 61/100\n",
            "1829/1829 [==============================] - 3s 1ms/step - loss: 0.2993 - accuracy: 0.8284\n",
            "Epoch 62/100\n",
            "1829/1829 [==============================] - 3s 1ms/step - loss: 0.3005 - accuracy: 0.8275\n",
            "Epoch 63/100\n",
            "1829/1829 [==============================] - 3s 1ms/step - loss: 0.2989 - accuracy: 0.8278\n",
            "Epoch 64/100\n",
            "1829/1829 [==============================] - 3s 1ms/step - loss: 0.2993 - accuracy: 0.8288\n",
            "Epoch 65/100\n",
            "1829/1829 [==============================] - 3s 2ms/step - loss: 0.2972 - accuracy: 0.8287\n",
            "Epoch 66/100\n",
            "1829/1829 [==============================] - 3s 1ms/step - loss: 0.2966 - accuracy: 0.8295\n",
            "Epoch 67/100\n",
            "1829/1829 [==============================] - 3s 1ms/step - loss: 0.2959 - accuracy: 0.8298\n",
            "Epoch 68/100\n",
            "1829/1829 [==============================] - 3s 2ms/step - loss: 0.2956 - accuracy: 0.8293\n",
            "Epoch 69/100\n",
            "1829/1829 [==============================] - 3s 2ms/step - loss: 0.2941 - accuracy: 0.8291\n",
            "Epoch 70/100\n",
            "1829/1829 [==============================] - 3s 1ms/step - loss: 0.2936 - accuracy: 0.8289\n",
            "Epoch 71/100\n",
            "1829/1829 [==============================] - 3s 1ms/step - loss: 0.2926 - accuracy: 0.8307\n",
            "Epoch 72/100\n",
            "1829/1829 [==============================] - 3s 2ms/step - loss: 0.2931 - accuracy: 0.8297\n",
            "Epoch 73/100\n",
            "1829/1829 [==============================] - 3s 1ms/step - loss: 0.2946 - accuracy: 0.8282\n",
            "Epoch 74/100\n",
            "1829/1829 [==============================] - 3s 1ms/step - loss: 0.2922 - accuracy: 0.8299\n",
            "Epoch 75/100\n",
            "1829/1829 [==============================] - 3s 1ms/step - loss: 0.2935 - accuracy: 0.8305\n",
            "Epoch 76/100\n",
            "1829/1829 [==============================] - 3s 1ms/step - loss: 0.2896 - accuracy: 0.8309\n",
            "Epoch 77/100\n",
            "1829/1829 [==============================] - 3s 1ms/step - loss: 0.2915 - accuracy: 0.8304\n",
            "Epoch 78/100\n",
            "1829/1829 [==============================] - 3s 1ms/step - loss: 0.2894 - accuracy: 0.8300\n",
            "Epoch 79/100\n",
            "1829/1829 [==============================] - 3s 1ms/step - loss: 0.2896 - accuracy: 0.8297\n",
            "Epoch 80/100\n",
            "1829/1829 [==============================] - 3s 1ms/step - loss: 0.2894 - accuracy: 0.8299\n",
            "Epoch 81/100\n",
            "1829/1829 [==============================] - 3s 1ms/step - loss: 0.2887 - accuracy: 0.8311\n",
            "Epoch 82/100\n",
            "1829/1829 [==============================] - 3s 1ms/step - loss: 0.2869 - accuracy: 0.8314\n",
            "Epoch 83/100\n",
            "1829/1829 [==============================] - 3s 1ms/step - loss: 0.2869 - accuracy: 0.8303\n",
            "Epoch 84/100\n",
            "1829/1829 [==============================] - 3s 1ms/step - loss: 0.2865 - accuracy: 0.8300\n",
            "Epoch 85/100\n",
            "1829/1829 [==============================] - 3s 1ms/step - loss: 0.2869 - accuracy: 0.8298\n",
            "Epoch 86/100\n",
            "1829/1829 [==============================] - 3s 2ms/step - loss: 0.2859 - accuracy: 0.8309\n",
            "Epoch 87/100\n",
            "1829/1829 [==============================] - 3s 1ms/step - loss: 0.2854 - accuracy: 0.8308\n",
            "Epoch 88/100\n",
            "1829/1829 [==============================] - 3s 1ms/step - loss: 0.2850 - accuracy: 0.8307\n",
            "Epoch 89/100\n",
            "1829/1829 [==============================] - 3s 1ms/step - loss: 0.2869 - accuracy: 0.8299\n",
            "Epoch 90/100\n",
            "1829/1829 [==============================] - 3s 1ms/step - loss: 0.2832 - accuracy: 0.8312\n",
            "Epoch 91/100\n",
            "1829/1829 [==============================] - 3s 2ms/step - loss: 0.2847 - accuracy: 0.8294\n",
            "Epoch 92/100\n",
            "1829/1829 [==============================] - 3s 1ms/step - loss: 0.2843 - accuracy: 0.8318\n",
            "Epoch 93/100\n",
            "1829/1829 [==============================] - 3s 1ms/step - loss: 0.2846 - accuracy: 0.8306\n",
            "Epoch 94/100\n",
            "1829/1829 [==============================] - 3s 2ms/step - loss: 0.2837 - accuracy: 0.8322\n",
            "Epoch 95/100\n",
            "1829/1829 [==============================] - 3s 1ms/step - loss: 0.2835 - accuracy: 0.8330\n",
            "Epoch 96/100\n",
            "1829/1829 [==============================] - 3s 1ms/step - loss: 0.2809 - accuracy: 0.8318\n",
            "Epoch 97/100\n",
            "1829/1829 [==============================] - 3s 1ms/step - loss: 0.2825 - accuracy: 0.8313\n",
            "Epoch 98/100\n",
            "1829/1829 [==============================] - 3s 1ms/step - loss: 0.2810 - accuracy: 0.8328\n",
            "Epoch 99/100\n",
            "1829/1829 [==============================] - 3s 2ms/step - loss: 0.2813 - accuracy: 0.8324\n",
            "Epoch 100/100\n",
            "1829/1829 [==============================] - 3s 1ms/step - loss: 0.2826 - accuracy: 0.8322\n"
          ],
          "name": "stdout"
        }
      ]
    },
    {
      "cell_type": "markdown",
      "metadata": {
        "id": "Mxy-b0a3hruK",
        "colab_type": "text"
      },
      "source": [
        "Evaluate the model. 81.5% accuracy."
      ]
    },
    {
      "cell_type": "code",
      "metadata": {
        "id": "Zg7vQlDM9gK9",
        "colab_type": "code",
        "colab": {
          "base_uri": "https://localhost:8080/",
          "height": 52
        },
        "outputId": "abd70a1e-0431-4d04-a6d1-6fa1010d1f54"
      },
      "source": [
        "ann.evaluate(X_val_enc, y_val_enc, verbose=2)"
      ],
      "execution_count": null,
      "outputs": [
        {
          "output_type": "stream",
          "text": [
            "784/784 - 1s - loss: 0.4466 - accuracy: 0.8153\n"
          ],
          "name": "stdout"
        },
        {
          "output_type": "execute_result",
          "data": {
            "text/plain": [
              "[0.4466246962547302, 0.8152520656585693]"
            ]
          },
          "metadata": {
            "tags": []
          },
          "execution_count": 27
        }
      ]
    },
    {
      "cell_type": "markdown",
      "metadata": {
        "id": "1GRX2rEyh0UD",
        "colab_type": "text"
      },
      "source": [
        "##Get the predictions on the validation data set"
      ]
    },
    {
      "cell_type": "code",
      "metadata": {
        "id": "5aCKLRYk9uTb",
        "colab_type": "code",
        "colab": {
          "base_uri": "https://localhost:8080/",
          "height": 190
        },
        "outputId": "addcf847-de0f-46e9-b958-ddc36ba8e09a"
      },
      "source": [
        "y_pred = ann.predict(X_val_enc)\n",
        "y_pred[:10]"
      ],
      "execution_count": null,
      "outputs": [
        {
          "output_type": "execute_result",
          "data": {
            "text/plain": [
              "array([[2.80911010e-02, 9.29215610e-01, 4.26933356e-02],\n",
              "       [5.46951354e-01, 3.57993484e-01, 9.50551853e-02],\n",
              "       [2.68718332e-01, 5.37731826e-01, 1.93549812e-01],\n",
              "       [7.35346368e-03, 9.84826922e-01, 7.81954266e-03],\n",
              "       [2.18976066e-02, 9.65468824e-01, 1.26336571e-02],\n",
              "       [2.30094329e-01, 7.69905686e-01, 5.70501320e-11],\n",
              "       [5.57982802e-01, 4.35394347e-01, 6.62284810e-03],\n",
              "       [9.99931097e-01, 6.77574426e-05, 1.19681431e-06],\n",
              "       [3.14657867e-01, 6.83038175e-01, 2.30400218e-03],\n",
              "       [4.76567060e-01, 5.23432970e-01, 1.13424435e-20]], dtype=float32)"
            ]
          },
          "metadata": {
            "tags": []
          },
          "execution_count": 28
        }
      ]
    },
    {
      "cell_type": "markdown",
      "metadata": {
        "id": "CIije9i6i9fm",
        "colab_type": "text"
      },
      "source": [
        "Using ARGMAX to pict the 'winning' class in each observation"
      ]
    },
    {
      "cell_type": "code",
      "metadata": {
        "id": "Kd8PJG1F912m",
        "colab_type": "code",
        "colab": {}
      },
      "source": [
        "predictions = []\n",
        "for observation in y_pred:\n",
        "    best = np.argmax(observation)\n",
        "    predictions.append(le.classes_[best])\n"
      ],
      "execution_count": null,
      "outputs": []
    },
    {
      "cell_type": "markdown",
      "metadata": {
        "id": "RCj2zjo1h4wh",
        "colab_type": "text"
      },
      "source": [
        "### Comparison of the distributions for the actual classes and the predicted classes. "
      ]
    },
    {
      "cell_type": "code",
      "metadata": {
        "id": "a0m3pb1pY1GV",
        "colab_type": "code",
        "colab": {
          "base_uri": "https://localhost:8080/",
          "height": 308
        },
        "outputId": "897ab08f-f363-477b-b4da-b4dafa6af755"
      },
      "source": [
        "import matplotlib.pyplot as plt\n",
        "y_val.value_counts().sort_values(ascending=False).plot.bar();"
      ],
      "execution_count": null,
      "outputs": [
        {
          "output_type": "display_data",
          "data": {
            "image/png": "[encoded data removed]",
            "text/plain": [
              "<Figure size 432x288 with 1 Axes>"
            ]
          },
          "metadata": {
            "tags": [],
            "needs_background": "light"
          }
        }
      ]
    },
    {
      "cell_type": "code",
      "metadata": {
        "id": "jiUMNBVxZXog",
        "colab_type": "code",
        "colab": {
          "base_uri": "https://localhost:8080/",
          "height": 308
        },
        "outputId": "a9c4dbca-5c43-4fa2-a96c-b555e58b547c"
      },
      "source": [
        "pd.Series(predictions).value_counts().plot.bar();"
      ],
      "execution_count": null,
      "outputs": [
        {
          "output_type": "display_data",
          "data": {
            "image/png": "[encoded data removed]",
            "text/plain": [
              "<Figure size 432x288 with 1 Axes>"
            ]
          },
          "metadata": {
            "tags": [],
            "needs_background": "light"
          }
        }
      ]
    },
    {
      "cell_type": "markdown",
      "metadata": {
        "id": "zdV59aPeiC2A",
        "colab_type": "text"
      },
      "source": [
        "### Confusion Matrix and recall/precision scores for the validation set"
      ]
    },
    {
      "cell_type": "code",
      "metadata": {
        "id": "oja2H7d0-_eP",
        "colab_type": "code",
        "colab": {}
      },
      "source": [
        "cm, scores = tools.class_metrics(y_val, predictions)"
      ],
      "execution_count": null,
      "outputs": []
    },
    {
      "cell_type": "code",
      "metadata": {
        "id": "x548p22EVFcp",
        "colab_type": "code",
        "colab": {
          "base_uri": "https://localhost:8080/",
          "height": 141
        },
        "outputId": "b64f3092-7ab5-45da-8fb1-0f7cea47a281"
      },
      "source": [
        "cm"
      ],
      "execution_count": null,
      "outputs": [
        {
          "output_type": "execute_result",
          "data": {
            "text/html": [
              "<div>\n",
              "<style scoped>\n",
              "    .dataframe tbody tr th:only-of-type {\n",
              "        vertical-align: middle;\n",
              "    }\n",
              "\n",
              "    .dataframe tbody tr th {\n",
              "        vertical-align: top;\n",
              "    }\n",
              "\n",
              "    .dataframe thead th {\n",
              "        text-align: right;\n",
              "    }\n",
              "</style>\n",
              "<table border=\"1\" class=\"dataframe\">\n",
              "  <thead>\n",
              "    <tr style=\"text-align: right;\">\n",
              "      <th></th>\n",
              "      <th>Check-Out</th>\n",
              "      <th>Canceled</th>\n",
              "      <th>No-Show</th>\n",
              "    </tr>\n",
              "  </thead>\n",
              "  <tbody>\n",
              "    <tr>\n",
              "      <th>Check-Out</th>\n",
              "      <td>13161</td>\n",
              "      <td>2195</td>\n",
              "      <td>281</td>\n",
              "    </tr>\n",
              "    <tr>\n",
              "      <th>Canceled</th>\n",
              "      <td>1852</td>\n",
              "      <td>7100</td>\n",
              "      <td>81</td>\n",
              "    </tr>\n",
              "    <tr>\n",
              "      <th>No-Show</th>\n",
              "      <td>174</td>\n",
              "      <td>49</td>\n",
              "      <td>179</td>\n",
              "    </tr>\n",
              "  </tbody>\n",
              "</table>\n",
              "</div>"
            ],
            "text/plain": [
              "           Check-Out  Canceled  No-Show\n",
              "Check-Out      13161      2195      281\n",
              "Canceled        1852      7100       81\n",
              "No-Show          174        49      179"
            ]
          },
          "metadata": {
            "tags": []
          },
          "execution_count": 33
        }
      ]
    },
    {
      "cell_type": "code",
      "metadata": {
        "id": "KMkMtbMuVutw",
        "colab_type": "code",
        "colab": {
          "base_uri": "https://localhost:8080/",
          "height": 141
        },
        "outputId": "7a6292a5-bcc4-45cf-a9e0-7fde53288b50"
      },
      "source": [
        "scores"
      ],
      "execution_count": null,
      "outputs": [
        {
          "output_type": "execute_result",
          "data": {
            "text/html": [
              "<div>\n",
              "<style scoped>\n",
              "    .dataframe tbody tr th:only-of-type {\n",
              "        vertical-align: middle;\n",
              "    }\n",
              "\n",
              "    .dataframe tbody tr th {\n",
              "        vertical-align: top;\n",
              "    }\n",
              "\n",
              "    .dataframe thead th {\n",
              "        text-align: right;\n",
              "    }\n",
              "</style>\n",
              "<table border=\"1\" class=\"dataframe\">\n",
              "  <thead>\n",
              "    <tr style=\"text-align: right;\">\n",
              "      <th></th>\n",
              "      <th>precision</th>\n",
              "      <th>recall</th>\n",
              "      <th>f1-score</th>\n",
              "    </tr>\n",
              "  </thead>\n",
              "  <tbody>\n",
              "    <tr>\n",
              "      <th>Check-Out</th>\n",
              "      <td>0.866596</td>\n",
              "      <td>0.841658</td>\n",
              "      <td>0.853945</td>\n",
              "    </tr>\n",
              "    <tr>\n",
              "      <th>Canceled</th>\n",
              "      <td>0.759846</td>\n",
              "      <td>0.786007</td>\n",
              "      <td>0.772705</td>\n",
              "    </tr>\n",
              "    <tr>\n",
              "      <th>No-Show</th>\n",
              "      <td>0.330869</td>\n",
              "      <td>0.445274</td>\n",
              "      <td>0.379639</td>\n",
              "    </tr>\n",
              "  </tbody>\n",
              "</table>\n",
              "</div>"
            ],
            "text/plain": [
              "           precision    recall  f1-score\n",
              "Check-Out   0.866596  0.841658  0.853945\n",
              "Canceled    0.759846  0.786007  0.772705\n",
              "No-Show     0.330869  0.445274  0.379639"
            ]
          },
          "metadata": {
            "tags": []
          },
          "execution_count": 34
        }
      ]
    },
    {
      "cell_type": "markdown",
      "metadata": {
        "id": "g6M4RPGpiR1L",
        "colab_type": "text"
      },
      "source": [
        "As well again accuracy score."
      ]
    },
    {
      "cell_type": "code",
      "metadata": {
        "id": "VQ4F51wmVv7Y",
        "colab_type": "code",
        "colab": {
          "base_uri": "https://localhost:8080/",
          "height": 34
        },
        "outputId": "e89ca58e-2740-40a7-f0b2-86b6ec3c7996"
      },
      "source": [
        "tools.accuracy_score(y_val, predictions)"
      ],
      "execution_count": null,
      "outputs": [
        {
          "output_type": "execute_result",
          "data": {
            "text/plain": [
              "0.8152520740268028"
            ]
          },
          "metadata": {
            "tags": []
          },
          "execution_count": 35
        }
      ]
    },
    {
      "cell_type": "markdown",
      "metadata": {
        "id": "kBRjcLvPiWPH",
        "colab_type": "text"
      },
      "source": [
        "### Plotting the loss and accuracy during the model training process, seeing if indeed it had converged."
      ]
    },
    {
      "cell_type": "code",
      "metadata": {
        "id": "tcIraM_9WBOL",
        "colab_type": "code",
        "colab": {
          "base_uri": "https://localhost:8080/",
          "height": 442
        },
        "outputId": "3e515f1e-60db-497d-8bbf-d9549d57e0e2"
      },
      "source": [
        "import matplotlib.pyplot as plt\n",
        "\n",
        "plt.figure(figsize=(10, 7))\n",
        "plt.plot(history.history['loss'], label='Loss')\n",
        "plt.plot(history.history['accuracy'], label='Accuracy')\n",
        "plt.xlabel('Epochs')\n",
        "plt.legend()\n",
        "plt.show()"
      ],
      "execution_count": null,
      "outputs": [
        {
          "output_type": "display_data",
          "data": {
            "image/png": "[encoded data removed]",
            "text/plain": [
              "<Figure size 720x504 with 1 Axes>"
            ]
          },
          "metadata": {
            "tags": [],
            "needs_background": "light"
          }
        }
      ]
    },
    {
      "cell_type": "code",
      "metadata": {
        "id": "wiRKZ9Jlehjf",
        "colab_type": "code",
        "colab": {}
      },
      "source": [
        ""
      ],
      "execution_count": null,
      "outputs": []
    }
  ]
}