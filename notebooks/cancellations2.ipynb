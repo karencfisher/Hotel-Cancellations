{
  "nbformat": 4,
  "nbformat_minor": 0,
  "metadata": {
    "colab": {
      "name": "cancellations2.ipynb",
      "provenance": [],
      "authorship_tag": "ABX9TyNPDUSPqA2kkTak/02+OGmf",
      "include_colab_link": true
    },
    "kernelspec": {
      "name": "python3",
      "display_name": "Python 3"
    }
  },
  "cells": [
    {
      "cell_type": "markdown",
      "metadata": {
        "id": "view-in-github",
        "colab_type": "text"
      },
      "source": [
        "<a href=\"https://colab.research.google.com/github/karencfisher/Hotel-Cancellations/blob/master/notebooks/cancellations2.ipynb\" target=\"_parent\"><img src=\"https://colab.research.google.com/assets/colab-badge.svg\" alt=\"Open In Colab\"/></a>"
      ]
    },
    {
      "cell_type": "code",
      "metadata": {
        "id": "Xf5iQ_ad1JS_",
        "colab_type": "code",
        "outputId": "f2a1903a-94ac-4975-b8f3-aa684a6779da",
        "colab": {
          "base_uri": "https://localhost:8080/",
          "height": 603
        }
      },
      "source": [
        "!pip install category_encoders==2.*\n",
        "!pip install eli5\n",
        "\n",
        "!wget https://raw.githubusercontent.com/karencfisher/Hotel-Cancellations/master/tools.py\n",
        "\n",
        "import tools\n",
        "import pandas as pd\n",
        "from sklearn.model_selection import train_test_split\n",
        "import numpy as np\n",
        "\n",
        "import category_encoders as ce\n",
        "\n",
        "from sklearn.pipeline import make_pipeline\n",
        "from sklearn.impute import SimpleImputer\n",
        "from sklearn.ensemble import RandomForestClassifier\n",
        "\n",
        "from imblearn.over_sampling import SMOTE\n",
        "from imblearn.pipeline import make_pipeline as make_imb_pipeline\n",
        "\n",
        "import eli5\n",
        "from eli5.sklearn import PermutationImportance\n",
        "\n",
        "# Load dataset\n",
        "url = 'https://raw.githubusercontent.com/karencfisher/Hotel-Cancellations/master/hotel_bookings.csv'\n",
        "df = pd.read_csv(url)\n",
        "\n",
        "# Correct some target values -- should be 'no-show' or 'cancellation' when checkout and\n",
        "# arrival dates same indicating no stay\n",
        "df = tools.fixTarget(df)\n",
        "\n",
        "# Prepare training, validation, and test sets\n",
        "X = df.drop('reservation_status', axis=1)\n",
        "y= df['reservation_status']\n",
        "X_train, X_test, y_train, y_test = train_test_split(X, y, test_size=.3, random_state=42,\n",
        "                                                    stratify=y)\n",
        "X_train, X_val, y_train, y_val = train_test_split(X_train, y_train, test_size=.2,\n",
        "                                                  random_state=42, stratify=y_train)"
      ],
      "execution_count": 13,
      "outputs": [
        {
          "output_type": "stream",
          "text": [
            "Requirement already satisfied: category_encoders==2.* in /usr/local/lib/python3.6/dist-packages (2.2.2)\n",
            "Requirement already satisfied: statsmodels>=0.9.0 in /usr/local/lib/python3.6/dist-packages (from category_encoders==2.*) (0.10.2)\n",
            "Requirement already satisfied: patsy>=0.5.1 in /usr/local/lib/python3.6/dist-packages (from category_encoders==2.*) (0.5.1)\n",
            "Requirement already satisfied: pandas>=0.21.1 in /usr/local/lib/python3.6/dist-packages (from category_encoders==2.*) (1.0.4)\n",
            "Requirement already satisfied: scikit-learn>=0.20.0 in /usr/local/lib/python3.6/dist-packages (from category_encoders==2.*) (0.22.2.post1)\n",
            "Requirement already satisfied: numpy>=1.14.0 in /usr/local/lib/python3.6/dist-packages (from category_encoders==2.*) (1.18.5)\n",
            "Requirement already satisfied: scipy>=1.0.0 in /usr/local/lib/python3.6/dist-packages (from category_encoders==2.*) (1.4.1)\n",
            "Requirement already satisfied: six in /usr/local/lib/python3.6/dist-packages (from patsy>=0.5.1->category_encoders==2.*) (1.12.0)\n",
            "Requirement already satisfied: pytz>=2017.2 in /usr/local/lib/python3.6/dist-packages (from pandas>=0.21.1->category_encoders==2.*) (2018.9)\n",
            "Requirement already satisfied: python-dateutil>=2.6.1 in /usr/local/lib/python3.6/dist-packages (from pandas>=0.21.1->category_encoders==2.*) (2.8.1)\n",
            "Requirement already satisfied: joblib>=0.11 in /usr/local/lib/python3.6/dist-packages (from scikit-learn>=0.20.0->category_encoders==2.*) (0.15.1)\n",
            "Requirement already satisfied: eli5 in /usr/local/lib/python3.6/dist-packages (0.10.1)\n",
            "Requirement already satisfied: six in /usr/local/lib/python3.6/dist-packages (from eli5) (1.12.0)\n",
            "Requirement already satisfied: attrs>16.0.0 in /usr/local/lib/python3.6/dist-packages (from eli5) (19.3.0)\n",
            "Requirement already satisfied: numpy>=1.9.0 in /usr/local/lib/python3.6/dist-packages (from eli5) (1.18.5)\n",
            "Requirement already satisfied: graphviz in /usr/local/lib/python3.6/dist-packages (from eli5) (0.10.1)\n",
            "Requirement already satisfied: scipy in /usr/local/lib/python3.6/dist-packages (from eli5) (1.4.1)\n",
            "Requirement already satisfied: tabulate>=0.7.7 in /usr/local/lib/python3.6/dist-packages (from eli5) (0.8.7)\n",
            "Requirement already satisfied: scikit-learn>=0.18 in /usr/local/lib/python3.6/dist-packages (from eli5) (0.22.2.post1)\n",
            "Requirement already satisfied: jinja2 in /usr/local/lib/python3.6/dist-packages (from eli5) (2.11.2)\n",
            "Requirement already satisfied: joblib>=0.11 in /usr/local/lib/python3.6/dist-packages (from scikit-learn>=0.18->eli5) (0.15.1)\n",
            "Requirement already satisfied: MarkupSafe>=0.23 in /usr/local/lib/python3.6/dist-packages (from jinja2->eli5) (1.1.1)\n",
            "--2020-06-10 05:17:03--  https://raw.githubusercontent.com/karencfisher/Hotel-Cancellations/master/tools.py\n",
            "Resolving raw.githubusercontent.com (raw.githubusercontent.com)... 151.101.0.133, 151.101.64.133, 151.101.128.133, ...\n",
            "Connecting to raw.githubusercontent.com (raw.githubusercontent.com)|151.101.0.133|:443... connected.\n",
            "HTTP request sent, awaiting response... 200 OK\n",
            "Length: 8853 (8.6K) [text/plain]\n",
            "Saving to: ‘tools.py.1’\n",
            "\n",
            "tools.py.1          100%[===================>]   8.65K  --.-KB/s    in 0s      \n",
            "\n",
            "2020-06-10 05:17:04 (52.4 MB/s) - ‘tools.py.1’ saved [8853/8853]\n",
            "\n"
          ],
          "name": "stdout"
        }
      ]
    },
    {
      "cell_type": "code",
      "metadata": {
        "id": "S5LVYZ6SLi4P",
        "colab_type": "code",
        "colab": {}
      },
      "source": [
        "import category_encoders as ce\n",
        "\n",
        "from sklearn.pipeline import make_pipeline\n",
        "from sklearn.impute import SimpleImputer\n",
        "from sklearn.ensemble import RandomForestClassifier\n",
        "\n",
        "from imblearn.over_sampling import SMOTE\n",
        "from imblearn.pipeline import make_pipeline as make_imb_pipeline\n",
        "\n",
        "import eli5\n",
        "from eli5.sklearn import PermutationImportance"
      ],
      "execution_count": 0,
      "outputs": []
    },
    {
      "cell_type": "code",
      "metadata": {
        "id": "a0g9kOvv5Fph",
        "colab_type": "code",
        "outputId": "56077543-b4f1-41c9-b48c-2cbdb77ad95d",
        "colab": {
          "base_uri": "https://localhost:8080/",
          "height": 534
        }
      },
      "source": [
        "tools.wrangleData(max_cardinality=50).transform(X_train).sample(10)"
      ],
      "execution_count": 15,
      "outputs": [
        {
          "output_type": "execute_result",
          "data": {
            "text/html": [
              "<div>\n",
              "<style scoped>\n",
              "    .dataframe tbody tr th:only-of-type {\n",
              "        vertical-align: middle;\n",
              "    }\n",
              "\n",
              "    .dataframe tbody tr th {\n",
              "        vertical-align: top;\n",
              "    }\n",
              "\n",
              "    .dataframe thead th {\n",
              "        text-align: right;\n",
              "    }\n",
              "</style>\n",
              "<table border=\"1\" class=\"dataframe\">\n",
              "  <thead>\n",
              "    <tr style=\"text-align: right;\">\n",
              "      <th></th>\n",
              "      <th>hotel</th>\n",
              "      <th>lead_time</th>\n",
              "      <th>arrival_date_week_number</th>\n",
              "      <th>adults</th>\n",
              "      <th>meal</th>\n",
              "      <th>market_segment</th>\n",
              "      <th>is_repeated_guest</th>\n",
              "      <th>previous_cancellations</th>\n",
              "      <th>booking_changes</th>\n",
              "      <th>deposit_type</th>\n",
              "      <th>days_in_waiting_list</th>\n",
              "      <th>customer_type</th>\n",
              "      <th>adr</th>\n",
              "      <th>required_car_parking_spaces</th>\n",
              "      <th>total_of_special_requests</th>\n",
              "      <th>nights_stay</th>\n",
              "      <th>room_type_changed</th>\n",
              "    </tr>\n",
              "  </thead>\n",
              "  <tbody>\n",
              "    <tr>\n",
              "      <th>43692</th>\n",
              "      <td>City Hotel</td>\n",
              "      <td>83</td>\n",
              "      <td>39</td>\n",
              "      <td>2.0</td>\n",
              "      <td>BB</td>\n",
              "      <td>Groups</td>\n",
              "      <td>0</td>\n",
              "      <td>0</td>\n",
              "      <td>0</td>\n",
              "      <td>No Deposit</td>\n",
              "      <td>0</td>\n",
              "      <td>Transient-Party</td>\n",
              "      <td>62.00</td>\n",
              "      <td>0</td>\n",
              "      <td>0</td>\n",
              "      <td>2.0</td>\n",
              "      <td>True</td>\n",
              "    </tr>\n",
              "    <tr>\n",
              "      <th>10609</th>\n",
              "      <td>Resort Hotel</td>\n",
              "      <td>283</td>\n",
              "      <td>12</td>\n",
              "      <td>2.0</td>\n",
              "      <td>BB</td>\n",
              "      <td>Direct</td>\n",
              "      <td>0</td>\n",
              "      <td>0</td>\n",
              "      <td>0</td>\n",
              "      <td>No Deposit</td>\n",
              "      <td>0</td>\n",
              "      <td>Transient</td>\n",
              "      <td>63.30</td>\n",
              "      <td>0</td>\n",
              "      <td>0</td>\n",
              "      <td>1.0</td>\n",
              "      <td>False</td>\n",
              "    </tr>\n",
              "    <tr>\n",
              "      <th>20808</th>\n",
              "      <td>Resort Hotel</td>\n",
              "      <td>17</td>\n",
              "      <td>6</td>\n",
              "      <td>2.0</td>\n",
              "      <td>BB</td>\n",
              "      <td>Offline TA/TO</td>\n",
              "      <td>0</td>\n",
              "      <td>0</td>\n",
              "      <td>0</td>\n",
              "      <td>No Deposit</td>\n",
              "      <td>0</td>\n",
              "      <td>Transient</td>\n",
              "      <td>NaN</td>\n",
              "      <td>0</td>\n",
              "      <td>0</td>\n",
              "      <td>6.0</td>\n",
              "      <td>False</td>\n",
              "    </tr>\n",
              "    <tr>\n",
              "      <th>38708</th>\n",
              "      <td>Resort Hotel</td>\n",
              "      <td>80</td>\n",
              "      <td>29</td>\n",
              "      <td>2.0</td>\n",
              "      <td>HB</td>\n",
              "      <td>Online TA</td>\n",
              "      <td>0</td>\n",
              "      <td>0</td>\n",
              "      <td>1</td>\n",
              "      <td>No Deposit</td>\n",
              "      <td>0</td>\n",
              "      <td>Transient</td>\n",
              "      <td>257.00</td>\n",
              "      <td>0</td>\n",
              "      <td>2</td>\n",
              "      <td>7.0</td>\n",
              "      <td>False</td>\n",
              "    </tr>\n",
              "    <tr>\n",
              "      <th>22826</th>\n",
              "      <td>Resort Hotel</td>\n",
              "      <td>8</td>\n",
              "      <td>15</td>\n",
              "      <td>2.0</td>\n",
              "      <td>BB</td>\n",
              "      <td>Online TA</td>\n",
              "      <td>0</td>\n",
              "      <td>0</td>\n",
              "      <td>1</td>\n",
              "      <td>No Deposit</td>\n",
              "      <td>0</td>\n",
              "      <td>Transient</td>\n",
              "      <td>131.00</td>\n",
              "      <td>1</td>\n",
              "      <td>0</td>\n",
              "      <td>5.0</td>\n",
              "      <td>False</td>\n",
              "    </tr>\n",
              "    <tr>\n",
              "      <th>6857</th>\n",
              "      <td>Resort Hotel</td>\n",
              "      <td>181</td>\n",
              "      <td>28</td>\n",
              "      <td>1.0</td>\n",
              "      <td>BB</td>\n",
              "      <td>Online TA</td>\n",
              "      <td>0</td>\n",
              "      <td>0</td>\n",
              "      <td>0</td>\n",
              "      <td>No Deposit</td>\n",
              "      <td>0</td>\n",
              "      <td>Transient</td>\n",
              "      <td>72.90</td>\n",
              "      <td>0</td>\n",
              "      <td>1</td>\n",
              "      <td>7.0</td>\n",
              "      <td>False</td>\n",
              "    </tr>\n",
              "    <tr>\n",
              "      <th>93370</th>\n",
              "      <td>City Hotel</td>\n",
              "      <td>179</td>\n",
              "      <td>30</td>\n",
              "      <td>2.0</td>\n",
              "      <td>BB</td>\n",
              "      <td>Online TA</td>\n",
              "      <td>0</td>\n",
              "      <td>0</td>\n",
              "      <td>0</td>\n",
              "      <td>No Deposit</td>\n",
              "      <td>0</td>\n",
              "      <td>Transient</td>\n",
              "      <td>90.95</td>\n",
              "      <td>0</td>\n",
              "      <td>1</td>\n",
              "      <td>4.0</td>\n",
              "      <td>False</td>\n",
              "    </tr>\n",
              "    <tr>\n",
              "      <th>49285</th>\n",
              "      <td>City Hotel</td>\n",
              "      <td>110</td>\n",
              "      <td>15</td>\n",
              "      <td>2.0</td>\n",
              "      <td>BB</td>\n",
              "      <td>Online TA</td>\n",
              "      <td>0</td>\n",
              "      <td>0</td>\n",
              "      <td>0</td>\n",
              "      <td>No Deposit</td>\n",
              "      <td>0</td>\n",
              "      <td>Transient-Party</td>\n",
              "      <td>93.30</td>\n",
              "      <td>0</td>\n",
              "      <td>0</td>\n",
              "      <td>3.0</td>\n",
              "      <td>False</td>\n",
              "    </tr>\n",
              "    <tr>\n",
              "      <th>105330</th>\n",
              "      <td>City Hotel</td>\n",
              "      <td>21</td>\n",
              "      <td>5</td>\n",
              "      <td>2.0</td>\n",
              "      <td>SC</td>\n",
              "      <td>Online TA</td>\n",
              "      <td>0</td>\n",
              "      <td>0</td>\n",
              "      <td>0</td>\n",
              "      <td>No Deposit</td>\n",
              "      <td>0</td>\n",
              "      <td>Transient</td>\n",
              "      <td>64.37</td>\n",
              "      <td>0</td>\n",
              "      <td>1</td>\n",
              "      <td>2.0</td>\n",
              "      <td>False</td>\n",
              "    </tr>\n",
              "    <tr>\n",
              "      <th>8722</th>\n",
              "      <td>Resort Hotel</td>\n",
              "      <td>363</td>\n",
              "      <td>42</td>\n",
              "      <td>2.0</td>\n",
              "      <td>BB</td>\n",
              "      <td>Groups</td>\n",
              "      <td>0</td>\n",
              "      <td>0</td>\n",
              "      <td>3</td>\n",
              "      <td>No Deposit</td>\n",
              "      <td>0</td>\n",
              "      <td>Transient-Party</td>\n",
              "      <td>66.00</td>\n",
              "      <td>0</td>\n",
              "      <td>0</td>\n",
              "      <td>6.0</td>\n",
              "      <td>True</td>\n",
              "    </tr>\n",
              "  </tbody>\n",
              "</table>\n",
              "</div>"
            ],
            "text/plain": [
              "               hotel  lead_time  ...  nights_stay  room_type_changed\n",
              "43692     City Hotel         83  ...          2.0               True\n",
              "10609   Resort Hotel        283  ...          1.0              False\n",
              "20808   Resort Hotel         17  ...          6.0              False\n",
              "38708   Resort Hotel         80  ...          7.0              False\n",
              "22826   Resort Hotel          8  ...          5.0              False\n",
              "6857    Resort Hotel        181  ...          7.0              False\n",
              "93370     City Hotel        179  ...          4.0              False\n",
              "49285     City Hotel        110  ...          3.0              False\n",
              "105330    City Hotel         21  ...          2.0              False\n",
              "8722    Resort Hotel        363  ...          6.0               True\n",
              "\n",
              "[10 rows x 17 columns]"
            ]
          },
          "metadata": {
            "tags": []
          },
          "execution_count": 15
        }
      ]
    },
    {
      "cell_type": "code",
      "metadata": {
        "id": "QhKTL0dCR9WG",
        "colab_type": "code",
        "colab": {}
      },
      "source": [
        "y_train = y_train != 'Check-Out'\n",
        "y_val = y_val != 'Check-Out'\n",
        "y_test = y_test != 'Check-Out'"
      ],
      "execution_count": 0,
      "outputs": []
    },
    {
      "cell_type": "code",
      "metadata": {
        "id": "AFSslXuRBmZq",
        "colab_type": "code",
        "outputId": "a1fbc5b4-f14b-475b-bda2-ea9a026f7958",
        "colab": {
          "base_uri": "https://localhost:8080/",
          "height": 450
        }
      },
      "source": [
        "\n",
        "from xgboost import XGBClassifier\n",
        "\n",
        "xg_pipeline = make_imb_pipeline(tools.wrangleData(max_cardinality=50),\n",
        "                            ce.OrdinalEncoder(),\n",
        "                            SimpleImputer(),\n",
        "                            SMOTE(random_state=42),\n",
        "                            XGBClassifier(random_state=42,\n",
        "                                          n_estimators=1500,\n",
        "                                          max_depth=5,\n",
        "                                          learning_rate=0.25,\n",
        "                                          n_jobs=-1))\n",
        "\n",
        "tools.tryModel(xg_pipeline, X_train, y_train, X_val, y_val)"
      ],
      "execution_count": 17,
      "outputs": [
        {
          "output_type": "stream",
          "text": [
            "/usr/local/lib/python3.6/dist-packages/sklearn/utils/deprecation.py:87: FutureWarning: Function safe_indexing is deprecated; safe_indexing is deprecated in version 0.22 and will be removed in version 0.24.\n",
            "  warnings.warn(msg, category=FutureWarning)\n"
          ],
          "name": "stderr"
        },
        {
          "output_type": "stream",
          "text": [
            "\n",
            "\n",
            "Train score = 92.98513266923928 %\n",
            "Validate score = 85.33054142985343 %\n",
            "\n",
            "\n"
          ],
          "name": "stdout"
        },
        {
          "output_type": "display_data",
          "data": {
            "text/plain": [
              "'Confusion Matrix'"
            ]
          },
          "metadata": {
            "tags": []
          }
        },
        {
          "output_type": "display_data",
          "data": {
            "text/html": [
              "<div>\n",
              "<style scoped>\n",
              "    .dataframe tbody tr th:only-of-type {\n",
              "        vertical-align: middle;\n",
              "    }\n",
              "\n",
              "    .dataframe tbody tr th {\n",
              "        vertical-align: top;\n",
              "    }\n",
              "\n",
              "    .dataframe thead th {\n",
              "        text-align: right;\n",
              "    }\n",
              "</style>\n",
              "<table border=\"1\" class=\"dataframe\">\n",
              "  <thead>\n",
              "    <tr style=\"text-align: right;\">\n",
              "      <th></th>\n",
              "      <th>False</th>\n",
              "      <th>True</th>\n",
              "    </tr>\n",
              "  </thead>\n",
              "  <tbody>\n",
              "    <tr>\n",
              "      <th>False</th>\n",
              "      <td>9442</td>\n",
              "      <td>983</td>\n",
              "    </tr>\n",
              "    <tr>\n",
              "      <th>True</th>\n",
              "      <td>1469</td>\n",
              "      <td>4821</td>\n",
              "    </tr>\n",
              "  </tbody>\n",
              "</table>\n",
              "</div>"
            ],
            "text/plain": [
              "       False  True \n",
              "False   9442    983\n",
              "True    1469   4821"
            ]
          },
          "metadata": {
            "tags": []
          }
        },
        {
          "output_type": "stream",
          "text": [
            "\n",
            "\n",
            "\n"
          ],
          "name": "stdout"
        },
        {
          "output_type": "display_data",
          "data": {
            "text/plain": [
              "'Metrics'"
            ]
          },
          "metadata": {
            "tags": []
          }
        },
        {
          "output_type": "display_data",
          "data": {
            "text/html": [
              "<div>\n",
              "<style scoped>\n",
              "    .dataframe tbody tr th:only-of-type {\n",
              "        vertical-align: middle;\n",
              "    }\n",
              "\n",
              "    .dataframe tbody tr th {\n",
              "        vertical-align: top;\n",
              "    }\n",
              "\n",
              "    .dataframe thead th {\n",
              "        text-align: right;\n",
              "    }\n",
              "</style>\n",
              "<table border=\"1\" class=\"dataframe\">\n",
              "  <thead>\n",
              "    <tr style=\"text-align: right;\">\n",
              "      <th></th>\n",
              "      <th>precision</th>\n",
              "      <th>recall</th>\n",
              "      <th>f1-score</th>\n",
              "    </tr>\n",
              "  </thead>\n",
              "  <tbody>\n",
              "    <tr>\n",
              "      <th>False</th>\n",
              "      <td>0.865365</td>\n",
              "      <td>0.905707</td>\n",
              "      <td>0.885077</td>\n",
              "    </tr>\n",
              "    <tr>\n",
              "      <th>True</th>\n",
              "      <td>0.830634</td>\n",
              "      <td>0.766455</td>\n",
              "      <td>0.797255</td>\n",
              "    </tr>\n",
              "  </tbody>\n",
              "</table>\n",
              "</div>"
            ],
            "text/plain": [
              "       precision    recall  f1-score\n",
              "False   0.865365  0.905707  0.885077\n",
              "True    0.830634  0.766455  0.797255"
            ]
          },
          "metadata": {
            "tags": []
          }
        }
      ]
    },
    {
      "cell_type": "code",
      "metadata": {
        "id": "tuqVnfZNbOam",
        "colab_type": "code",
        "colab": {}
      },
      "source": [
        "from sklearn.model_selection import GridSearchCV, RandomizedSearchCV"
      ],
      "execution_count": 0,
      "outputs": []
    },
    {
      "cell_type": "code",
      "metadata": {
        "id": "OOvJ2SYpbGHz",
        "colab_type": "code",
        "colab": {
          "base_uri": "https://localhost:8080/",
          "height": 1000
        },
        "outputId": "85517b86-762d-4c9e-9f82-28b410e3c4f0"
      },
      "source": [
        "xg_pipeline1 = make_imb_pipeline(tools.wrangleData(max_cardinality=50),\n",
        "                            ce.OrdinalEncoder(),\n",
        "                            SimpleImputer(),\n",
        "                            SMOTE(random_state=42),\n",
        "                            XGBClassifier(random_state=42,\n",
        "                                          n_jobs=-1))\n",
        "\n",
        "params = {\"xgbclassifier__learning_rate\"    : [0.05, 0.10, 0.15, 0.20, 0.25, 0.30 ] ,\n",
        "          \"xgbclassifier__max_depth\"        : [ 3, 4, 5, 6, 8, 10, 12, 15],\n",
        "          \"xgbclassifier__min_child_weight\" : [ 1, 3, 5, 7 ],\n",
        "          \"xgbclassifier__gamma\"            : [ 0.0, 0.1, 0.2 , 0.3, 0.4 ],\n",
        "          \"xgbclassifier__colsample_bytree\" : [ 0.3, 0.4, 0.5 , 0.7 ],\n",
        "          \"xgbclassifier__max_leaves\"       : [0, 2, 4, 8, 10]}\n",
        "\n",
        "search = RandomizedSearchCV(xg_pipeline1, params, n_iter=100, scoring='accuracy', n_jobs=-1,\n",
        "                            random_state=42, verbose=10, cv=3)\n",
        "search.fit(X_train, y_train)"
      ],
      "execution_count": 32,
      "outputs": [
        {
          "output_type": "stream",
          "text": [
            "Fitting 3 folds for each of 100 candidates, totalling 300 fits\n"
          ],
          "name": "stdout"
        },
        {
          "output_type": "stream",
          "text": [
            "[Parallel(n_jobs=-1)]: Using backend LokyBackend with 2 concurrent workers.\n",
            "[Parallel(n_jobs=-1)]: Done   1 tasks      | elapsed:   18.3s\n",
            "[Parallel(n_jobs=-1)]: Done   4 tasks      | elapsed:   33.9s\n",
            "[Parallel(n_jobs=-1)]: Done   9 tasks      | elapsed:   58.3s\n",
            "[Parallel(n_jobs=-1)]: Done  14 tasks      | elapsed:  1.6min\n",
            "[Parallel(n_jobs=-1)]: Done  21 tasks      | elapsed:  2.0min\n",
            "[Parallel(n_jobs=-1)]: Done  28 tasks      | elapsed:  2.6min\n",
            "[Parallel(n_jobs=-1)]: Done  37 tasks      | elapsed:  3.1min\n",
            "[Parallel(n_jobs=-1)]: Done  46 tasks      | elapsed:  3.7min\n",
            "[Parallel(n_jobs=-1)]: Done  57 tasks      | elapsed:  4.9min\n",
            "[Parallel(n_jobs=-1)]: Done  68 tasks      | elapsed:  5.8min\n",
            "[Parallel(n_jobs=-1)]: Done  81 tasks      | elapsed:  6.7min\n",
            "[Parallel(n_jobs=-1)]: Done  94 tasks      | elapsed:  8.2min\n",
            "[Parallel(n_jobs=-1)]: Done 109 tasks      | elapsed:  9.5min\n",
            "[Parallel(n_jobs=-1)]: Done 124 tasks      | elapsed: 11.4min\n",
            "[Parallel(n_jobs=-1)]: Done 141 tasks      | elapsed: 12.8min\n",
            "[Parallel(n_jobs=-1)]: Done 158 tasks      | elapsed: 14.9min\n",
            "[Parallel(n_jobs=-1)]: Done 177 tasks      | elapsed: 17.1min\n",
            "[Parallel(n_jobs=-1)]: Done 196 tasks      | elapsed: 18.4min\n",
            "[Parallel(n_jobs=-1)]: Done 217 tasks      | elapsed: 20.4min\n",
            "[Parallel(n_jobs=-1)]: Done 238 tasks      | elapsed: 22.3min\n",
            "[Parallel(n_jobs=-1)]: Done 261 tasks      | elapsed: 24.1min\n",
            "[Parallel(n_jobs=-1)]: Done 284 tasks      | elapsed: 26.4min\n",
            "[Parallel(n_jobs=-1)]: Done 300 out of 300 | elapsed: 27.9min finished\n",
            "/usr/local/lib/python3.6/dist-packages/sklearn/utils/deprecation.py:87: FutureWarning: Function safe_indexing is deprecated; safe_indexing is deprecated in version 0.22 and will be removed in version 0.24.\n",
            "  warnings.warn(msg, category=FutureWarning)\n"
          ],
          "name": "stderr"
        },
        {
          "output_type": "execute_result",
          "data": {
            "text/plain": [
              "RandomizedSearchCV(cv=3, error_score=nan,\n",
              "                   estimator=Pipeline(memory=None,\n",
              "                                      steps=[('wrangledata',\n",
              "                                              wrangleData(max_cardinality=50,\n",
              "                                                          remove_dates=True)),\n",
              "                                             ('ordinalencoder',\n",
              "                                              OrdinalEncoder(cols=None,\n",
              "                                                             drop_invariant=False,\n",
              "                                                             handle_missing='value',\n",
              "                                                             handle_unknown='value',\n",
              "                                                             mapping=None,\n",
              "                                                             return_df=True,\n",
              "                                                             verbose=0)),\n",
              "                                             ('simpleimputer',\n",
              "                                              SimpleImputer(add_indicator=False,\n",
              "                                                            copy=...\n",
              "                                                                            0.7],\n",
              "                                        'xgbclassifier__gamma': [0.0, 0.1, 0.2,\n",
              "                                                                 0.3, 0.4],\n",
              "                                        'xgbclassifier__learning_rate': [0.05,\n",
              "                                                                         0.1,\n",
              "                                                                         0.15,\n",
              "                                                                         0.2,\n",
              "                                                                         0.25,\n",
              "                                                                         0.3],\n",
              "                                        'xgbclassifier__max_depth': [3, 4, 5, 6,\n",
              "                                                                     8, 10, 12,\n",
              "                                                                     15],\n",
              "                                        'xgbclassifier__max_leaves': [0, 2, 4,\n",
              "                                                                      8, 10],\n",
              "                                        'xgbclassifier__min_child_weight': [1,\n",
              "                                                                            3,\n",
              "                                                                            5,\n",
              "                                                                            7]},\n",
              "                   pre_dispatch='2*n_jobs', random_state=42, refit=True,\n",
              "                   return_train_score=False, scoring='accuracy', verbose=10)"
            ]
          },
          "metadata": {
            "tags": []
          },
          "execution_count": 32
        }
      ]
    },
    {
      "cell_type": "code",
      "metadata": {
        "id": "4g3QxBjrRVT9",
        "colab_type": "code",
        "colab": {
          "base_uri": "https://localhost:8080/",
          "height": 123
        },
        "outputId": "e00c94a8-a07e-476e-afa2-d166e332e0f7"
      },
      "source": [
        "search.best_params_"
      ],
      "execution_count": 33,
      "outputs": [
        {
          "output_type": "execute_result",
          "data": {
            "text/plain": [
              "{'xgbclassifier__colsample_bytree': 0.7,\n",
              " 'xgbclassifier__gamma': 0.3,\n",
              " 'xgbclassifier__learning_rate': 0.2,\n",
              " 'xgbclassifier__max_depth': 15,\n",
              " 'xgbclassifier__max_leaves': 8,\n",
              " 'xgbclassifier__min_child_weight': 1}"
            ]
          },
          "metadata": {
            "tags": []
          },
          "execution_count": 33
        }
      ]
    },
    {
      "cell_type": "code",
      "metadata": {
        "id": "scCrTE0kSjee",
        "colab_type": "code",
        "colab": {
          "base_uri": "https://localhost:8080/",
          "height": 34
        },
        "outputId": "952010b4-d3c3-4ed5-99e1-bea80223256f"
      },
      "source": [
        "search.best_score_"
      ],
      "execution_count": 34,
      "outputs": [
        {
          "output_type": "execute_result",
          "data": {
            "text/plain": [
              "0.8510873792216339"
            ]
          },
          "metadata": {
            "tags": []
          },
          "execution_count": 34
        }
      ]
    },
    {
      "cell_type": "code",
      "metadata": {
        "id": "oJXw6i-kRYeK",
        "colab_type": "code",
        "colab": {
          "base_uri": "https://localhost:8080/",
          "height": 450
        },
        "outputId": "418900ca-87ce-469d-b075-6ee81f29cadb"
      },
      "source": [
        "xg_pipeline2 = make_imb_pipeline(tools.wrangleData(max_cardinality=50),\n",
        "                            ce.OrdinalEncoder(),\n",
        "                            SimpleImputer(),\n",
        "                            SMOTE(random_state=42),\n",
        "                            XGBClassifier(random_state=42,\n",
        "                                          n_jobs=-1,\n",
        "                                          colsample_bytree=0.7,\n",
        "                                          gamma=0.3,\n",
        "                                          learning_rate=0.2,\n",
        "                                          max_depth=15,\n",
        "                                          max_leaves=5,\n",
        "                                          min_child_weight=1))\n",
        "\n",
        "tools.tryModel(xg_pipeline2, X_train, y_train, X_val, y_val)"
      ],
      "execution_count": 61,
      "outputs": [
        {
          "output_type": "stream",
          "text": [
            "/usr/local/lib/python3.6/dist-packages/sklearn/utils/deprecation.py:87: FutureWarning: Function safe_indexing is deprecated; safe_indexing is deprecated in version 0.22 and will be removed in version 0.24.\n",
            "  warnings.warn(msg, category=FutureWarning)\n"
          ],
          "name": "stderr"
        },
        {
          "output_type": "stream",
          "text": [
            "\n",
            "\n",
            "Train score = 94.63190642855007 %\n",
            "Validate score = 85.68950044869878 %\n",
            "\n",
            "\n"
          ],
          "name": "stdout"
        },
        {
          "output_type": "display_data",
          "data": {
            "text/plain": [
              "'Confusion Matrix'"
            ]
          },
          "metadata": {
            "tags": []
          }
        },
        {
          "output_type": "display_data",
          "data": {
            "text/html": [
              "<div>\n",
              "<style scoped>\n",
              "    .dataframe tbody tr th:only-of-type {\n",
              "        vertical-align: middle;\n",
              "    }\n",
              "\n",
              "    .dataframe tbody tr th {\n",
              "        vertical-align: top;\n",
              "    }\n",
              "\n",
              "    .dataframe thead th {\n",
              "        text-align: right;\n",
              "    }\n",
              "</style>\n",
              "<table border=\"1\" class=\"dataframe\">\n",
              "  <thead>\n",
              "    <tr style=\"text-align: right;\">\n",
              "      <th></th>\n",
              "      <th>False</th>\n",
              "      <th>True</th>\n",
              "    </tr>\n",
              "  </thead>\n",
              "  <tbody>\n",
              "    <tr>\n",
              "      <th>False</th>\n",
              "      <td>9491</td>\n",
              "      <td>934</td>\n",
              "    </tr>\n",
              "    <tr>\n",
              "      <th>True</th>\n",
              "      <td>1458</td>\n",
              "      <td>4832</td>\n",
              "    </tr>\n",
              "  </tbody>\n",
              "</table>\n",
              "</div>"
            ],
            "text/plain": [
              "       False  True \n",
              "False   9491    934\n",
              "True    1458   4832"
            ]
          },
          "metadata": {
            "tags": []
          }
        },
        {
          "output_type": "stream",
          "text": [
            "\n",
            "\n",
            "\n"
          ],
          "name": "stdout"
        },
        {
          "output_type": "display_data",
          "data": {
            "text/plain": [
              "'Metrics'"
            ]
          },
          "metadata": {
            "tags": []
          }
        },
        {
          "output_type": "display_data",
          "data": {
            "text/html": [
              "<div>\n",
              "<style scoped>\n",
              "    .dataframe tbody tr th:only-of-type {\n",
              "        vertical-align: middle;\n",
              "    }\n",
              "\n",
              "    .dataframe tbody tr th {\n",
              "        vertical-align: top;\n",
              "    }\n",
              "\n",
              "    .dataframe thead th {\n",
              "        text-align: right;\n",
              "    }\n",
              "</style>\n",
              "<table border=\"1\" class=\"dataframe\">\n",
              "  <thead>\n",
              "    <tr style=\"text-align: right;\">\n",
              "      <th></th>\n",
              "      <th>precision</th>\n",
              "      <th>recall</th>\n",
              "      <th>f1-score</th>\n",
              "    </tr>\n",
              "  </thead>\n",
              "  <tbody>\n",
              "    <tr>\n",
              "      <th>False</th>\n",
              "      <td>0.866837</td>\n",
              "      <td>0.910408</td>\n",
              "      <td>0.888088</td>\n",
              "    </tr>\n",
              "    <tr>\n",
              "      <th>True</th>\n",
              "      <td>0.838016</td>\n",
              "      <td>0.768203</td>\n",
              "      <td>0.801593</td>\n",
              "    </tr>\n",
              "  </tbody>\n",
              "</table>\n",
              "</div>"
            ],
            "text/plain": [
              "       precision    recall  f1-score\n",
              "False   0.866837  0.910408  0.888088\n",
              "True    0.838016  0.768203  0.801593"
            ]
          },
          "metadata": {
            "tags": []
          }
        }
      ]
    },
    {
      "cell_type": "code",
      "metadata": {
        "id": "7BDHjfBhbQiH",
        "colab_type": "code",
        "colab": {
          "base_uri": "https://localhost:8080/",
          "height": 457
        },
        "outputId": "d7afadf4-7b9f-42b2-d1f2-f66461476329"
      },
      "source": [
        "model = xg_pipeline2.named_steps['xgbclassifier']\n",
        "wrang = xg_pipeline2.named_steps['wrangledata']\n",
        "tools.ROCcurves(y_val, X_val, xg_pipeline2, classes=model.classes_)"
      ],
      "execution_count": 39,
      "outputs": [
        {
          "output_type": "display_data",
          "data": {
            "image/png": "[encoded data removed]",
            "text/plain": [
              "<Figure size 720x504 with 1 Axes>"
            ]
          },
          "metadata": {
            "tags": [],
            "needs_background": "light"
          }
        }
      ]
    },
    {
      "cell_type": "code",
      "metadata": {
        "id": "pnlCsK32jz1r",
        "colab_type": "code",
        "colab": {
          "base_uri": "https://localhost:8080/",
          "height": 510
        },
        "outputId": "1ad7cf56-3eb4-4b88-cf42-58df296aa566"
      },
      "source": [
        "import matplotlib.pyplot as plt\n",
        "\n",
        "importances = pd.Series(model.feature_importances_, wrang.columns_)\n",
        "plt.figure(figsize=(10, len(wrang.columns_) / 2))\n",
        "importances.sort_values().plot.barh();"
      ],
      "execution_count": 62,
      "outputs": [
        {
          "output_type": "display_data",
          "data": {
            "image/png": "[encoded data removed]",
            "text/plain": [
              "<Figure size 720x612 with 1 Axes>"
            ]
          },
          "metadata": {
            "tags": [],
            "needs_background": "light"
          }
        }
      ]
    },
    {
      "cell_type": "code",
      "metadata": {
        "id": "UXwfwGaivcze",
        "colab_type": "code",
        "colab": {}
      },
      "source": [
        "def permutationImports(model):\n",
        "    # Pipeline for transformers alone\n",
        "    transformers = make_pipeline(tools.wrangleData(max_cardinality=50),\n",
        "                                ce.OrdinalEncoder(),\n",
        "                                SimpleImputer())\n",
        "\n",
        "    X_train_transformed = transformers.fit_transform(X_train)\n",
        "    X_val_transformed = transformers.transform(X_val)\n",
        "\n",
        "    # SMOTE resample on the training data\n",
        "    X_train_resample, y_train_resample = SMOTE(random_state=42).fit_sample(X_train_transformed,\n",
        "                                                                          y_train)\n",
        "    # fit the  model\n",
        "    model.fit(X_train_resample, y_train_resample)\n",
        "\n",
        "    # We'll look at the importances for both accuracy score and recall\n",
        "    permuter = PermutationImportance(\n",
        "        model,\n",
        "        scoring='accuracy',\n",
        "        random_state=42\n",
        "    )\n",
        "\n",
        "    permuter1 = PermutationImportance(\n",
        "        model,\n",
        "        scoring='recall',\n",
        "        random_state=42\n",
        "    )\n",
        "\n",
        "    permuter.fit(X_val_transformed, y_val)\n",
        "    permuter1.fit(X_val_transformed, y_val)\n",
        "\n",
        "    wrangler = transformers.named_steps['wrangledata']\n",
        "\n",
        "    print('Accuracy score\\n')\n",
        "    permute_scores = pd.Series(permuter.feature_importances_, wrangler.columns_)\n",
        "    display(permute_scores.sort_values(ascending=False))\n",
        "    print('\\n')\n",
        "\n",
        "    plt.figure(figsize=(10, len(wrangler.columns_) / 2))\n",
        "    permute_scores.sort_values().plot.barh()\n",
        "    plt.show()\n",
        "\n",
        "    print('\\nRecall scores\\n')\n",
        "    permute1_scores = pd.Series(permuter1.feature_importances_, wrangler.columns_)\n",
        "    display(permute1_scores.sort_values(ascending=False))\n",
        "    print('\\n')\n",
        "\n",
        "    plt.figure(figsize=(10, len(wrangler.columns_) / 2))\n",
        "    permute1_scores.sort_values().plot.barh()\n",
        "    plt.show()\n",
        "\n",
        "    return permute_scores, permute1_scores"
      ],
      "execution_count": 0,
      "outputs": []
    },
    {
      "cell_type": "code",
      "metadata": {
        "id": "6I342pP2wSs6",
        "colab_type": "code",
        "colab": {
          "base_uri": "https://localhost:8080/",
          "height": 1000
        },
        "outputId": "7b7ccc88-d584-4970-d5be-058aa2056aa2"
      },
      "source": [
        "xg_model = XGBClassifier(random_state=42,\n",
        "                        n_jobs=-1,\n",
        "                        colsample_bytree=0.7,\n",
        "                        gamma=0.3,\n",
        "                        learning_rate=0.2,\n",
        "                        max_depth=15,\n",
        "                        max_leaves=5,\n",
        "                        min_child_weight=1)\n",
        "\n",
        "acc_scores, recall_scores = permutationImports(xg_model)"
      ],
      "execution_count": 69,
      "outputs": [
        {
          "output_type": "stream",
          "text": [
            "/usr/local/lib/python3.6/dist-packages/sklearn/utils/deprecation.py:87: FutureWarning: Function safe_indexing is deprecated; safe_indexing is deprecated in version 0.22 and will be removed in version 0.24.\n",
            "  warnings.warn(msg, category=FutureWarning)\n"
          ],
          "name": "stderr"
        },
        {
          "output_type": "stream",
          "text": [
            "Accuracy score\n",
            "\n"
          ],
          "name": "stdout"
        },
        {
          "output_type": "display_data",
          "data": {
            "text/plain": [
              "deposit_type                   0.078935\n",
              "lead_time                      0.061585\n",
              "total_of_special_requests      0.055076\n",
              "market_segment                 0.036039\n",
              "adr                            0.032462\n",
              "previous_cancellations         0.031947\n",
              "arrival_date_week_number       0.022363\n",
              "customer_type                  0.022196\n",
              "nights_stay                    0.021550\n",
              "room_type_changed              0.018319\n",
              "required_car_parking_spaces    0.013712\n",
              "booking_changes                0.013628\n",
              "hotel                          0.011020\n",
              "meal                           0.006282\n",
              "adults                         0.004571\n",
              "is_repeated_guest              0.003326\n",
              "days_in_waiting_list           0.001161\n",
              "dtype: float64"
            ]
          },
          "metadata": {
            "tags": []
          }
        },
        {
          "output_type": "stream",
          "text": [
            "\n",
            "\n"
          ],
          "name": "stdout"
        },
        {
          "output_type": "display_data",
          "data": {
            "image/png": "[encoded data removed]",
            "text/plain": [
              "<Figure size 720x612 with 1 Axes>"
            ]
          },
          "metadata": {
            "tags": [],
            "needs_background": "light"
          }
        },
        {
          "output_type": "stream",
          "text": [
            "\n",
            "Recall scores\n",
            "\n"
          ],
          "name": "stdout"
        },
        {
          "output_type": "display_data",
          "data": {
            "text/plain": [
              "market_segment                 0.095866\n",
              "adr                            0.085660\n",
              "lead_time                      0.076852\n",
              "customer_type                  0.070461\n",
              "deposit_type                   0.048045\n",
              "room_type_changed              0.045564\n",
              "total_of_special_requests      0.040604\n",
              "arrival_date_week_number       0.039491\n",
              "required_car_parking_spaces    0.026582\n",
              "nights_stay                    0.026010\n",
              "booking_changes                0.023847\n",
              "previous_cancellations         0.021431\n",
              "meal                           0.016216\n",
              "hotel                          0.014308\n",
              "is_repeated_guest              0.009634\n",
              "days_in_waiting_list           0.004070\n",
              "adults                         0.002957\n",
              "dtype: float64"
            ]
          },
          "metadata": {
            "tags": []
          }
        },
        {
          "output_type": "stream",
          "text": [
            "\n",
            "\n"
          ],
          "name": "stdout"
        },
        {
          "output_type": "display_data",
          "data": {
            "image/png": "[encoded data removed]",
            "text/plain": [
              "<Figure size 720x612 with 1 Axes>"
            ]
          },
          "metadata": {
            "tags": [],
            "needs_background": "light"
          }
        }
      ]
    }
  ]
}