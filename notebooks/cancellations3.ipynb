{
  "nbformat": 4,
  "nbformat_minor": 0,
  "metadata": {
    "colab": {
      "name": "cancellations3.ipynb",
      "provenance": [],
      "authorship_tag": "ABX9TyOTeY+XJ/hap9Ac2avkBVU1",
      "include_colab_link": true
    },
    "kernelspec": {
      "name": "python3",
      "display_name": "Python 3"
    }
  },
  "cells": [
    {
      "cell_type": "markdown",
      "metadata": {
        "id": "view-in-github",
        "colab_type": "text"
      },
      "source": [
        "<a href=\"https://colab.research.google.com/github/karencfisher/Hotel-Cancellations/blob/master/notebooks/cancellations3.ipynb\" target=\"_parent\"><img src=\"https://colab.research.google.com/assets/colab-badge.svg\" alt=\"Open In Colab\"/></a>"
      ]
    },
    {
      "cell_type": "code",
      "metadata": {
        "id": "Xf5iQ_ad1JS_",
        "colab_type": "code",
        "outputId": "f84f9a3f-7859-4a1c-8f83-7585f9a5f152",
        "colab": {
          "base_uri": "https://localhost:8080/",
          "height": 961
        }
      },
      "source": [
        "!pip install category_encoders==2.*\n",
        "!pip install eli5\n",
        "\n",
        "!wget https://raw.githubusercontent.com/karencfisher/Hotel-Cancellations/master/tools.py\n",
        "\n",
        "import tools\n",
        "import pandas as pd\n",
        "from sklearn.model_selection import train_test_split\n",
        "import numpy as np\n",
        "\n",
        "import category_encoders as ce\n",
        "\n",
        "from sklearn.pipeline import make_pipeline\n",
        "from sklearn.impute import SimpleImputer\n",
        "from sklearn.ensemble import RandomForestClassifier\n",
        "\n",
        "from imblearn.over_sampling import SMOTE\n",
        "from imblearn.pipeline import make_pipeline as make_imb_pipeline\n",
        "\n",
        "import eli5\n",
        "from eli5.sklearn import PermutationImportance\n",
        "\n",
        "# Load dataset\n",
        "url = 'https://raw.githubusercontent.com/karencfisher/Hotel-Cancellations/master/hotel_bookings.csv'\n",
        "df = pd.read_csv(url)\n",
        "\n",
        "# Correct some target values -- should be 'no-show' or 'cancellation' when checkout and\n",
        "# arrival dates same indicating no stay\n",
        "df = tools.fixTarget(df)\n",
        "\n",
        "# Prepare training, validation, and test sets\n",
        "X = df.drop('reservation_status', axis=1)\n",
        "y= df['reservation_status']\n",
        "X_train, X_test, y_train, y_test = train_test_split(X, y, test_size=.3, random_state=42,\n",
        "                                                    stratify=y)\n",
        "X_train, X_val, y_train, y_val = train_test_split(X_train, y_train, test_size=.2,\n",
        "                                                  random_state=42, stratify=y_train)"
      ],
      "execution_count": 1,
      "outputs": [
        {
          "output_type": "stream",
          "text": [
            "Collecting category_encoders==2.*\n",
            "\u001b[?25l  Downloading https://files.pythonhosted.org/packages/44/57/fcef41c248701ee62e8325026b90c432adea35555cbc870aff9cfba23727/category_encoders-2.2.2-py2.py3-none-any.whl (80kB)\n",
            "\r\u001b[K     |████                            | 10kB 18.2MB/s eta 0:00:01\r\u001b[K     |████████▏                       | 20kB 1.7MB/s eta 0:00:01\r\u001b[K     |████████████▏                   | 30kB 2.2MB/s eta 0:00:01\r\u001b[K     |████████████████▎               | 40kB 2.5MB/s eta 0:00:01\r\u001b[K     |████████████████████▎           | 51kB 1.9MB/s eta 0:00:01\r\u001b[K     |████████████████████████▍       | 61kB 2.2MB/s eta 0:00:01\r\u001b[K     |████████████████████████████▍   | 71kB 2.5MB/s eta 0:00:01\r\u001b[K     |████████████████████████████████| 81kB 2.1MB/s \n",
            "\u001b[?25hRequirement already satisfied: statsmodels>=0.9.0 in /usr/local/lib/python3.6/dist-packages (from category_encoders==2.*) (0.10.2)\n",
            "Requirement already satisfied: numpy>=1.14.0 in /usr/local/lib/python3.6/dist-packages (from category_encoders==2.*) (1.18.5)\n",
            "Requirement already satisfied: patsy>=0.5.1 in /usr/local/lib/python3.6/dist-packages (from category_encoders==2.*) (0.5.1)\n",
            "Requirement already satisfied: pandas>=0.21.1 in /usr/local/lib/python3.6/dist-packages (from category_encoders==2.*) (1.0.4)\n",
            "Requirement already satisfied: scikit-learn>=0.20.0 in /usr/local/lib/python3.6/dist-packages (from category_encoders==2.*) (0.22.2.post1)\n",
            "Requirement already satisfied: scipy>=1.0.0 in /usr/local/lib/python3.6/dist-packages (from category_encoders==2.*) (1.4.1)\n",
            "Requirement already satisfied: six in /usr/local/lib/python3.6/dist-packages (from patsy>=0.5.1->category_encoders==2.*) (1.12.0)\n",
            "Requirement already satisfied: pytz>=2017.2 in /usr/local/lib/python3.6/dist-packages (from pandas>=0.21.1->category_encoders==2.*) (2018.9)\n",
            "Requirement already satisfied: python-dateutil>=2.6.1 in /usr/local/lib/python3.6/dist-packages (from pandas>=0.21.1->category_encoders==2.*) (2.8.1)\n",
            "Requirement already satisfied: joblib>=0.11 in /usr/local/lib/python3.6/dist-packages (from scikit-learn>=0.20.0->category_encoders==2.*) (0.15.1)\n",
            "Installing collected packages: category-encoders\n",
            "Successfully installed category-encoders-2.2.2\n",
            "Collecting eli5\n",
            "\u001b[?25l  Downloading https://files.pythonhosted.org/packages/97/2f/c85c7d8f8548e460829971785347e14e45fa5c6617da374711dec8cb38cc/eli5-0.10.1-py2.py3-none-any.whl (105kB)\n",
            "\u001b[K     |████████████████████████████████| 112kB 2.8MB/s \n",
            "\u001b[?25hRequirement already satisfied: numpy>=1.9.0 in /usr/local/lib/python3.6/dist-packages (from eli5) (1.18.5)\n",
            "Requirement already satisfied: scipy in /usr/local/lib/python3.6/dist-packages (from eli5) (1.4.1)\n",
            "Requirement already satisfied: attrs>16.0.0 in /usr/local/lib/python3.6/dist-packages (from eli5) (19.3.0)\n",
            "Requirement already satisfied: scikit-learn>=0.18 in /usr/local/lib/python3.6/dist-packages (from eli5) (0.22.2.post1)\n",
            "Requirement already satisfied: jinja2 in /usr/local/lib/python3.6/dist-packages (from eli5) (2.11.2)\n",
            "Requirement already satisfied: graphviz in /usr/local/lib/python3.6/dist-packages (from eli5) (0.10.1)\n",
            "Requirement already satisfied: six in /usr/local/lib/python3.6/dist-packages (from eli5) (1.12.0)\n",
            "Requirement already satisfied: tabulate>=0.7.7 in /usr/local/lib/python3.6/dist-packages (from eli5) (0.8.7)\n",
            "Requirement already satisfied: joblib>=0.11 in /usr/local/lib/python3.6/dist-packages (from scikit-learn>=0.18->eli5) (0.15.1)\n",
            "Requirement already satisfied: MarkupSafe>=0.23 in /usr/local/lib/python3.6/dist-packages (from jinja2->eli5) (1.1.1)\n",
            "Installing collected packages: eli5\n",
            "Successfully installed eli5-0.10.1\n",
            "--2020-06-10 19:54:14--  https://raw.githubusercontent.com/karencfisher/Hotel-Cancellations/master/tools.py\n",
            "Resolving raw.githubusercontent.com (raw.githubusercontent.com)... 151.101.0.133, 151.101.64.133, 151.101.128.133, ...\n",
            "Connecting to raw.githubusercontent.com (raw.githubusercontent.com)|151.101.0.133|:443... connected.\n",
            "HTTP request sent, awaiting response... 200 OK\n",
            "Length: 8853 (8.6K) [text/plain]\n",
            "Saving to: ‘tools.py’\n",
            "\n",
            "tools.py            100%[===================>]   8.65K  --.-KB/s    in 0s      \n",
            "\n",
            "2020-06-10 19:54:14 (91.6 MB/s) - ‘tools.py’ saved [8853/8853]\n",
            "\n"
          ],
          "name": "stdout"
        },
        {
          "output_type": "stream",
          "text": [
            "/usr/local/lib/python3.6/dist-packages/statsmodels/tools/_testing.py:19: FutureWarning: pandas.util.testing is deprecated. Use the functions in the public API at pandas.testing instead.\n",
            "  import pandas.util.testing as tm\n",
            "/usr/local/lib/python3.6/dist-packages/sklearn/externals/six.py:31: FutureWarning: The module is deprecated in version 0.21 and will be removed in version 0.23 since we've dropped support for Python 2.7. Please rely on the official version of six (https://pypi.org/project/six/).\n",
            "  \"(https://pypi.org/project/six/).\", FutureWarning)\n",
            "/usr/local/lib/python3.6/dist-packages/sklearn/utils/deprecation.py:144: FutureWarning: The sklearn.neighbors.base module is  deprecated in version 0.22 and will be removed in version 0.24. The corresponding classes / functions should instead be imported from sklearn.neighbors. Anything that cannot be imported from sklearn.neighbors is now part of the private API.\n",
            "  warnings.warn(message, FutureWarning)\n",
            "/usr/local/lib/python3.6/dist-packages/sklearn/utils/deprecation.py:144: FutureWarning: The sklearn.metrics.scorer module is  deprecated in version 0.22 and will be removed in version 0.24. The corresponding classes / functions should instead be imported from sklearn.metrics. Anything that cannot be imported from sklearn.metrics is now part of the private API.\n",
            "  warnings.warn(message, FutureWarning)\n",
            "/usr/local/lib/python3.6/dist-packages/sklearn/utils/deprecation.py:144: FutureWarning: The sklearn.feature_selection.base module is  deprecated in version 0.22 and will be removed in version 0.24. The corresponding classes / functions should instead be imported from sklearn.feature_selection. Anything that cannot be imported from sklearn.feature_selection is now part of the private API.\n",
            "  warnings.warn(message, FutureWarning)\n",
            "Using TensorFlow backend.\n"
          ],
          "name": "stderr"
        }
      ]
    },
    {
      "cell_type": "code",
      "metadata": {
        "id": "S5LVYZ6SLi4P",
        "colab_type": "code",
        "colab": {}
      },
      "source": [
        "import category_encoders as ce\n",
        "\n",
        "from sklearn.pipeline import make_pipeline\n",
        "from sklearn.impute import SimpleImputer\n",
        "from sklearn.ensemble import RandomForestClassifier\n",
        "\n",
        "from imblearn.over_sampling import SMOTE\n",
        "from imblearn.pipeline import make_pipeline as make_imb_pipeline\n",
        "\n",
        "import eli5\n",
        "from eli5.sklearn import PermutationImportance"
      ],
      "execution_count": 0,
      "outputs": []
    },
    {
      "cell_type": "code",
      "metadata": {
        "id": "a0g9kOvv5Fph",
        "colab_type": "code",
        "outputId": "66467ff3-4d48-4fed-9303-e0252ec4fa35",
        "colab": {
          "base_uri": "https://localhost:8080/",
          "height": 534
        }
      },
      "source": [
        "tools.wrangleData(max_cardinality=50).transform(X_train).sample(10)"
      ],
      "execution_count": 3,
      "outputs": [
        {
          "output_type": "execute_result",
          "data": {
            "text/html": [
              "<div>\n",
              "<style scoped>\n",
              "    .dataframe tbody tr th:only-of-type {\n",
              "        vertical-align: middle;\n",
              "    }\n",
              "\n",
              "    .dataframe tbody tr th {\n",
              "        vertical-align: top;\n",
              "    }\n",
              "\n",
              "    .dataframe thead th {\n",
              "        text-align: right;\n",
              "    }\n",
              "</style>\n",
              "<table border=\"1\" class=\"dataframe\">\n",
              "  <thead>\n",
              "    <tr style=\"text-align: right;\">\n",
              "      <th></th>\n",
              "      <th>hotel</th>\n",
              "      <th>lead_time</th>\n",
              "      <th>arrival_date_week_number</th>\n",
              "      <th>adults</th>\n",
              "      <th>meal</th>\n",
              "      <th>market_segment</th>\n",
              "      <th>is_repeated_guest</th>\n",
              "      <th>previous_cancellations</th>\n",
              "      <th>booking_changes</th>\n",
              "      <th>deposit_type</th>\n",
              "      <th>days_in_waiting_list</th>\n",
              "      <th>customer_type</th>\n",
              "      <th>adr</th>\n",
              "      <th>required_car_parking_spaces</th>\n",
              "      <th>total_of_special_requests</th>\n",
              "      <th>nights_stay</th>\n",
              "      <th>room_type_changed</th>\n",
              "    </tr>\n",
              "  </thead>\n",
              "  <tbody>\n",
              "    <tr>\n",
              "      <th>53885</th>\n",
              "      <td>City Hotel</td>\n",
              "      <td>179</td>\n",
              "      <td>27</td>\n",
              "      <td>2.0</td>\n",
              "      <td>BB</td>\n",
              "      <td>Groups</td>\n",
              "      <td>0</td>\n",
              "      <td>0</td>\n",
              "      <td>0</td>\n",
              "      <td>Non Refund</td>\n",
              "      <td>0</td>\n",
              "      <td>Transient</td>\n",
              "      <td>65.00</td>\n",
              "      <td>0</td>\n",
              "      <td>0</td>\n",
              "      <td>2.0</td>\n",
              "      <td>False</td>\n",
              "    </tr>\n",
              "    <tr>\n",
              "      <th>28322</th>\n",
              "      <td>Resort Hotel</td>\n",
              "      <td>60</td>\n",
              "      <td>40</td>\n",
              "      <td>2.0</td>\n",
              "      <td>BB</td>\n",
              "      <td>Online TA</td>\n",
              "      <td>0</td>\n",
              "      <td>0</td>\n",
              "      <td>0</td>\n",
              "      <td>No Deposit</td>\n",
              "      <td>0</td>\n",
              "      <td>Transient</td>\n",
              "      <td>101.75</td>\n",
              "      <td>0</td>\n",
              "      <td>2</td>\n",
              "      <td>4.0</td>\n",
              "      <td>False</td>\n",
              "    </tr>\n",
              "    <tr>\n",
              "      <th>48758</th>\n",
              "      <td>City Hotel</td>\n",
              "      <td>112</td>\n",
              "      <td>14</td>\n",
              "      <td>2.0</td>\n",
              "      <td>BB</td>\n",
              "      <td>Groups</td>\n",
              "      <td>0</td>\n",
              "      <td>0</td>\n",
              "      <td>0</td>\n",
              "      <td>Non Refund</td>\n",
              "      <td>0</td>\n",
              "      <td>Transient</td>\n",
              "      <td>64.00</td>\n",
              "      <td>0</td>\n",
              "      <td>0</td>\n",
              "      <td>2.0</td>\n",
              "      <td>False</td>\n",
              "    </tr>\n",
              "    <tr>\n",
              "      <th>111729</th>\n",
              "      <td>City Hotel</td>\n",
              "      <td>221</td>\n",
              "      <td>19</td>\n",
              "      <td>2.0</td>\n",
              "      <td>BB</td>\n",
              "      <td>Online TA</td>\n",
              "      <td>0</td>\n",
              "      <td>0</td>\n",
              "      <td>0</td>\n",
              "      <td>No Deposit</td>\n",
              "      <td>0</td>\n",
              "      <td>Transient-Party</td>\n",
              "      <td>138.60</td>\n",
              "      <td>0</td>\n",
              "      <td>1</td>\n",
              "      <td>4.0</td>\n",
              "      <td>False</td>\n",
              "    </tr>\n",
              "    <tr>\n",
              "      <th>35561</th>\n",
              "      <td>Resort Hotel</td>\n",
              "      <td>28</td>\n",
              "      <td>16</td>\n",
              "      <td>2.0</td>\n",
              "      <td>BB</td>\n",
              "      <td>Offline TA/TO</td>\n",
              "      <td>0</td>\n",
              "      <td>0</td>\n",
              "      <td>0</td>\n",
              "      <td>No Deposit</td>\n",
              "      <td>0</td>\n",
              "      <td>Contract</td>\n",
              "      <td>50.86</td>\n",
              "      <td>0</td>\n",
              "      <td>0</td>\n",
              "      <td>10.0</td>\n",
              "      <td>False</td>\n",
              "    </tr>\n",
              "    <tr>\n",
              "      <th>96216</th>\n",
              "      <td>City Hotel</td>\n",
              "      <td>4</td>\n",
              "      <td>36</td>\n",
              "      <td>3.0</td>\n",
              "      <td>BB</td>\n",
              "      <td>Online TA</td>\n",
              "      <td>0</td>\n",
              "      <td>0</td>\n",
              "      <td>0</td>\n",
              "      <td>No Deposit</td>\n",
              "      <td>0</td>\n",
              "      <td>Transient</td>\n",
              "      <td>184.00</td>\n",
              "      <td>1</td>\n",
              "      <td>0</td>\n",
              "      <td>1.0</td>\n",
              "      <td>False</td>\n",
              "    </tr>\n",
              "    <tr>\n",
              "      <th>10896</th>\n",
              "      <td>Resort Hotel</td>\n",
              "      <td>124</td>\n",
              "      <td>15</td>\n",
              "      <td>2.0</td>\n",
              "      <td>HB</td>\n",
              "      <td>Groups</td>\n",
              "      <td>0</td>\n",
              "      <td>0</td>\n",
              "      <td>0</td>\n",
              "      <td>Non Refund</td>\n",
              "      <td>0</td>\n",
              "      <td>Transient</td>\n",
              "      <td>80.00</td>\n",
              "      <td>0</td>\n",
              "      <td>0</td>\n",
              "      <td>7.0</td>\n",
              "      <td>False</td>\n",
              "    </tr>\n",
              "    <tr>\n",
              "      <th>59412</th>\n",
              "      <td>City Hotel</td>\n",
              "      <td>464</td>\n",
              "      <td>44</td>\n",
              "      <td>2.0</td>\n",
              "      <td>BB</td>\n",
              "      <td>Groups</td>\n",
              "      <td>0</td>\n",
              "      <td>0</td>\n",
              "      <td>0</td>\n",
              "      <td>Non Refund</td>\n",
              "      <td>391</td>\n",
              "      <td>Transient</td>\n",
              "      <td>65.00</td>\n",
              "      <td>0</td>\n",
              "      <td>0</td>\n",
              "      <td>2.0</td>\n",
              "      <td>False</td>\n",
              "    </tr>\n",
              "    <tr>\n",
              "      <th>112618</th>\n",
              "      <td>City Hotel</td>\n",
              "      <td>10</td>\n",
              "      <td>21</td>\n",
              "      <td>2.0</td>\n",
              "      <td>SC</td>\n",
              "      <td>Online TA</td>\n",
              "      <td>0</td>\n",
              "      <td>0</td>\n",
              "      <td>0</td>\n",
              "      <td>No Deposit</td>\n",
              "      <td>0</td>\n",
              "      <td>Transient</td>\n",
              "      <td>107.10</td>\n",
              "      <td>0</td>\n",
              "      <td>0</td>\n",
              "      <td>3.0</td>\n",
              "      <td>False</td>\n",
              "    </tr>\n",
              "    <tr>\n",
              "      <th>94894</th>\n",
              "      <td>City Hotel</td>\n",
              "      <td>135</td>\n",
              "      <td>33</td>\n",
              "      <td>2.0</td>\n",
              "      <td>SC</td>\n",
              "      <td>Online TA</td>\n",
              "      <td>0</td>\n",
              "      <td>0</td>\n",
              "      <td>0</td>\n",
              "      <td>No Deposit</td>\n",
              "      <td>0</td>\n",
              "      <td>Transient</td>\n",
              "      <td>103.50</td>\n",
              "      <td>0</td>\n",
              "      <td>1</td>\n",
              "      <td>3.0</td>\n",
              "      <td>False</td>\n",
              "    </tr>\n",
              "  </tbody>\n",
              "</table>\n",
              "</div>"
            ],
            "text/plain": [
              "               hotel  lead_time  ...  nights_stay  room_type_changed\n",
              "53885     City Hotel        179  ...          2.0              False\n",
              "28322   Resort Hotel         60  ...          4.0              False\n",
              "48758     City Hotel        112  ...          2.0              False\n",
              "111729    City Hotel        221  ...          4.0              False\n",
              "35561   Resort Hotel         28  ...         10.0              False\n",
              "96216     City Hotel          4  ...          1.0              False\n",
              "10896   Resort Hotel        124  ...          7.0              False\n",
              "59412     City Hotel        464  ...          2.0              False\n",
              "112618    City Hotel         10  ...          3.0              False\n",
              "94894     City Hotel        135  ...          3.0              False\n",
              "\n",
              "[10 rows x 17 columns]"
            ]
          },
          "metadata": {
            "tags": []
          },
          "execution_count": 3
        }
      ]
    },
    {
      "cell_type": "code",
      "metadata": {
        "id": "QhKTL0dCR9WG",
        "colab_type": "code",
        "colab": {}
      },
      "source": [
        "y_train = y_train != 'Check-Out'\n",
        "y_val = y_val != 'Check-Out'\n",
        "y_test = y_test != 'Check-Out'"
      ],
      "execution_count": 0,
      "outputs": []
    },
    {
      "cell_type": "code",
      "metadata": {
        "id": "lsv1k-SRzLU_",
        "colab_type": "code",
        "colab": {
          "base_uri": "https://localhost:8080/",
          "height": 34
        },
        "outputId": "01973f23-8f60-44e3-b0d5-e2504514b466"
      },
      "source": [
        "from sklearn.utils import compute_class_weight\n",
        "weights = compute_class_weight('balanced', y_train.unique(), y_train)\n",
        "weights"
      ],
      "execution_count": 8,
      "outputs": [
        {
          "output_type": "execute_result",
          "data": {
            "text/plain": [
              "array([1.32860379, 0.80171235])"
            ]
          },
          "metadata": {
            "tags": []
          },
          "execution_count": 8
        }
      ]
    },
    {
      "cell_type": "code",
      "metadata": {
        "id": "zxyqHHsE3aUh",
        "colab_type": "code",
        "colab": {}
      },
      "source": [
        "from imblearn.under_sampling import RandomUnderSampler\n"
      ],
      "execution_count": 0,
      "outputs": []
    },
    {
      "cell_type": "code",
      "metadata": {
        "id": "AFSslXuRBmZq",
        "colab_type": "code",
        "outputId": "a3933cec-7d19-4e71-b631-25165db2a6f8",
        "colab": {
          "base_uri": "https://localhost:8080/",
          "height": 450
        }
      },
      "source": [
        "\n",
        "from xgboost import XGBClassifier\n",
        "\n",
        "xg_pipeline = make_imb_pipeline(tools.wrangleData(max_cardinality=50),\n",
        "                            ce.OrdinalEncoder(),\n",
        "                            SimpleImputer(),\n",
        "                            RandomUnderSampler(),\n",
        "                            XGBClassifier(random_state=42,\n",
        "                                          n_estimators=1500,\n",
        "                                          max_depth=5,\n",
        "                                          learning_rate=0.25,\n",
        "                                          n_jobs=-1))\n",
        "\n",
        "tools.tryModel(xg_pipeline, X_train, y_train, X_val, y_val)"
      ],
      "execution_count": 12,
      "outputs": [
        {
          "output_type": "stream",
          "text": [
            "/usr/local/lib/python3.6/dist-packages/sklearn/utils/deprecation.py:87: FutureWarning: Function safe_indexing is deprecated; safe_indexing is deprecated in version 0.22 and will be removed in version 0.24.\n",
            "  warnings.warn(msg, category=FutureWarning)\n"
          ],
          "name": "stderr"
        },
        {
          "output_type": "stream",
          "text": [
            "\n",
            "\n",
            "Train score = 91.51485237368752 %\n",
            "Validate score = 84.09811546515105 %\n",
            "\n",
            "\n"
          ],
          "name": "stdout"
        },
        {
          "output_type": "display_data",
          "data": {
            "text/plain": [
              "'Confusion Matrix'"
            ]
          },
          "metadata": {
            "tags": []
          }
        },
        {
          "output_type": "display_data",
          "data": {
            "text/html": [
              "<div>\n",
              "<style scoped>\n",
              "    .dataframe tbody tr th:only-of-type {\n",
              "        vertical-align: middle;\n",
              "    }\n",
              "\n",
              "    .dataframe tbody tr th {\n",
              "        vertical-align: top;\n",
              "    }\n",
              "\n",
              "    .dataframe thead th {\n",
              "        text-align: right;\n",
              "    }\n",
              "</style>\n",
              "<table border=\"1\" class=\"dataframe\">\n",
              "  <thead>\n",
              "    <tr style=\"text-align: right;\">\n",
              "      <th></th>\n",
              "      <th>False</th>\n",
              "      <th>True</th>\n",
              "    </tr>\n",
              "  </thead>\n",
              "  <tbody>\n",
              "    <tr>\n",
              "      <th>False</th>\n",
              "      <td>8885</td>\n",
              "      <td>1540</td>\n",
              "    </tr>\n",
              "    <tr>\n",
              "      <th>True</th>\n",
              "      <td>1118</td>\n",
              "      <td>5172</td>\n",
              "    </tr>\n",
              "  </tbody>\n",
              "</table>\n",
              "</div>"
            ],
            "text/plain": [
              "       False  True \n",
              "False   8885   1540\n",
              "True    1118   5172"
            ]
          },
          "metadata": {
            "tags": []
          }
        },
        {
          "output_type": "stream",
          "text": [
            "\n",
            "\n",
            "\n"
          ],
          "name": "stdout"
        },
        {
          "output_type": "display_data",
          "data": {
            "text/plain": [
              "'Metrics'"
            ]
          },
          "metadata": {
            "tags": []
          }
        },
        {
          "output_type": "display_data",
          "data": {
            "text/html": [
              "<div>\n",
              "<style scoped>\n",
              "    .dataframe tbody tr th:only-of-type {\n",
              "        vertical-align: middle;\n",
              "    }\n",
              "\n",
              "    .dataframe tbody tr th {\n",
              "        vertical-align: top;\n",
              "    }\n",
              "\n",
              "    .dataframe thead th {\n",
              "        text-align: right;\n",
              "    }\n",
              "</style>\n",
              "<table border=\"1\" class=\"dataframe\">\n",
              "  <thead>\n",
              "    <tr style=\"text-align: right;\">\n",
              "      <th></th>\n",
              "      <th>precision</th>\n",
              "      <th>recall</th>\n",
              "      <th>f1-score</th>\n",
              "    </tr>\n",
              "  </thead>\n",
              "  <tbody>\n",
              "    <tr>\n",
              "      <th>False</th>\n",
              "      <td>0.888234</td>\n",
              "      <td>0.852278</td>\n",
              "      <td>0.869884</td>\n",
              "    </tr>\n",
              "    <tr>\n",
              "      <th>True</th>\n",
              "      <td>0.770560</td>\n",
              "      <td>0.822258</td>\n",
              "      <td>0.795570</td>\n",
              "    </tr>\n",
              "  </tbody>\n",
              "</table>\n",
              "</div>"
            ],
            "text/plain": [
              "       precision    recall  f1-score\n",
              "False   0.888234  0.852278  0.869884\n",
              "True    0.770560  0.822258  0.795570"
            ]
          },
          "metadata": {
            "tags": []
          }
        }
      ]
    },
    {
      "cell_type": "code",
      "metadata": {
        "id": "tuqVnfZNbOam",
        "colab_type": "code",
        "colab": {}
      },
      "source": [
        "from sklearn.model_selection import GridSearchCV, RandomizedSearchCV"
      ],
      "execution_count": 0,
      "outputs": []
    },
    {
      "cell_type": "code",
      "metadata": {
        "id": "OOvJ2SYpbGHz",
        "colab_type": "code",
        "outputId": "e9a29930-23e3-4fb6-d77d-c1eef322cb63",
        "colab": {
          "base_uri": "https://localhost:8080/",
          "height": 1000
        }
      },
      "source": [
        "xg_pipeline1 = make_imb_pipeline(tools.wrangleData(max_cardinality=50),\n",
        "                            ce.OrdinalEncoder(),\n",
        "                            SimpleImputer(),\n",
        "                            RandomUnderSampler(),\n",
        "                            XGBClassifier(random_state=42,\n",
        "                                          n_jobs=-1))\n",
        "\n",
        "params = {\"xgbclassifier__learning_rate\"    : [0.05, 0.10, 0.15, 0.20, 0.25, 0.30 ] ,\n",
        "          \"xgbclassifier__max_depth\"        : [ 3, 4, 5, 6, 8, 10, 12, 15],\n",
        "          \"xgbclassifier__min_child_weight\" : [ 1, 3, 5, 7 ],\n",
        "          \"xgbclassifier__gamma\"            : [ 0.0, 0.1, 0.2 , 0.3, 0.4 ],\n",
        "          \"xgbclassifier__colsample_bytree\" : [ 0.3, 0.4, 0.5 , 0.7 ],\n",
        "          \"xgbclassifier__max_leaves\"       : [0, 2, 4, 8, 10]}\n",
        "\n",
        "search = RandomizedSearchCV(xg_pipeline1, params, n_iter=100, scoring='recall', n_jobs=-1,\n",
        "                            random_state=42, verbose=10, cv=3)\n",
        "search.fit(X_train, y_train)"
      ],
      "execution_count": 32,
      "outputs": [
        {
          "output_type": "stream",
          "text": [
            "Fitting 3 folds for each of 100 candidates, totalling 300 fits\n"
          ],
          "name": "stdout"
        },
        {
          "output_type": "stream",
          "text": [
            "[Parallel(n_jobs=-1)]: Using backend LokyBackend with 2 concurrent workers.\n",
            "[Parallel(n_jobs=-1)]: Done   1 tasks      | elapsed:   11.4s\n",
            "[Parallel(n_jobs=-1)]: Done   4 tasks      | elapsed:   20.2s\n",
            "[Parallel(n_jobs=-1)]: Done   9 tasks      | elapsed:   34.8s\n",
            "[Parallel(n_jobs=-1)]: Done  14 tasks      | elapsed:   58.2s\n",
            "[Parallel(n_jobs=-1)]: Done  21 tasks      | elapsed:  1.2min\n",
            "[Parallel(n_jobs=-1)]: Done  28 tasks      | elapsed:  1.6min\n",
            "[Parallel(n_jobs=-1)]: Done  37 tasks      | elapsed:  1.9min\n",
            "[Parallel(n_jobs=-1)]: Done  46 tasks      | elapsed:  2.3min\n",
            "[Parallel(n_jobs=-1)]: Done  57 tasks      | elapsed:  2.9min\n",
            "[Parallel(n_jobs=-1)]: Done  68 tasks      | elapsed:  3.4min\n",
            "[Parallel(n_jobs=-1)]: Done  81 tasks      | elapsed:  4.0min\n",
            "[Parallel(n_jobs=-1)]: Done  94 tasks      | elapsed:  4.9min\n",
            "[Parallel(n_jobs=-1)]: Done 109 tasks      | elapsed:  5.6min\n",
            "[Parallel(n_jobs=-1)]: Done 124 tasks      | elapsed:  6.7min\n",
            "[Parallel(n_jobs=-1)]: Done 141 tasks      | elapsed:  7.5min\n",
            "[Parallel(n_jobs=-1)]: Done 158 tasks      | elapsed:  8.7min\n",
            "[Parallel(n_jobs=-1)]: Done 177 tasks      | elapsed: 10.0min\n",
            "[Parallel(n_jobs=-1)]: Done 196 tasks      | elapsed: 10.7min\n",
            "[Parallel(n_jobs=-1)]: Done 217 tasks      | elapsed: 12.0min\n",
            "[Parallel(n_jobs=-1)]: Done 238 tasks      | elapsed: 13.1min\n",
            "[Parallel(n_jobs=-1)]: Done 261 tasks      | elapsed: 14.1min\n",
            "[Parallel(n_jobs=-1)]: Done 284 tasks      | elapsed: 15.4min\n",
            "[Parallel(n_jobs=-1)]: Done 300 out of 300 | elapsed: 16.2min finished\n",
            "/usr/local/lib/python3.6/dist-packages/sklearn/utils/deprecation.py:87: FutureWarning: Function safe_indexing is deprecated; safe_indexing is deprecated in version 0.22 and will be removed in version 0.24.\n",
            "  warnings.warn(msg, category=FutureWarning)\n"
          ],
          "name": "stderr"
        },
        {
          "output_type": "execute_result",
          "data": {
            "text/plain": [
              "RandomizedSearchCV(cv=3, error_score=nan,\n",
              "                   estimator=Pipeline(memory=None,\n",
              "                                      steps=[('wrangledata',\n",
              "                                              wrangleData(max_cardinality=50,\n",
              "                                                          remove_dates=True)),\n",
              "                                             ('ordinalencoder',\n",
              "                                              OrdinalEncoder(cols=None,\n",
              "                                                             drop_invariant=False,\n",
              "                                                             handle_missing='value',\n",
              "                                                             handle_unknown='value',\n",
              "                                                             mapping=None,\n",
              "                                                             return_df=True,\n",
              "                                                             verbose=0)),\n",
              "                                             ('simpleimputer',\n",
              "                                              SimpleImputer(add_indicator=False,\n",
              "                                                            copy=...\n",
              "                                                                            0.5,\n",
              "                                                                            0.7],\n",
              "                                        'xgbclassifier__gamma': [0.0, 0.1, 0.2,\n",
              "                                                                 0.3, 0.4],\n",
              "                                        'xgbclassifier__learning_rate': [0.05,\n",
              "                                                                         0.1,\n",
              "                                                                         0.15,\n",
              "                                                                         0.2,\n",
              "                                                                         0.25,\n",
              "                                                                         0.3],\n",
              "                                        'xgbclassifier__max_depth': [3, 4, 5, 6,\n",
              "                                                                     8, 10, 12,\n",
              "                                                                     15],\n",
              "                                        'xgbclassifier__max_leaves': [0, 2, 4,\n",
              "                                                                      8, 10],\n",
              "                                        'xgbclassifier__min_child_weight': [1,\n",
              "                                                                            3,\n",
              "                                                                            5,\n",
              "                                                                            7]},\n",
              "                   pre_dispatch='2*n_jobs', random_state=42, refit=True,\n",
              "                   return_train_score=False, scoring='recall', verbose=10)"
            ]
          },
          "metadata": {
            "tags": []
          },
          "execution_count": 32
        }
      ]
    },
    {
      "cell_type": "code",
      "metadata": {
        "id": "4g3QxBjrRVT9",
        "colab_type": "code",
        "outputId": "3663abd0-8069-4765-a5a6-43a55872a76f",
        "colab": {
          "base_uri": "https://localhost:8080/",
          "height": 123
        }
      },
      "source": [
        "search.best_params_"
      ],
      "execution_count": 33,
      "outputs": [
        {
          "output_type": "execute_result",
          "data": {
            "text/plain": [
              "{'xgbclassifier__colsample_bytree': 0.7,\n",
              " 'xgbclassifier__gamma': 0.3,\n",
              " 'xgbclassifier__learning_rate': 0.2,\n",
              " 'xgbclassifier__max_depth': 15,\n",
              " 'xgbclassifier__max_leaves': 8,\n",
              " 'xgbclassifier__min_child_weight': 1}"
            ]
          },
          "metadata": {
            "tags": []
          },
          "execution_count": 33
        }
      ]
    },
    {
      "cell_type": "code",
      "metadata": {
        "id": "scCrTE0kSjee",
        "colab_type": "code",
        "outputId": "720f67e7-dbbb-43dd-c2f1-8d7c5ff8ff86",
        "colab": {
          "base_uri": "https://localhost:8080/",
          "height": 34
        }
      },
      "source": [
        "search.best_score_"
      ],
      "execution_count": 34,
      "outputs": [
        {
          "output_type": "execute_result",
          "data": {
            "text/plain": [
              "0.8201979253606773"
            ]
          },
          "metadata": {
            "tags": []
          },
          "execution_count": 34
        }
      ]
    },
    {
      "cell_type": "code",
      "metadata": {
        "id": "oJXw6i-kRYeK",
        "colab_type": "code",
        "outputId": "9dd8cac7-58c6-4a06-e61a-4d1a17130ea1",
        "colab": {
          "base_uri": "https://localhost:8080/",
          "height": 450
        }
      },
      "source": [
        "xg_pipeline2 = make_imb_pipeline(tools.wrangleData(max_cardinality=50),\n",
        "                            ce.OrdinalEncoder(),\n",
        "                            SimpleImputer(),\n",
        "                            RandomUnderSampler(),\n",
        "                            XGBClassifier(random_state=42,\n",
        "                                          n_jobs=-1,\n",
        "                                          colsample_bytree=0.7,\n",
        "                                          gamma=0.3,\n",
        "                                          learning_rate=0.2,\n",
        "                                          max_depth=15,\n",
        "                                          max_leaves=8,\n",
        "                                          min_child_weight=1))\n",
        "\n",
        "tools.tryModel(xg_pipeline2, X_train, y_train, X_val, y_val)"
      ],
      "execution_count": 35,
      "outputs": [
        {
          "output_type": "stream",
          "text": [
            "/usr/local/lib/python3.6/dist-packages/sklearn/utils/deprecation.py:87: FutureWarning: Function safe_indexing is deprecated; safe_indexing is deprecated in version 0.22 and will be removed in version 0.24.\n",
            "  warnings.warn(msg, category=FutureWarning)\n"
          ],
          "name": "stderr"
        },
        {
          "output_type": "stream",
          "text": [
            "\n",
            "\n",
            "Train score = 93.51162164587633 %\n",
            "Validate score = 84.17588991923422 %\n",
            "\n",
            "\n"
          ],
          "name": "stdout"
        },
        {
          "output_type": "display_data",
          "data": {
            "text/plain": [
              "'Confusion Matrix'"
            ]
          },
          "metadata": {
            "tags": []
          }
        },
        {
          "output_type": "display_data",
          "data": {
            "text/html": [
              "<div>\n",
              "<style scoped>\n",
              "    .dataframe tbody tr th:only-of-type {\n",
              "        vertical-align: middle;\n",
              "    }\n",
              "\n",
              "    .dataframe tbody tr th {\n",
              "        vertical-align: top;\n",
              "    }\n",
              "\n",
              "    .dataframe thead th {\n",
              "        text-align: right;\n",
              "    }\n",
              "</style>\n",
              "<table border=\"1\" class=\"dataframe\">\n",
              "  <thead>\n",
              "    <tr style=\"text-align: right;\">\n",
              "      <th></th>\n",
              "      <th>False</th>\n",
              "      <th>True</th>\n",
              "    </tr>\n",
              "  </thead>\n",
              "  <tbody>\n",
              "    <tr>\n",
              "      <th>False</th>\n",
              "      <td>8863</td>\n",
              "      <td>1562</td>\n",
              "    </tr>\n",
              "    <tr>\n",
              "      <th>True</th>\n",
              "      <td>1083</td>\n",
              "      <td>5207</td>\n",
              "    </tr>\n",
              "  </tbody>\n",
              "</table>\n",
              "</div>"
            ],
            "text/plain": [
              "       False  True \n",
              "False   8863   1562\n",
              "True    1083   5207"
            ]
          },
          "metadata": {
            "tags": []
          }
        },
        {
          "output_type": "stream",
          "text": [
            "\n",
            "\n",
            "\n"
          ],
          "name": "stdout"
        },
        {
          "output_type": "display_data",
          "data": {
            "text/plain": [
              "'Metrics'"
            ]
          },
          "metadata": {
            "tags": []
          }
        },
        {
          "output_type": "display_data",
          "data": {
            "text/html": [
              "<div>\n",
              "<style scoped>\n",
              "    .dataframe tbody tr th:only-of-type {\n",
              "        vertical-align: middle;\n",
              "    }\n",
              "\n",
              "    .dataframe tbody tr th {\n",
              "        vertical-align: top;\n",
              "    }\n",
              "\n",
              "    .dataframe thead th {\n",
              "        text-align: right;\n",
              "    }\n",
              "</style>\n",
              "<table border=\"1\" class=\"dataframe\">\n",
              "  <thead>\n",
              "    <tr style=\"text-align: right;\">\n",
              "      <th></th>\n",
              "      <th>precision</th>\n",
              "      <th>recall</th>\n",
              "      <th>f1-score</th>\n",
              "    </tr>\n",
              "  </thead>\n",
              "  <tbody>\n",
              "    <tr>\n",
              "      <th>False</th>\n",
              "      <td>0.891112</td>\n",
              "      <td>0.850168</td>\n",
              "      <td>0.870159</td>\n",
              "    </tr>\n",
              "    <tr>\n",
              "      <th>True</th>\n",
              "      <td>0.769242</td>\n",
              "      <td>0.827822</td>\n",
              "      <td>0.797458</td>\n",
              "    </tr>\n",
              "  </tbody>\n",
              "</table>\n",
              "</div>"
            ],
            "text/plain": [
              "       precision    recall  f1-score\n",
              "False   0.891112  0.850168  0.870159\n",
              "True    0.769242  0.827822  0.797458"
            ]
          },
          "metadata": {
            "tags": []
          }
        }
      ]
    },
    {
      "cell_type": "code",
      "metadata": {
        "id": "7BDHjfBhbQiH",
        "colab_type": "code",
        "outputId": "a024967c-0824-4727-ded0-8adc81f198f3",
        "colab": {
          "base_uri": "https://localhost:8080/",
          "height": 457
        }
      },
      "source": [
        "model = xg_pipeline2.named_steps['xgbclassifier']\n",
        "wrang = xg_pipeline2.named_steps['wrangledata']\n",
        "tools.ROCcurves(y_val, X_val, xg_pipeline2, classes=model.classes_)"
      ],
      "execution_count": 36,
      "outputs": [
        {
          "output_type": "display_data",
          "data": {
            "image/png": "[encoded data removed]",
            "text/plain": [
              "<Figure size 720x504 with 1 Axes>"
            ]
          },
          "metadata": {
            "tags": [],
            "needs_background": "light"
          }
        }
      ]
    },
    {
      "cell_type": "code",
      "metadata": {
        "id": "pnlCsK32jz1r",
        "colab_type": "code",
        "outputId": "43765cde-05b6-4e7e-ced0-75dc9f19e04a",
        "colab": {
          "base_uri": "https://localhost:8080/",
          "height": 510
        }
      },
      "source": [
        "import matplotlib.pyplot as plt\n",
        "\n",
        "importances = pd.Series(model.feature_importances_, wrang.columns_)\n",
        "plt.figure(figsize=(10, len(wrang.columns_) / 2))\n",
        "importances.sort_values().plot.barh();"
      ],
      "execution_count": 37,
      "outputs": [
        {
          "output_type": "display_data",
          "data": {
            "image/png": "[encoded data removed]",
            "text/plain": [
              "<Figure size 720x612 with 1 Axes>"
            ]
          },
          "metadata": {
            "tags": [],
            "needs_background": "light"
          }
        }
      ]
    },
    {
      "cell_type": "code",
      "metadata": {
        "id": "UXwfwGaivcze",
        "colab_type": "code",
        "colab": {}
      },
      "source": [
        "def permutationImports(model):\n",
        "    # Pipeline for transformers alone\n",
        "    transformers = make_pipeline(tools.wrangleData(max_cardinality=50),\n",
        "                                ce.OrdinalEncoder(),\n",
        "                                SimpleImputer())\n",
        "\n",
        "    X_train_transformed = transformers.fit_transform(X_train)\n",
        "    X_val_transformed = transformers.transform(X_val)\n",
        "\n",
        "    # SMOTE resample on the training data\n",
        "    X_train_resample, y_train_resample = SMOTE(random_state=42).fit_sample(X_train_transformed,\n",
        "                                                                          y_train)\n",
        "    # fit the  model\n",
        "    model.fit(X_train_resample, y_train_resample)\n",
        "\n",
        "    # We'll look at the importances for both accuracy score and recall\n",
        "    permuter = PermutationImportance(\n",
        "        model,\n",
        "        scoring='accuracy',\n",
        "        random_state=42\n",
        "    )\n",
        "\n",
        "    permuter1 = PermutationImportance(\n",
        "        model,\n",
        "        scoring='recall',\n",
        "        random_state=42\n",
        "    )\n",
        "\n",
        "    permuter.fit(X_val_transformed, y_val)\n",
        "    permuter1.fit(X_val_transformed, y_val)\n",
        "\n",
        "    wrangler = transformers.named_steps['wrangledata']\n",
        "\n",
        "    print('Accuracy score\\n')\n",
        "    permute_scores = pd.Series(permuter.feature_importances_, wrangler.columns_)\n",
        "    display(permute_scores.sort_values(ascending=False))\n",
        "    print('\\n')\n",
        "\n",
        "    plt.figure(figsize=(10, len(wrangler.columns_) / 2))\n",
        "    permute_scores.sort_values().plot.barh()\n",
        "    plt.show()\n",
        "\n",
        "    print('\\nRecall scores\\n')\n",
        "    permute1_scores = pd.Series(permuter1.feature_importances_, wrangler.columns_)\n",
        "    display(permute1_scores.sort_values(ascending=False))\n",
        "    print('\\n')\n",
        "\n",
        "    plt.figure(figsize=(10, len(wrangler.columns_) / 2))\n",
        "    permute1_scores.sort_values().plot.barh()\n",
        "    plt.show()\n",
        "\n",
        "    return permute_scores, permute1_scores"
      ],
      "execution_count": 0,
      "outputs": []
    },
    {
      "cell_type": "code",
      "metadata": {
        "id": "6I342pP2wSs6",
        "colab_type": "code",
        "outputId": "1c14f23f-a4e1-42f9-bddd-a9d8a8a59f80",
        "colab": {
          "base_uri": "https://localhost:8080/",
          "height": 1000
        }
      },
      "source": [
        "xg_model = XGBClassifier(random_state=42,\n",
        "                        n_jobs=-1,\n",
        "                        colsample_bytree=0.7,\n",
        "                        gamma=0.3,\n",
        "                        learning_rate=0.2,\n",
        "                        max_depth=15,\n",
        "                        max_leaves=5,\n",
        "                        min_child_weight=1)\n",
        "\n",
        "acc_scores, recall_scores = permutationImports(xg_model)"
      ],
      "execution_count": 39,
      "outputs": [
        {
          "output_type": "stream",
          "text": [
            "/usr/local/lib/python3.6/dist-packages/sklearn/utils/deprecation.py:87: FutureWarning: Function safe_indexing is deprecated; safe_indexing is deprecated in version 0.22 and will be removed in version 0.24.\n",
            "  warnings.warn(msg, category=FutureWarning)\n"
          ],
          "name": "stderr"
        },
        {
          "output_type": "stream",
          "text": [
            "Accuracy score\n",
            "\n"
          ],
          "name": "stdout"
        },
        {
          "output_type": "display_data",
          "data": {
            "text/plain": [
              "deposit_type                   0.078935\n",
              "lead_time                      0.061585\n",
              "total_of_special_requests      0.055076\n",
              "market_segment                 0.036039\n",
              "adr                            0.032462\n",
              "previous_cancellations         0.031947\n",
              "arrival_date_week_number       0.022363\n",
              "customer_type                  0.022196\n",
              "nights_stay                    0.021550\n",
              "room_type_changed              0.018319\n",
              "required_car_parking_spaces    0.013712\n",
              "booking_changes                0.013628\n",
              "hotel                          0.011020\n",
              "meal                           0.006282\n",
              "adults                         0.004571\n",
              "is_repeated_guest              0.003326\n",
              "days_in_waiting_list           0.001161\n",
              "dtype: float64"
            ]
          },
          "metadata": {
            "tags": []
          }
        },
        {
          "output_type": "stream",
          "text": [
            "\n",
            "\n"
          ],
          "name": "stdout"
        },
        {
          "output_type": "display_data",
          "data": {
            "image/png": "[encoded data removed]",
            "text/plain": [
              "<Figure size 720x612 with 1 Axes>"
            ]
          },
          "metadata": {
            "tags": [],
            "needs_background": "light"
          }
        },
        {
          "output_type": "stream",
          "text": [
            "\n",
            "Recall scores\n",
            "\n"
          ],
          "name": "stdout"
        },
        {
          "output_type": "display_data",
          "data": {
            "text/plain": [
              "market_segment                 0.095866\n",
              "adr                            0.085660\n",
              "lead_time                      0.076852\n",
              "customer_type                  0.070461\n",
              "deposit_type                   0.048045\n",
              "room_type_changed              0.045564\n",
              "total_of_special_requests      0.040604\n",
              "arrival_date_week_number       0.039491\n",
              "required_car_parking_spaces    0.026582\n",
              "nights_stay                    0.026010\n",
              "booking_changes                0.023847\n",
              "previous_cancellations         0.021431\n",
              "meal                           0.016216\n",
              "hotel                          0.014308\n",
              "is_repeated_guest              0.009634\n",
              "days_in_waiting_list           0.004070\n",
              "adults                         0.002957\n",
              "dtype: float64"
            ]
          },
          "metadata": {
            "tags": []
          }
        },
        {
          "output_type": "stream",
          "text": [
            "\n",
            "\n"
          ],
          "name": "stdout"
        },
        {
          "output_type": "display_data",
          "data": {
            "image/png": "[encoded data removed]",
            "text/plain": [
              "<Figure size 720x612 with 1 Axes>"
            ]
          },
          "metadata": {
            "tags": [],
            "needs_background": "light"
          }
        }
      ]
    },
    {
      "cell_type": "code",
      "metadata": {
        "id": "z8ACqTHkFYsI",
        "colab_type": "code",
        "colab": {}
      },
      "source": [
        "y_pred = xg_pipeline2.predict(X_test)"
      ],
      "execution_count": 0,
      "outputs": []
    },
    {
      "cell_type": "code",
      "metadata": {
        "id": "NN9iY1DOFxwW",
        "colab_type": "code",
        "outputId": "d34add05-35d2-416f-fbf2-2dc1978d8583",
        "colab": {
          "base_uri": "https://localhost:8080/",
          "height": 107
        }
      },
      "source": [
        "results = tools.class_metrics(y_test, y_pred)\n",
        "results[0]"
      ],
      "execution_count": 41,
      "outputs": [
        {
          "output_type": "execute_result",
          "data": {
            "text/html": [
              "<div>\n",
              "<style scoped>\n",
              "    .dataframe tbody tr th:only-of-type {\n",
              "        vertical-align: middle;\n",
              "    }\n",
              "\n",
              "    .dataframe tbody tr th {\n",
              "        vertical-align: top;\n",
              "    }\n",
              "\n",
              "    .dataframe thead th {\n",
              "        text-align: right;\n",
              "    }\n",
              "</style>\n",
              "<table border=\"1\" class=\"dataframe\">\n",
              "  <thead>\n",
              "    <tr style=\"text-align: right;\">\n",
              "      <th></th>\n",
              "      <th>True</th>\n",
              "      <th>False</th>\n",
              "    </tr>\n",
              "  </thead>\n",
              "  <tbody>\n",
              "    <tr>\n",
              "      <th>True</th>\n",
              "      <td>11150</td>\n",
              "      <td>2329</td>\n",
              "    </tr>\n",
              "    <tr>\n",
              "      <th>False</th>\n",
              "      <td>3189</td>\n",
              "      <td>19149</td>\n",
              "    </tr>\n",
              "  </tbody>\n",
              "</table>\n",
              "</div>"
            ],
            "text/plain": [
              "       True   False\n",
              "True   11150   2329\n",
              "False   3189  19149"
            ]
          },
          "metadata": {
            "tags": []
          },
          "execution_count": 41
        }
      ]
    },
    {
      "cell_type": "code",
      "metadata": {
        "id": "UxbrkNwZF465",
        "colab_type": "code",
        "outputId": "aff4fb69-468e-4c56-f0d8-0d8734546901",
        "colab": {
          "base_uri": "https://localhost:8080/",
          "height": 107
        }
      },
      "source": [
        "results[1]"
      ],
      "execution_count": 42,
      "outputs": [
        {
          "output_type": "execute_result",
          "data": {
            "text/html": [
              "<div>\n",
              "<style scoped>\n",
              "    .dataframe tbody tr th:only-of-type {\n",
              "        vertical-align: middle;\n",
              "    }\n",
              "\n",
              "    .dataframe tbody tr th {\n",
              "        vertical-align: top;\n",
              "    }\n",
              "\n",
              "    .dataframe thead th {\n",
              "        text-align: right;\n",
              "    }\n",
              "</style>\n",
              "<table border=\"1\" class=\"dataframe\">\n",
              "  <thead>\n",
              "    <tr style=\"text-align: right;\">\n",
              "      <th></th>\n",
              "      <th>precision</th>\n",
              "      <th>recall</th>\n",
              "      <th>f1-score</th>\n",
              "    </tr>\n",
              "  </thead>\n",
              "  <tbody>\n",
              "    <tr>\n",
              "      <th>True</th>\n",
              "      <td>0.777600</td>\n",
              "      <td>0.827213</td>\n",
              "      <td>0.801639</td>\n",
              "    </tr>\n",
              "    <tr>\n",
              "      <th>False</th>\n",
              "      <td>0.891563</td>\n",
              "      <td>0.857239</td>\n",
              "      <td>0.874064</td>\n",
              "    </tr>\n",
              "  </tbody>\n",
              "</table>\n",
              "</div>"
            ],
            "text/plain": [
              "       precision    recall  f1-score\n",
              "True    0.777600  0.827213  0.801639\n",
              "False   0.891563  0.857239  0.874064"
            ]
          },
          "metadata": {
            "tags": []
          },
          "execution_count": 42
        }
      ]
    },
    {
      "cell_type": "code",
      "metadata": {
        "id": "MzT07HrvGGsK",
        "colab_type": "code",
        "outputId": "25616a19-a121-4e71-ee22-d741172e3178",
        "colab": {
          "base_uri": "https://localhost:8080/",
          "height": 34
        }
      },
      "source": [
        "from sklearn.metrics import accuracy_score\n",
        "accuracy = accuracy_score(y_test, y_pred)\n",
        "print(f'Accuracy = {accuracy * 100} %')"
      ],
      "execution_count": 43,
      "outputs": [
        {
          "output_type": "stream",
          "text": [
            "Accuracy = 84.59390792081972 %\n"
          ],
          "name": "stdout"
        }
      ]
    },
    {
      "cell_type": "code",
      "metadata": {
        "id": "5l1-PprTGfwM",
        "colab_type": "code",
        "colab": {}
      },
      "source": [
        ""
      ],
      "execution_count": 0,
      "outputs": []
    }
  ]
}