{
  "nbformat": 4,
  "nbformat_minor": 0,
  "metadata": {
    "colab": {
      "name": "Hotel XGBOOST.ipynb",
      "provenance": [],
      "authorship_tag": "ABX9TyN4ZWrCBNo2tZRqtvXCpsW5",
      "include_colab_link": true
    },
    "kernelspec": {
      "name": "python3",
      "display_name": "Python 3"
    }
  },
  "cells": [
    {
      "cell_type": "markdown",
      "metadata": {
        "id": "view-in-github",
        "colab_type": "text"
      },
      "source": [
        "<a href=\"https://colab.research.google.com/github/karencfisher/Hotel-Cancellations/blob/master/notebooks/Hotel_XGBOOST.ipynb\" target=\"_parent\"><img src=\"https://colab.research.google.com/assets/colab-badge.svg\" alt=\"Open In Colab\"/></a>"
      ]
    },
    {
      "cell_type": "code",
      "metadata": {
        "id": "rQ15RlKzcWLr",
        "colab_type": "code",
        "colab": {
          "base_uri": "https://localhost:8080/",
          "height": 745
        },
        "outputId": "45069ba9-ea6e-49fd-c712-3b3e836e58b0"
      },
      "source": [
        "!pip install category_encoders==2.*\n",
        "!pip install eli5\n",
        "\n",
        "!wget https://raw.githubusercontent.com/karencfisher/Hotel-Cancellations/master/tools.py"
      ],
      "execution_count": null,
      "outputs": [
        {
          "output_type": "stream",
          "text": [
            "Collecting category_encoders==2.*\n",
            "\u001b[?25l  Downloading https://files.pythonhosted.org/packages/44/57/fcef41c248701ee62e8325026b90c432adea35555cbc870aff9cfba23727/category_encoders-2.2.2-py2.py3-none-any.whl (80kB)\n",
            "\r\u001b[K     |████                            | 10kB 16.7MB/s eta 0:00:01\r\u001b[K     |████████▏                       | 20kB 6.3MB/s eta 0:00:01\r\u001b[K     |████████████▏                   | 30kB 7.5MB/s eta 0:00:01\r\u001b[K     |████████████████▎               | 40kB 8.5MB/s eta 0:00:01\r\u001b[K     |████████████████████▎           | 51kB 6.5MB/s eta 0:00:01\r\u001b[K     |████████████████████████▍       | 61kB 7.3MB/s eta 0:00:01\r\u001b[K     |████████████████████████████▍   | 71kB 7.5MB/s eta 0:00:01\r\u001b[K     |████████████████████████████████| 81kB 4.4MB/s \n",
            "\u001b[?25hRequirement already satisfied: scipy>=1.0.0 in /usr/local/lib/python3.6/dist-packages (from category_encoders==2.*) (1.4.1)\n",
            "Requirement already satisfied: pandas>=0.21.1 in /usr/local/lib/python3.6/dist-packages (from category_encoders==2.*) (1.0.4)\n",
            "Requirement already satisfied: numpy>=1.14.0 in /usr/local/lib/python3.6/dist-packages (from category_encoders==2.*) (1.18.5)\n",
            "Requirement already satisfied: patsy>=0.5.1 in /usr/local/lib/python3.6/dist-packages (from category_encoders==2.*) (0.5.1)\n",
            "Requirement already satisfied: scikit-learn>=0.20.0 in /usr/local/lib/python3.6/dist-packages (from category_encoders==2.*) (0.22.2.post1)\n",
            "Requirement already satisfied: statsmodels>=0.9.0 in /usr/local/lib/python3.6/dist-packages (from category_encoders==2.*) (0.10.2)\n",
            "Requirement already satisfied: pytz>=2017.2 in /usr/local/lib/python3.6/dist-packages (from pandas>=0.21.1->category_encoders==2.*) (2018.9)\n",
            "Requirement already satisfied: python-dateutil>=2.6.1 in /usr/local/lib/python3.6/dist-packages (from pandas>=0.21.1->category_encoders==2.*) (2.8.1)\n",
            "Requirement already satisfied: six in /usr/local/lib/python3.6/dist-packages (from patsy>=0.5.1->category_encoders==2.*) (1.12.0)\n",
            "Requirement already satisfied: joblib>=0.11 in /usr/local/lib/python3.6/dist-packages (from scikit-learn>=0.20.0->category_encoders==2.*) (0.15.1)\n",
            "Installing collected packages: category-encoders\n",
            "Successfully installed category-encoders-2.2.2\n",
            "Collecting eli5\n",
            "\u001b[?25l  Downloading https://files.pythonhosted.org/packages/97/2f/c85c7d8f8548e460829971785347e14e45fa5c6617da374711dec8cb38cc/eli5-0.10.1-py2.py3-none-any.whl (105kB)\n",
            "\u001b[K     |████████████████████████████████| 112kB 7.1MB/s \n",
            "\u001b[?25hRequirement already satisfied: jinja2 in /usr/local/lib/python3.6/dist-packages (from eli5) (2.11.2)\n",
            "Requirement already satisfied: scikit-learn>=0.18 in /usr/local/lib/python3.6/dist-packages (from eli5) (0.22.2.post1)\n",
            "Requirement already satisfied: six in /usr/local/lib/python3.6/dist-packages (from eli5) (1.12.0)\n",
            "Requirement already satisfied: graphviz in /usr/local/lib/python3.6/dist-packages (from eli5) (0.10.1)\n",
            "Requirement already satisfied: tabulate>=0.7.7 in /usr/local/lib/python3.6/dist-packages (from eli5) (0.8.7)\n",
            "Requirement already satisfied: scipy in /usr/local/lib/python3.6/dist-packages (from eli5) (1.4.1)\n",
            "Requirement already satisfied: numpy>=1.9.0 in /usr/local/lib/python3.6/dist-packages (from eli5) (1.18.5)\n",
            "Requirement already satisfied: attrs>16.0.0 in /usr/local/lib/python3.6/dist-packages (from eli5) (19.3.0)\n",
            "Requirement already satisfied: MarkupSafe>=0.23 in /usr/local/lib/python3.6/dist-packages (from jinja2->eli5) (1.1.1)\n",
            "Requirement already satisfied: joblib>=0.11 in /usr/local/lib/python3.6/dist-packages (from scikit-learn>=0.18->eli5) (0.15.1)\n",
            "Installing collected packages: eli5\n",
            "Successfully installed eli5-0.10.1\n",
            "--2020-06-11 17:33:37--  https://raw.githubusercontent.com/karencfisher/Hotel-Cancellations/master/tools.py\n",
            "Resolving raw.githubusercontent.com (raw.githubusercontent.com)... 151.101.0.133, 151.101.64.133, 151.101.128.133, ...\n",
            "Connecting to raw.githubusercontent.com (raw.githubusercontent.com)|151.101.0.133|:443... connected.\n",
            "HTTP request sent, awaiting response... 200 OK\n",
            "Length: 8853 (8.6K) [text/plain]\n",
            "Saving to: ‘tools.py’\n",
            "\n",
            "tools.py            100%[===================>]   8.65K  --.-KB/s    in 0s      \n",
            "\n",
            "2020-06-11 17:33:37 (73.8 MB/s) - ‘tools.py’ saved [8853/8853]\n",
            "\n"
          ],
          "name": "stdout"
        }
      ]
    },
    {
      "cell_type": "markdown",
      "metadata": {
        "id": "60u7iYf2ka1a",
        "colab_type": "text"
      },
      "source": [
        "## Model implemented with XGBOOST\n",
        "\n"
      ]
    },
    {
      "cell_type": "code",
      "metadata": {
        "id": "Xf5iQ_ad1JS_",
        "colab_type": "code",
        "colab": {}
      },
      "source": [
        "\n",
        "\n",
        "import tools\n",
        "import pandas as pd\n",
        "from sklearn.model_selection import train_test_split\n",
        "import numpy as np\n",
        "\n",
        "import category_encoders as ce\n",
        "\n",
        "from sklearn.pipeline import make_pipeline\n",
        "from sklearn.impute import SimpleImputer\n",
        "from sklearn.ensemble import RandomForestClassifier\n",
        "\n",
        "from imblearn.over_sampling import SMOTE\n",
        "from imblearn.pipeline import make_pipeline as make_imb_pipeline\n",
        "\n",
        "import eli5\n",
        "from eli5.sklearn import PermutationImportance\n",
        "\n",
        "# Load dataset\n",
        "url = 'https://raw.githubusercontent.com/karencfisher/Hotel-Cancellations/master/hotel_bookings.csv'\n",
        "df = pd.read_csv(url)\n",
        "\n",
        "# Correct some target values -- should be 'no-show' or 'cancellation' when checkout and\n",
        "# arrival dates same indicating no stay\n",
        "df = tools.fixTarget(df)\n",
        "\n",
        "# Prepare training, validation, and test sets\n",
        "X = df.drop('reservation_status', axis=1)\n",
        "y= df['reservation_status']\n",
        "\n",
        "# Convert output to binary classes, true (cancelled), false (check-out)\n",
        "y = y != 'Check-Out'\n",
        "\n",
        "X_train, X_test, y_train, y_test = train_test_split(X, y, test_size=.3, random_state=42,\n",
        "                                                    stratify=y)\n",
        "X_train, X_val, y_train, y_val = train_test_split(X_train, y_train, test_size=.3,\n",
        "                                                  random_state=42, stratify=y_train)"
      ],
      "execution_count": null,
      "outputs": []
    },
    {
      "cell_type": "markdown",
      "metadata": {
        "id": "Uq4pbR2Pk3F5",
        "colab_type": "text"
      },
      "source": [
        "### Taking a look at the data set, as it will be processed by the model"
      ]
    },
    {
      "cell_type": "code",
      "metadata": {
        "id": "a0g9kOvv5Fph",
        "colab_type": "code",
        "colab": {
          "base_uri": "https://localhost:8080/",
          "height": 534
        },
        "outputId": "0be23681-2461-4eec-b7c4-46367d7d8cfd"
      },
      "source": [
        "tools.wrangleData(max_cardinality=50).transform(X_train).sample(10)"
      ],
      "execution_count": null,
      "outputs": [
        {
          "output_type": "execute_result",
          "data": {
            "text/html": [
              "<div>\n",
              "<style scoped>\n",
              "    .dataframe tbody tr th:only-of-type {\n",
              "        vertical-align: middle;\n",
              "    }\n",
              "\n",
              "    .dataframe tbody tr th {\n",
              "        vertical-align: top;\n",
              "    }\n",
              "\n",
              "    .dataframe thead th {\n",
              "        text-align: right;\n",
              "    }\n",
              "</style>\n",
              "<table border=\"1\" class=\"dataframe\">\n",
              "  <thead>\n",
              "    <tr style=\"text-align: right;\">\n",
              "      <th></th>\n",
              "      <th>hotel</th>\n",
              "      <th>lead_time</th>\n",
              "      <th>arrival_date_week_number</th>\n",
              "      <th>adults</th>\n",
              "      <th>meal</th>\n",
              "      <th>market_segment</th>\n",
              "      <th>is_repeated_guest</th>\n",
              "      <th>previous_cancellations</th>\n",
              "      <th>booking_changes</th>\n",
              "      <th>deposit_type</th>\n",
              "      <th>days_in_waiting_list</th>\n",
              "      <th>customer_type</th>\n",
              "      <th>adr</th>\n",
              "      <th>required_car_parking_spaces</th>\n",
              "      <th>total_of_special_requests</th>\n",
              "      <th>nights_stay</th>\n",
              "      <th>room_type_changed</th>\n",
              "    </tr>\n",
              "  </thead>\n",
              "  <tbody>\n",
              "    <tr>\n",
              "      <th>72525</th>\n",
              "      <td>City Hotel</td>\n",
              "      <td>11</td>\n",
              "      <td>31</td>\n",
              "      <td>2.0</td>\n",
              "      <td>BB</td>\n",
              "      <td>Online TA</td>\n",
              "      <td>0</td>\n",
              "      <td>0</td>\n",
              "      <td>0</td>\n",
              "      <td>No Deposit</td>\n",
              "      <td>0</td>\n",
              "      <td>Transient</td>\n",
              "      <td>129.0</td>\n",
              "      <td>0</td>\n",
              "      <td>2</td>\n",
              "      <td>1.0</td>\n",
              "      <td>False</td>\n",
              "    </tr>\n",
              "    <tr>\n",
              "      <th>109099</th>\n",
              "      <td>City Hotel</td>\n",
              "      <td>68</td>\n",
              "      <td>14</td>\n",
              "      <td>1.0</td>\n",
              "      <td>BB</td>\n",
              "      <td>Groups</td>\n",
              "      <td>0</td>\n",
              "      <td>0</td>\n",
              "      <td>0</td>\n",
              "      <td>No Deposit</td>\n",
              "      <td>0</td>\n",
              "      <td>Transient-Party</td>\n",
              "      <td>100.0</td>\n",
              "      <td>0</td>\n",
              "      <td>0</td>\n",
              "      <td>2.0</td>\n",
              "      <td>False</td>\n",
              "    </tr>\n",
              "    <tr>\n",
              "      <th>32055</th>\n",
              "      <td>Resort Hotel</td>\n",
              "      <td>30</td>\n",
              "      <td>2</td>\n",
              "      <td>2.0</td>\n",
              "      <td>BB</td>\n",
              "      <td>Online TA</td>\n",
              "      <td>0</td>\n",
              "      <td>0</td>\n",
              "      <td>0</td>\n",
              "      <td>No Deposit</td>\n",
              "      <td>0</td>\n",
              "      <td>Transient</td>\n",
              "      <td>58.0</td>\n",
              "      <td>0</td>\n",
              "      <td>1</td>\n",
              "      <td>2.0</td>\n",
              "      <td>False</td>\n",
              "    </tr>\n",
              "    <tr>\n",
              "      <th>97822</th>\n",
              "      <td>City Hotel</td>\n",
              "      <td>4</td>\n",
              "      <td>39</td>\n",
              "      <td>1.0</td>\n",
              "      <td>BB</td>\n",
              "      <td>Aviation</td>\n",
              "      <td>0</td>\n",
              "      <td>0</td>\n",
              "      <td>2</td>\n",
              "      <td>No Deposit</td>\n",
              "      <td>0</td>\n",
              "      <td>Transient</td>\n",
              "      <td>95.0</td>\n",
              "      <td>0</td>\n",
              "      <td>0</td>\n",
              "      <td>2.0</td>\n",
              "      <td>True</td>\n",
              "    </tr>\n",
              "    <tr>\n",
              "      <th>96823</th>\n",
              "      <td>City Hotel</td>\n",
              "      <td>11</td>\n",
              "      <td>37</td>\n",
              "      <td>2.0</td>\n",
              "      <td>BB</td>\n",
              "      <td>Online TA</td>\n",
              "      <td>0</td>\n",
              "      <td>0</td>\n",
              "      <td>0</td>\n",
              "      <td>No Deposit</td>\n",
              "      <td>0</td>\n",
              "      <td>Transient</td>\n",
              "      <td>148.0</td>\n",
              "      <td>1</td>\n",
              "      <td>1</td>\n",
              "      <td>4.0</td>\n",
              "      <td>False</td>\n",
              "    </tr>\n",
              "    <tr>\n",
              "      <th>93514</th>\n",
              "      <td>City Hotel</td>\n",
              "      <td>36</td>\n",
              "      <td>30</td>\n",
              "      <td>2.0</td>\n",
              "      <td>BB</td>\n",
              "      <td>Online TA</td>\n",
              "      <td>0</td>\n",
              "      <td>0</td>\n",
              "      <td>0</td>\n",
              "      <td>No Deposit</td>\n",
              "      <td>0</td>\n",
              "      <td>Transient</td>\n",
              "      <td>216.9</td>\n",
              "      <td>1</td>\n",
              "      <td>2</td>\n",
              "      <td>1.0</td>\n",
              "      <td>False</td>\n",
              "    </tr>\n",
              "    <tr>\n",
              "      <th>111422</th>\n",
              "      <td>City Hotel</td>\n",
              "      <td>34</td>\n",
              "      <td>19</td>\n",
              "      <td>1.0</td>\n",
              "      <td>BB</td>\n",
              "      <td>Groups</td>\n",
              "      <td>0</td>\n",
              "      <td>0</td>\n",
              "      <td>2</td>\n",
              "      <td>No Deposit</td>\n",
              "      <td>0</td>\n",
              "      <td>Transient-Party</td>\n",
              "      <td>130.0</td>\n",
              "      <td>0</td>\n",
              "      <td>1</td>\n",
              "      <td>2.0</td>\n",
              "      <td>False</td>\n",
              "    </tr>\n",
              "    <tr>\n",
              "      <th>46800</th>\n",
              "      <td>City Hotel</td>\n",
              "      <td>151</td>\n",
              "      <td>4</td>\n",
              "      <td>1.0</td>\n",
              "      <td>BB</td>\n",
              "      <td>Offline TA/TO</td>\n",
              "      <td>0</td>\n",
              "      <td>0</td>\n",
              "      <td>1</td>\n",
              "      <td>No Deposit</td>\n",
              "      <td>63</td>\n",
              "      <td>Transient-Party</td>\n",
              "      <td>71.0</td>\n",
              "      <td>0</td>\n",
              "      <td>0</td>\n",
              "      <td>3.0</td>\n",
              "      <td>False</td>\n",
              "    </tr>\n",
              "    <tr>\n",
              "      <th>24676</th>\n",
              "      <td>Resort Hotel</td>\n",
              "      <td>0</td>\n",
              "      <td>23</td>\n",
              "      <td>2.0</td>\n",
              "      <td>BB</td>\n",
              "      <td>Offline TA/TO</td>\n",
              "      <td>0</td>\n",
              "      <td>0</td>\n",
              "      <td>0</td>\n",
              "      <td>No Deposit</td>\n",
              "      <td>0</td>\n",
              "      <td>Group</td>\n",
              "      <td>NaN</td>\n",
              "      <td>0</td>\n",
              "      <td>0</td>\n",
              "      <td>1.0</td>\n",
              "      <td>False</td>\n",
              "    </tr>\n",
              "    <tr>\n",
              "      <th>79654</th>\n",
              "      <td>City Hotel</td>\n",
              "      <td>16</td>\n",
              "      <td>44</td>\n",
              "      <td>2.0</td>\n",
              "      <td>BB</td>\n",
              "      <td>Online TA</td>\n",
              "      <td>0</td>\n",
              "      <td>0</td>\n",
              "      <td>0</td>\n",
              "      <td>No Deposit</td>\n",
              "      <td>0</td>\n",
              "      <td>Contract</td>\n",
              "      <td>95.0</td>\n",
              "      <td>0</td>\n",
              "      <td>1</td>\n",
              "      <td>1.0</td>\n",
              "      <td>False</td>\n",
              "    </tr>\n",
              "  </tbody>\n",
              "</table>\n",
              "</div>"
            ],
            "text/plain": [
              "               hotel  lead_time  ...  nights_stay  room_type_changed\n",
              "72525     City Hotel         11  ...          1.0              False\n",
              "109099    City Hotel         68  ...          2.0              False\n",
              "32055   Resort Hotel         30  ...          2.0              False\n",
              "97822     City Hotel          4  ...          2.0               True\n",
              "96823     City Hotel         11  ...          4.0              False\n",
              "93514     City Hotel         36  ...          1.0              False\n",
              "111422    City Hotel         34  ...          2.0              False\n",
              "46800     City Hotel        151  ...          3.0              False\n",
              "24676   Resort Hotel          0  ...          1.0              False\n",
              "79654     City Hotel         16  ...          1.0              False\n",
              "\n",
              "[10 rows x 17 columns]"
            ]
          },
          "metadata": {
            "tags": []
          },
          "execution_count": 9
        }
      ]
    },
    {
      "cell_type": "code",
      "metadata": {
        "id": "TsoaGMisdgQ5",
        "colab_type": "code",
        "colab": {
          "base_uri": "https://localhost:8080/",
          "height": 70
        },
        "outputId": "4dbc64f2-6eb4-4cfb-c62d-813a9d479078"
      },
      "source": [
        "y_train.value_counts()"
      ],
      "execution_count": null,
      "outputs": [
        {
          "output_type": "execute_result",
          "data": {
            "text/plain": [
              "False    36485\n",
              "True     22016\n",
              "Name: reservation_status, dtype: int64"
            ]
          },
          "metadata": {
            "tags": []
          },
          "execution_count": 10
        }
      ]
    },
    {
      "cell_type": "code",
      "metadata": {
        "id": "lsv1k-SRzLU_",
        "colab_type": "code",
        "colab": {
          "base_uri": "https://localhost:8080/",
          "height": 34
        },
        "outputId": "42062dd8-b9c2-408a-eac9-a45c1c9c13de"
      },
      "source": [
        "from sklearn.utils import compute_class_weight\n",
        "weights = compute_class_weight('balanced', y_train.unique(), y_train)\n",
        "weights"
      ],
      "execution_count": null,
      "outputs": [
        {
          "output_type": "execute_result",
          "data": {
            "text/plain": [
              "array([0.80171303, 1.32860193])"
            ]
          },
          "metadata": {
            "tags": []
          },
          "execution_count": 11
        }
      ]
    },
    {
      "cell_type": "markdown",
      "metadata": {
        "id": "dSDKtl16lNOH",
        "colab_type": "text"
      },
      "source": [
        "### Undersampling the majority class"
      ]
    },
    {
      "cell_type": "code",
      "metadata": {
        "id": "zxyqHHsE3aUh",
        "colab_type": "code",
        "colab": {}
      },
      "source": [
        "from imblearn.under_sampling import RandomUnderSampler\n"
      ],
      "execution_count": null,
      "outputs": []
    },
    {
      "cell_type": "markdown",
      "metadata": {
        "id": "1sHSQjZklSmx",
        "colab_type": "text"
      },
      "source": [
        "### Initial application of the model"
      ]
    },
    {
      "cell_type": "code",
      "metadata": {
        "id": "AFSslXuRBmZq",
        "colab_type": "code",
        "colab": {
          "base_uri": "https://localhost:8080/",
          "height": 450
        },
        "outputId": "5fa041d3-2376-4047-ec9f-d7fc1f676013"
      },
      "source": [
        "\n",
        "from xgboost import XGBClassifier\n",
        "\n",
        "xg_pipeline = make_imb_pipeline(tools.wrangleData(max_cardinality=50),\n",
        "                            ce.OrdinalEncoder(),\n",
        "                            SimpleImputer(),\n",
        "                            RandomUnderSampler(),\n",
        "                            XGBClassifier(random_state=42,\n",
        "                                          n_estimators=1500,\n",
        "                                          max_depth=5,\n",
        "                                          learning_rate=0.25,\n",
        "                                          n_jobs=-1))\n",
        "\n",
        "tools.tryModel(xg_pipeline, X_train, y_train, X_val, y_val)"
      ],
      "execution_count": null,
      "outputs": [
        {
          "output_type": "stream",
          "text": [
            "/usr/local/lib/python3.6/dist-packages/sklearn/utils/deprecation.py:87: FutureWarning: Function safe_indexing is deprecated; safe_indexing is deprecated in version 0.22 and will be removed in version 0.24.\n",
            "  warnings.warn(msg, category=FutureWarning)\n"
          ],
          "name": "stderr"
        },
        {
          "output_type": "stream",
          "text": [
            "\n",
            "\n",
            "Train score = 92.22919266337327 %\n",
            "Validate score = 83.66703892788769 %\n",
            "\n",
            "\n"
          ],
          "name": "stdout"
        },
        {
          "output_type": "display_data",
          "data": {
            "text/plain": [
              "'Confusion Matrix'"
            ]
          },
          "metadata": {
            "tags": []
          }
        },
        {
          "output_type": "display_data",
          "data": {
            "text/html": [
              "<div>\n",
              "<style scoped>\n",
              "    .dataframe tbody tr th:only-of-type {\n",
              "        vertical-align: middle;\n",
              "    }\n",
              "\n",
              "    .dataframe tbody tr th {\n",
              "        vertical-align: top;\n",
              "    }\n",
              "\n",
              "    .dataframe thead th {\n",
              "        text-align: right;\n",
              "    }\n",
              "</style>\n",
              "<table border=\"1\" class=\"dataframe\">\n",
              "  <thead>\n",
              "    <tr style=\"text-align: right;\">\n",
              "      <th></th>\n",
              "      <th>False</th>\n",
              "      <th>True</th>\n",
              "    </tr>\n",
              "  </thead>\n",
              "  <tbody>\n",
              "    <tr>\n",
              "      <th>False</th>\n",
              "      <td>13174</td>\n",
              "      <td>2463</td>\n",
              "    </tr>\n",
              "    <tr>\n",
              "      <th>True</th>\n",
              "      <td>1632</td>\n",
              "      <td>7803</td>\n",
              "    </tr>\n",
              "  </tbody>\n",
              "</table>\n",
              "</div>"
            ],
            "text/plain": [
              "       False  True \n",
              "False  13174   2463\n",
              "True    1632   7803"
            ]
          },
          "metadata": {
            "tags": []
          }
        },
        {
          "output_type": "stream",
          "text": [
            "\n",
            "\n",
            "\n"
          ],
          "name": "stdout"
        },
        {
          "output_type": "display_data",
          "data": {
            "text/plain": [
              "'Metrics'"
            ]
          },
          "metadata": {
            "tags": []
          }
        },
        {
          "output_type": "display_data",
          "data": {
            "text/html": [
              "<div>\n",
              "<style scoped>\n",
              "    .dataframe tbody tr th:only-of-type {\n",
              "        vertical-align: middle;\n",
              "    }\n",
              "\n",
              "    .dataframe tbody tr th {\n",
              "        vertical-align: top;\n",
              "    }\n",
              "\n",
              "    .dataframe thead th {\n",
              "        text-align: right;\n",
              "    }\n",
              "</style>\n",
              "<table border=\"1\" class=\"dataframe\">\n",
              "  <thead>\n",
              "    <tr style=\"text-align: right;\">\n",
              "      <th></th>\n",
              "      <th>precision</th>\n",
              "      <th>recall</th>\n",
              "      <th>f1-score</th>\n",
              "    </tr>\n",
              "  </thead>\n",
              "  <tbody>\n",
              "    <tr>\n",
              "      <th>False</th>\n",
              "      <td>0.889774</td>\n",
              "      <td>0.842489</td>\n",
              "      <td>0.865486</td>\n",
              "    </tr>\n",
              "    <tr>\n",
              "      <th>True</th>\n",
              "      <td>0.760082</td>\n",
              "      <td>0.827027</td>\n",
              "      <td>0.792143</td>\n",
              "    </tr>\n",
              "  </tbody>\n",
              "</table>\n",
              "</div>"
            ],
            "text/plain": [
              "       precision    recall  f1-score\n",
              "False   0.889774  0.842489  0.865486\n",
              "True    0.760082  0.827027  0.792143"
            ]
          },
          "metadata": {
            "tags": []
          }
        }
      ]
    },
    {
      "cell_type": "markdown",
      "metadata": {
        "id": "JNng6dkblYXu",
        "colab_type": "text"
      },
      "source": [
        "### Further hyperparameter tuning using randomized search"
      ]
    },
    {
      "cell_type": "code",
      "metadata": {
        "id": "tuqVnfZNbOam",
        "colab_type": "code",
        "colab": {}
      },
      "source": [
        "from sklearn.model_selection import GridSearchCV, RandomizedSearchCV"
      ],
      "execution_count": null,
      "outputs": []
    },
    {
      "cell_type": "code",
      "metadata": {
        "id": "OOvJ2SYpbGHz",
        "colab_type": "code",
        "colab": {
          "base_uri": "https://localhost:8080/",
          "height": 1000
        },
        "outputId": "e9a29930-23e3-4fb6-d77d-c1eef322cb63"
      },
      "source": [
        "xg_pipeline1 = make_imb_pipeline(tools.wrangleData(max_cardinality=50),\n",
        "                            ce.OrdinalEncoder(),\n",
        "                            SimpleImputer(),\n",
        "                            RandomUnderSampler(),\n",
        "                            XGBClassifier(random_state=42,\n",
        "                                          n_jobs=-1))\n",
        "\n",
        "params = {\"xgbclassifier__learning_rate\"    : [0.05, 0.10, 0.15, 0.20, 0.25, 0.30 ] ,\n",
        "          \"xgbclassifier__max_depth\"        : [ 3, 4, 5, 6, 8, 10, 12, 15],\n",
        "          \"xgbclassifier__min_child_weight\" : [ 1, 3, 5, 7 ],\n",
        "          \"xgbclassifier__gamma\"            : [ 0.0, 0.1, 0.2 , 0.3, 0.4 ],\n",
        "          \"xgbclassifier__colsample_bytree\" : [ 0.3, 0.4, 0.5 , 0.7 ],\n",
        "          \"xgbclassifier__max_leaves\"       : [0, 2, 4, 8, 10]}\n",
        "\n",
        "search = RandomizedSearchCV(xg_pipeline1, params, n_iter=100, scoring='recall', n_jobs=-1,\n",
        "                            random_state=42, verbose=10, cv=3)\n",
        "search.fit(X_train, y_train)"
      ],
      "execution_count": null,
      "outputs": [
        {
          "output_type": "stream",
          "text": [
            "Fitting 3 folds for each of 100 candidates, totalling 300 fits\n"
          ],
          "name": "stdout"
        },
        {
          "output_type": "stream",
          "text": [
            "[Parallel(n_jobs=-1)]: Using backend LokyBackend with 2 concurrent workers.\n",
            "[Parallel(n_jobs=-1)]: Done   1 tasks      | elapsed:   11.4s\n",
            "[Parallel(n_jobs=-1)]: Done   4 tasks      | elapsed:   20.2s\n",
            "[Parallel(n_jobs=-1)]: Done   9 tasks      | elapsed:   34.8s\n",
            "[Parallel(n_jobs=-1)]: Done  14 tasks      | elapsed:   58.2s\n",
            "[Parallel(n_jobs=-1)]: Done  21 tasks      | elapsed:  1.2min\n",
            "[Parallel(n_jobs=-1)]: Done  28 tasks      | elapsed:  1.6min\n",
            "[Parallel(n_jobs=-1)]: Done  37 tasks      | elapsed:  1.9min\n",
            "[Parallel(n_jobs=-1)]: Done  46 tasks      | elapsed:  2.3min\n",
            "[Parallel(n_jobs=-1)]: Done  57 tasks      | elapsed:  2.9min\n",
            "[Parallel(n_jobs=-1)]: Done  68 tasks      | elapsed:  3.4min\n",
            "[Parallel(n_jobs=-1)]: Done  81 tasks      | elapsed:  4.0min\n",
            "[Parallel(n_jobs=-1)]: Done  94 tasks      | elapsed:  4.9min\n",
            "[Parallel(n_jobs=-1)]: Done 109 tasks      | elapsed:  5.6min\n",
            "[Parallel(n_jobs=-1)]: Done 124 tasks      | elapsed:  6.7min\n",
            "[Parallel(n_jobs=-1)]: Done 141 tasks      | elapsed:  7.5min\n",
            "[Parallel(n_jobs=-1)]: Done 158 tasks      | elapsed:  8.7min\n",
            "[Parallel(n_jobs=-1)]: Done 177 tasks      | elapsed: 10.0min\n",
            "[Parallel(n_jobs=-1)]: Done 196 tasks      | elapsed: 10.7min\n",
            "[Parallel(n_jobs=-1)]: Done 217 tasks      | elapsed: 12.0min\n",
            "[Parallel(n_jobs=-1)]: Done 238 tasks      | elapsed: 13.1min\n",
            "[Parallel(n_jobs=-1)]: Done 261 tasks      | elapsed: 14.1min\n",
            "[Parallel(n_jobs=-1)]: Done 284 tasks      | elapsed: 15.4min\n",
            "[Parallel(n_jobs=-1)]: Done 300 out of 300 | elapsed: 16.2min finished\n",
            "/usr/local/lib/python3.6/dist-packages/sklearn/utils/deprecation.py:87: FutureWarning: Function safe_indexing is deprecated; safe_indexing is deprecated in version 0.22 and will be removed in version 0.24.\n",
            "  warnings.warn(msg, category=FutureWarning)\n"
          ],
          "name": "stderr"
        },
        {
          "output_type": "execute_result",
          "data": {
            "text/plain": [
              "RandomizedSearchCV(cv=3, error_score=nan,\n",
              "                   estimator=Pipeline(memory=None,\n",
              "                                      steps=[('wrangledata',\n",
              "                                              wrangleData(max_cardinality=50,\n",
              "                                                          remove_dates=True)),\n",
              "                                             ('ordinalencoder',\n",
              "                                              OrdinalEncoder(cols=None,\n",
              "                                                             drop_invariant=False,\n",
              "                                                             handle_missing='value',\n",
              "                                                             handle_unknown='value',\n",
              "                                                             mapping=None,\n",
              "                                                             return_df=True,\n",
              "                                                             verbose=0)),\n",
              "                                             ('simpleimputer',\n",
              "                                              SimpleImputer(add_indicator=False,\n",
              "                                                            copy=...\n",
              "                                                                            0.5,\n",
              "                                                                            0.7],\n",
              "                                        'xgbclassifier__gamma': [0.0, 0.1, 0.2,\n",
              "                                                                 0.3, 0.4],\n",
              "                                        'xgbclassifier__learning_rate': [0.05,\n",
              "                                                                         0.1,\n",
              "                                                                         0.15,\n",
              "                                                                         0.2,\n",
              "                                                                         0.25,\n",
              "                                                                         0.3],\n",
              "                                        'xgbclassifier__max_depth': [3, 4, 5, 6,\n",
              "                                                                     8, 10, 12,\n",
              "                                                                     15],\n",
              "                                        'xgbclassifier__max_leaves': [0, 2, 4,\n",
              "                                                                      8, 10],\n",
              "                                        'xgbclassifier__min_child_weight': [1,\n",
              "                                                                            3,\n",
              "                                                                            5,\n",
              "                                                                            7]},\n",
              "                   pre_dispatch='2*n_jobs', random_state=42, refit=True,\n",
              "                   return_train_score=False, scoring='recall', verbose=10)"
            ]
          },
          "metadata": {
            "tags": []
          },
          "execution_count": 32
        }
      ]
    },
    {
      "cell_type": "code",
      "metadata": {
        "id": "4g3QxBjrRVT9",
        "colab_type": "code",
        "colab": {
          "base_uri": "https://localhost:8080/",
          "height": 123
        },
        "outputId": "3663abd0-8069-4765-a5a6-43a55872a76f"
      },
      "source": [
        "search.best_params_"
      ],
      "execution_count": null,
      "outputs": [
        {
          "output_type": "execute_result",
          "data": {
            "text/plain": [
              "{'xgbclassifier__colsample_bytree': 0.7,\n",
              " 'xgbclassifier__gamma': 0.3,\n",
              " 'xgbclassifier__learning_rate': 0.2,\n",
              " 'xgbclassifier__max_depth': 15,\n",
              " 'xgbclassifier__max_leaves': 8,\n",
              " 'xgbclassifier__min_child_weight': 1}"
            ]
          },
          "metadata": {
            "tags": []
          },
          "execution_count": 33
        }
      ]
    },
    {
      "cell_type": "code",
      "metadata": {
        "id": "scCrTE0kSjee",
        "colab_type": "code",
        "colab": {
          "base_uri": "https://localhost:8080/",
          "height": 34
        },
        "outputId": "720f67e7-dbbb-43dd-c2f1-8d7c5ff8ff86"
      },
      "source": [
        "search.best_score_"
      ],
      "execution_count": null,
      "outputs": [
        {
          "output_type": "execute_result",
          "data": {
            "text/plain": [
              "0.8201979253606773"
            ]
          },
          "metadata": {
            "tags": []
          },
          "execution_count": 34
        }
      ]
    },
    {
      "cell_type": "markdown",
      "metadata": {
        "id": "bV4A3UPdlo1d",
        "colab_type": "text"
      },
      "source": [
        "### Apply results from the randomized search\n",
        "\n",
        "I manually har code the selected parameters, as otherwise when reopening the notebook it is necessary to rerun the search, which is time intensive. There is some improvement."
      ]
    },
    {
      "cell_type": "code",
      "metadata": {
        "id": "oJXw6i-kRYeK",
        "colab_type": "code",
        "colab": {
          "base_uri": "https://localhost:8080/",
          "height": 450
        },
        "outputId": "99b1daa0-a28c-4cc0-9a6b-898a345e5514"
      },
      "source": [
        "xg_pipeline2 = make_imb_pipeline(tools.wrangleData(max_cardinality=50),\n",
        "                            ce.OrdinalEncoder(),\n",
        "                            SimpleImputer(),\n",
        "                            RandomUnderSampler(random_state=42),\n",
        "                            XGBClassifier(random_state=42,\n",
        "                                          n_jobs=-1,\n",
        "                                          colsample_bytree=0.7,\n",
        "                                          gamma=0.3,\n",
        "                                          learning_rate=0.2,\n",
        "                                          max_depth=15,\n",
        "                                          max_leaves=8,\n",
        "                                          min_child_weight=1))\n",
        "\n",
        "tools.tryModel(xg_pipeline2, X_train, y_train, X_val, y_val)"
      ],
      "execution_count": null,
      "outputs": [
        {
          "output_type": "stream",
          "text": [
            "/usr/local/lib/python3.6/dist-packages/sklearn/utils/deprecation.py:87: FutureWarning: Function safe_indexing is deprecated; safe_indexing is deprecated in version 0.22 and will be removed in version 0.24.\n",
            "  warnings.warn(msg, category=FutureWarning)\n"
          ],
          "name": "stderr"
        },
        {
          "output_type": "stream",
          "text": [
            "\n",
            "\n",
            "Train score = 93.6257499871797 %\n",
            "Validate score = 84.09779834077857 %\n",
            "\n",
            "\n"
          ],
          "name": "stdout"
        },
        {
          "output_type": "display_data",
          "data": {
            "text/plain": [
              "'Confusion Matrix'"
            ]
          },
          "metadata": {
            "tags": []
          }
        },
        {
          "output_type": "display_data",
          "data": {
            "text/html": [
              "<div>\n",
              "<style scoped>\n",
              "    .dataframe tbody tr th:only-of-type {\n",
              "        vertical-align: middle;\n",
              "    }\n",
              "\n",
              "    .dataframe tbody tr th {\n",
              "        vertical-align: top;\n",
              "    }\n",
              "\n",
              "    .dataframe thead th {\n",
              "        text-align: right;\n",
              "    }\n",
              "</style>\n",
              "<table border=\"1\" class=\"dataframe\">\n",
              "  <thead>\n",
              "    <tr style=\"text-align: right;\">\n",
              "      <th></th>\n",
              "      <th>False</th>\n",
              "      <th>True</th>\n",
              "    </tr>\n",
              "  </thead>\n",
              "  <tbody>\n",
              "    <tr>\n",
              "      <th>False</th>\n",
              "      <td>13250</td>\n",
              "      <td>2387</td>\n",
              "    </tr>\n",
              "    <tr>\n",
              "      <th>True</th>\n",
              "      <td>1600</td>\n",
              "      <td>7835</td>\n",
              "    </tr>\n",
              "  </tbody>\n",
              "</table>\n",
              "</div>"
            ],
            "text/plain": [
              "       False  True \n",
              "False  13250   2387\n",
              "True    1600   7835"
            ]
          },
          "metadata": {
            "tags": []
          }
        },
        {
          "output_type": "stream",
          "text": [
            "\n",
            "\n",
            "\n"
          ],
          "name": "stdout"
        },
        {
          "output_type": "display_data",
          "data": {
            "text/plain": [
              "'Metrics'"
            ]
          },
          "metadata": {
            "tags": []
          }
        },
        {
          "output_type": "display_data",
          "data": {
            "text/html": [
              "<div>\n",
              "<style scoped>\n",
              "    .dataframe tbody tr th:only-of-type {\n",
              "        vertical-align: middle;\n",
              "    }\n",
              "\n",
              "    .dataframe tbody tr th {\n",
              "        vertical-align: top;\n",
              "    }\n",
              "\n",
              "    .dataframe thead th {\n",
              "        text-align: right;\n",
              "    }\n",
              "</style>\n",
              "<table border=\"1\" class=\"dataframe\">\n",
              "  <thead>\n",
              "    <tr style=\"text-align: right;\">\n",
              "      <th></th>\n",
              "      <th>precision</th>\n",
              "      <th>recall</th>\n",
              "      <th>f1-score</th>\n",
              "    </tr>\n",
              "  </thead>\n",
              "  <tbody>\n",
              "    <tr>\n",
              "      <th>False</th>\n",
              "      <td>0.892256</td>\n",
              "      <td>0.847349</td>\n",
              "      <td>0.869223</td>\n",
              "    </tr>\n",
              "    <tr>\n",
              "      <th>True</th>\n",
              "      <td>0.766484</td>\n",
              "      <td>0.830419</td>\n",
              "      <td>0.797171</td>\n",
              "    </tr>\n",
              "  </tbody>\n",
              "</table>\n",
              "</div>"
            ],
            "text/plain": [
              "       precision    recall  f1-score\n",
              "False   0.892256  0.847349  0.869223\n",
              "True    0.766484  0.830419  0.797171"
            ]
          },
          "metadata": {
            "tags": []
          }
        }
      ]
    },
    {
      "cell_type": "code",
      "metadata": {
        "id": "7BDHjfBhbQiH",
        "colab_type": "code",
        "colab": {
          "base_uri": "https://localhost:8080/",
          "height": 457
        },
        "outputId": "83c53a8a-8b0a-4ca6-8f8d-0b0394bcb127"
      },
      "source": [
        "model = xg_pipeline2.named_steps['xgbclassifier']\n",
        "wrang = xg_pipeline2.named_steps['wrangledata']\n",
        "tools.ROCcurves(y_val, X_val, xg_pipeline2, classes=model.classes_)"
      ],
      "execution_count": null,
      "outputs": [
        {
          "output_type": "display_data",
          "data": {
            "image/png": "[encoded data removed]",
            "text/plain": [
              "<Figure size 720x504 with 1 Axes>"
            ]
          },
          "metadata": {
            "tags": [],
            "needs_background": "light"
          }
        }
      ]
    },
    {
      "cell_type": "markdown",
      "metadata": {
        "id": "iGs0Pbu3mUV1",
        "colab_type": "text"
      },
      "source": [
        "### Default feature importances"
      ]
    },
    {
      "cell_type": "code",
      "metadata": {
        "id": "pnlCsK32jz1r",
        "colab_type": "code",
        "colab": {
          "base_uri": "https://localhost:8080/",
          "height": 510
        },
        "outputId": "3ca1dcb7-6080-48d1-9071-90ab64ab30ab"
      },
      "source": [
        "import matplotlib.pyplot as plt\n",
        "\n",
        "importances = pd.Series(model.feature_importances_, wrang.columns_)\n",
        "plt.figure(figsize=(10, len(wrang.columns_) / 2))\n",
        "importances.sort_values().plot.barh();"
      ],
      "execution_count": null,
      "outputs": [
        {
          "output_type": "display_data",
          "data": {
            "image/png": "[encoded data removed]",
            "text/plain": [
              "<Figure size 720x612 with 1 Axes>"
            ]
          },
          "metadata": {
            "tags": [],
            "needs_background": "light"
          }
        }
      ]
    },
    {
      "cell_type": "markdown",
      "metadata": {
        "id": "_1k5cwabmbyU",
        "colab_type": "text"
      },
      "source": [
        "### Permutation feature importances\n",
        "\n",
        "Here I looked at them both in terms of accuracy score and recall."
      ]
    },
    {
      "cell_type": "code",
      "metadata": {
        "id": "UXwfwGaivcze",
        "colab_type": "code",
        "colab": {}
      },
      "source": [
        "def permutationImports(model):\n",
        "    # Pipeline for transformers alone\n",
        "    transformers = make_pipeline(tools.wrangleData(max_cardinality=50),\n",
        "                                ce.OrdinalEncoder(),\n",
        "                                SimpleImputer())\n",
        "\n",
        "    X_train_transformed = transformers.fit_transform(X_train)\n",
        "    X_train_resample, y_train_resample = RandomUnderSampler(random_state=42).fit_sample(X_train_transformed, y_train)\n",
        "    X_val_transformed = transformers.transform(X_val)\n",
        "\n",
        "    # fit the  model\n",
        "    model.fit(X_train_resample, y_train_resample)\n",
        "\n",
        "    # We'll look at the importances for both accuracy score and recall\n",
        "    permuter = PermutationImportance(\n",
        "        model,\n",
        "        scoring='accuracy',\n",
        "        random_state=42\n",
        "    )\n",
        "\n",
        "    permuter1 = PermutationImportance(\n",
        "        model,\n",
        "        scoring='recall',\n",
        "        random_state=42\n",
        "    )\n",
        "\n",
        "    permuter.fit(X_val_transformed, y_val)\n",
        "    permuter1.fit(X_val_transformed, y_val)\n",
        "\n",
        "    wrangler = transformers.named_steps['wrangledata']\n",
        "\n",
        "    print('Accuracy score\\n')\n",
        "    permute_scores = pd.Series(permuter.feature_importances_, wrangler.columns_)\n",
        "    display(permute_scores.sort_values(ascending=False))\n",
        "    print('\\n')\n",
        "\n",
        "    plt.figure(figsize=(10, len(wrangler.columns_) / 2))\n",
        "    permute_scores.sort_values().plot.barh()\n",
        "    plt.show()\n",
        "\n",
        "    print('\\nRecall scores\\n')\n",
        "    permute1_scores = pd.Series(permuter1.feature_importances_, wrangler.columns_)\n",
        "    display(permute1_scores.sort_values(ascending=False))\n",
        "    print('\\n')\n",
        "\n",
        "    plt.figure(figsize=(10, len(wrangler.columns_) / 2))\n",
        "    permute1_scores.sort_values().plot.barh()\n",
        "    plt.show()\n",
        "\n",
        "    return permute_scores, permute1_scores"
      ],
      "execution_count": null,
      "outputs": []
    },
    {
      "cell_type": "code",
      "metadata": {
        "id": "6I342pP2wSs6",
        "colab_type": "code",
        "colab": {
          "base_uri": "https://localhost:8080/",
          "height": 1000
        },
        "outputId": "2f87038c-ec9c-4152-9519-f4248615ec77"
      },
      "source": [
        "xg_model = XGBClassifier(random_state=42,\n",
        "                        n_jobs=-1,\n",
        "                        colsample_bytree=0.7,\n",
        "                        gamma=0.3,\n",
        "                        learning_rate=0.2,\n",
        "                        max_depth=15,\n",
        "                        max_leaves=5,\n",
        "                        min_child_weight=1)\n",
        "\n",
        "acc_scores, recall_scores = permutationImports(xg_model)"
      ],
      "execution_count": null,
      "outputs": [
        {
          "output_type": "stream",
          "text": [
            "/usr/local/lib/python3.6/dist-packages/sklearn/utils/deprecation.py:87: FutureWarning: Function safe_indexing is deprecated; safe_indexing is deprecated in version 0.22 and will be removed in version 0.24.\n",
            "  warnings.warn(msg, category=FutureWarning)\n"
          ],
          "name": "stderr"
        },
        {
          "output_type": "stream",
          "text": [
            "Accuracy score\n",
            "\n"
          ],
          "name": "stdout"
        },
        {
          "output_type": "display_data",
          "data": {
            "text/plain": [
              "deposit_type                   0.076683\n",
              "lead_time                      0.063481\n",
              "total_of_special_requests      0.052951\n",
              "market_segment                 0.033416\n",
              "previous_cancellations         0.030480\n",
              "adr                            0.027250\n",
              "room_type_changed              0.020788\n",
              "customer_type                  0.020637\n",
              "arrival_date_week_number       0.019935\n",
              "nights_stay                    0.019304\n",
              "required_car_parking_spaces    0.016752\n",
              "hotel                          0.011830\n",
              "booking_changes                0.010187\n",
              "adults                         0.004882\n",
              "is_repeated_guest              0.002728\n",
              "meal                           0.001260\n",
              "days_in_waiting_list           0.000487\n",
              "dtype: float64"
            ]
          },
          "metadata": {
            "tags": []
          }
        },
        {
          "output_type": "stream",
          "text": [
            "\n",
            "\n"
          ],
          "name": "stdout"
        },
        {
          "output_type": "display_data",
          "data": {
            "image/png": "[encoded data removed]",
            "text/plain": [
              "<Figure size 720x612 with 1 Axes>"
            ]
          },
          "metadata": {
            "tags": [],
            "needs_background": "light"
          }
        },
        {
          "output_type": "stream",
          "text": [
            "\n",
            "Recall scores\n",
            "\n"
          ],
          "name": "stdout"
        },
        {
          "output_type": "display_data",
          "data": {
            "text/plain": [
              "market_segment                 0.098336\n",
              "lead_time                      0.073047\n",
              "adr                            0.072496\n",
              "customer_type                  0.071415\n",
              "room_type_changed              0.050747\n",
              "deposit_type                   0.050005\n",
              "total_of_special_requests      0.041208\n",
              "arrival_date_week_number       0.031627\n",
              "required_car_parking_spaces    0.030758\n",
              "previous_cancellations         0.020901\n",
              "booking_changes                0.018654\n",
              "nights_stay                    0.018506\n",
              "hotel                          0.011214\n",
              "meal                           0.010620\n",
              "is_repeated_guest              0.010493\n",
              "adults                         0.004303\n",
              "days_in_waiting_list           0.002374\n",
              "dtype: float64"
            ]
          },
          "metadata": {
            "tags": []
          }
        },
        {
          "output_type": "stream",
          "text": [
            "\n",
            "\n"
          ],
          "name": "stdout"
        },
        {
          "output_type": "display_data",
          "data": {
            "image/png": "[encoded data removed]",
            "text/plain": [
              "<Figure size 720x612 with 1 Axes>"
            ]
          },
          "metadata": {
            "tags": [],
            "needs_background": "light"
          }
        }
      ]
    },
    {
      "cell_type": "markdown",
      "metadata": {
        "id": "gToob7-MmuBb",
        "colab_type": "text"
      },
      "source": [
        "### Run the model on the test set, as a final step (or so I thought)"
      ]
    },
    {
      "cell_type": "code",
      "metadata": {
        "id": "z8ACqTHkFYsI",
        "colab_type": "code",
        "colab": {}
      },
      "source": [
        "y_pred = xg_pipeline2.predict(X_test)"
      ],
      "execution_count": null,
      "outputs": []
    },
    {
      "cell_type": "code",
      "metadata": {
        "id": "NN9iY1DOFxwW",
        "colab_type": "code",
        "colab": {
          "base_uri": "https://localhost:8080/",
          "height": 107
        },
        "outputId": "a76feb8c-c6b6-4ff2-fd03-94d39bb11c2f"
      },
      "source": [
        "results = tools.class_metrics(y_test, y_pred)\n",
        "results[0]"
      ],
      "execution_count": null,
      "outputs": [
        {
          "output_type": "execute_result",
          "data": {
            "text/html": [
              "<div>\n",
              "<style scoped>\n",
              "    .dataframe tbody tr th:only-of-type {\n",
              "        vertical-align: middle;\n",
              "    }\n",
              "\n",
              "    .dataframe tbody tr th {\n",
              "        vertical-align: top;\n",
              "    }\n",
              "\n",
              "    .dataframe thead th {\n",
              "        text-align: right;\n",
              "    }\n",
              "</style>\n",
              "<table border=\"1\" class=\"dataframe\">\n",
              "  <thead>\n",
              "    <tr style=\"text-align: right;\">\n",
              "      <th></th>\n",
              "      <th>False</th>\n",
              "      <th>True</th>\n",
              "    </tr>\n",
              "  </thead>\n",
              "  <tbody>\n",
              "    <tr>\n",
              "      <th>False</th>\n",
              "      <td>19022</td>\n",
              "      <td>3316</td>\n",
              "    </tr>\n",
              "    <tr>\n",
              "      <th>True</th>\n",
              "      <td>2301</td>\n",
              "      <td>11178</td>\n",
              "    </tr>\n",
              "  </tbody>\n",
              "</table>\n",
              "</div>"
            ],
            "text/plain": [
              "       False  True \n",
              "False  19022   3316\n",
              "True    2301  11178"
            ]
          },
          "metadata": {
            "tags": []
          },
          "execution_count": 37
        }
      ]
    },
    {
      "cell_type": "code",
      "metadata": {
        "id": "UxbrkNwZF465",
        "colab_type": "code",
        "colab": {
          "base_uri": "https://localhost:8080/",
          "height": 107
        },
        "outputId": "706dccc6-3db8-4e58-894b-6404cf3ffd89"
      },
      "source": [
        "results[1]"
      ],
      "execution_count": null,
      "outputs": [
        {
          "output_type": "execute_result",
          "data": {
            "text/html": [
              "<div>\n",
              "<style scoped>\n",
              "    .dataframe tbody tr th:only-of-type {\n",
              "        vertical-align: middle;\n",
              "    }\n",
              "\n",
              "    .dataframe tbody tr th {\n",
              "        vertical-align: top;\n",
              "    }\n",
              "\n",
              "    .dataframe thead th {\n",
              "        text-align: right;\n",
              "    }\n",
              "</style>\n",
              "<table border=\"1\" class=\"dataframe\">\n",
              "  <thead>\n",
              "    <tr style=\"text-align: right;\">\n",
              "      <th></th>\n",
              "      <th>precision</th>\n",
              "      <th>recall</th>\n",
              "      <th>f1-score</th>\n",
              "    </tr>\n",
              "  </thead>\n",
              "  <tbody>\n",
              "    <tr>\n",
              "      <th>False</th>\n",
              "      <td>0.892088</td>\n",
              "      <td>0.851553</td>\n",
              "      <td>0.871350</td>\n",
              "    </tr>\n",
              "    <tr>\n",
              "      <th>True</th>\n",
              "      <td>0.771216</td>\n",
              "      <td>0.829290</td>\n",
              "      <td>0.799199</td>\n",
              "    </tr>\n",
              "  </tbody>\n",
              "</table>\n",
              "</div>"
            ],
            "text/plain": [
              "       precision    recall  f1-score\n",
              "False   0.892088  0.851553  0.871350\n",
              "True    0.771216  0.829290  0.799199"
            ]
          },
          "metadata": {
            "tags": []
          },
          "execution_count": 38
        }
      ]
    },
    {
      "cell_type": "code",
      "metadata": {
        "id": "MzT07HrvGGsK",
        "colab_type": "code",
        "colab": {
          "base_uri": "https://localhost:8080/",
          "height": 34
        },
        "outputId": "9f04a2b0-86f5-438c-9979-4352ae78a450"
      },
      "source": [
        "from sklearn.metrics import accuracy_score\n",
        "accuracy = accuracy_score(y_test, y_pred)\n",
        "print(f'Accuracy = {accuracy * 100} %')"
      ],
      "execution_count": null,
      "outputs": [
        {
          "output_type": "stream",
          "text": [
            "Accuracy = 84.31750286176955 %\n"
          ],
          "name": "stdout"
        }
      ]
    },
    {
      "cell_type": "code",
      "metadata": {
        "id": "5l1-PprTGfwM",
        "colab_type": "code",
        "colab": {}
      },
      "source": [
        ""
      ],
      "execution_count": null,
      "outputs": []
    }
  ]
}