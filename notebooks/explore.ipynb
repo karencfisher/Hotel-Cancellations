{
  "nbformat": 4,
  "nbformat_minor": 0,
  "metadata": {
    "kernelspec": {
      "display_name": "Python 3",
      "language": "python",
      "name": "python3"
    },
    "language_info": {
      "codemirror_mode": {
        "name": "ipython",
        "version": 3
      },
      "file_extension": ".py",
      "mimetype": "text/x-python",
      "name": "python",
      "nbconvert_exporter": "python",
      "pygments_lexer": "ipython3",
      "version": "3.7.4"
    },
    "colab": {
      "name": "explore.ipynb",
      "provenance": [],
      "include_colab_link": true
    }
  },
  "cells": [
    {
      "cell_type": "markdown",
      "metadata": {
        "id": "view-in-github",
        "colab_type": "text"
      },
      "source": [
        "<a href=\"https://colab.research.google.com/github/karencfisher/Hotel-Cancellations/blob/master/notebooks/explore.ipynb\" target=\"_parent\"><img src=\"https://colab.research.google.com/assets/colab-badge.svg\" alt=\"Open In Colab\"/></a>"
      ]
    },
    {
      "cell_type": "code",
      "metadata": {
        "id": "yIZcP8dVy6Tb",
        "colab_type": "code",
        "colab": {}
      },
      "source": [
        "import pandas as pd\n",
        "pd.set_option('display.max_columns', None)"
      ],
      "execution_count": 0,
      "outputs": []
    },
    {
      "cell_type": "code",
      "metadata": {
        "id": "fnmYKu8by6Ti",
        "colab_type": "code",
        "outputId": "0dc26242-87b0-4472-9e59-223c7cceee4b",
        "colab": {}
      },
      "source": [
        "url = 'https://raw.githubusercontent.com/karencfisher/Hotel-Cancellations/master/hotel_bookings.csv'\n",
        "df = pd.read_csv(url)\n",
        "df.head(10)"
      ],
      "execution_count": 0,
      "outputs": [
        {
          "output_type": "execute_result",
          "data": {
            "text/html": [
              "<div>\n",
              "<style scoped>\n",
              "    .dataframe tbody tr th:only-of-type {\n",
              "        vertical-align: middle;\n",
              "    }\n",
              "\n",
              "    .dataframe tbody tr th {\n",
              "        vertical-align: top;\n",
              "    }\n",
              "\n",
              "    .dataframe thead th {\n",
              "        text-align: right;\n",
              "    }\n",
              "</style>\n",
              "<table border=\"1\" class=\"dataframe\">\n",
              "  <thead>\n",
              "    <tr style=\"text-align: right;\">\n",
              "      <th></th>\n",
              "      <th>hotel</th>\n",
              "      <th>is_canceled</th>\n",
              "      <th>lead_time</th>\n",
              "      <th>arrival_date_year</th>\n",
              "      <th>arrival_date_month</th>\n",
              "      <th>arrival_date_week_number</th>\n",
              "      <th>arrival_date_day_of_month</th>\n",
              "      <th>stays_in_weekend_nights</th>\n",
              "      <th>stays_in_week_nights</th>\n",
              "      <th>adults</th>\n",
              "      <th>children</th>\n",
              "      <th>babies</th>\n",
              "      <th>meal</th>\n",
              "      <th>country</th>\n",
              "      <th>market_segment</th>\n",
              "      <th>distribution_channel</th>\n",
              "      <th>is_repeated_guest</th>\n",
              "      <th>previous_cancellations</th>\n",
              "      <th>previous_bookings_not_canceled</th>\n",
              "      <th>reserved_room_type</th>\n",
              "      <th>assigned_room_type</th>\n",
              "      <th>booking_changes</th>\n",
              "      <th>deposit_type</th>\n",
              "      <th>agent</th>\n",
              "      <th>company</th>\n",
              "      <th>days_in_waiting_list</th>\n",
              "      <th>customer_type</th>\n",
              "      <th>adr</th>\n",
              "      <th>required_car_parking_spaces</th>\n",
              "      <th>total_of_special_requests</th>\n",
              "      <th>reservation_status</th>\n",
              "      <th>reservation_status_date</th>\n",
              "    </tr>\n",
              "  </thead>\n",
              "  <tbody>\n",
              "    <tr>\n",
              "      <td>0</td>\n",
              "      <td>Resort Hotel</td>\n",
              "      <td>0</td>\n",
              "      <td>342</td>\n",
              "      <td>2015</td>\n",
              "      <td>July</td>\n",
              "      <td>27</td>\n",
              "      <td>1</td>\n",
              "      <td>0</td>\n",
              "      <td>0</td>\n",
              "      <td>2</td>\n",
              "      <td>0.0</td>\n",
              "      <td>0</td>\n",
              "      <td>BB</td>\n",
              "      <td>PRT</td>\n",
              "      <td>Direct</td>\n",
              "      <td>Direct</td>\n",
              "      <td>0</td>\n",
              "      <td>0</td>\n",
              "      <td>0</td>\n",
              "      <td>C</td>\n",
              "      <td>C</td>\n",
              "      <td>3</td>\n",
              "      <td>No Deposit</td>\n",
              "      <td>NaN</td>\n",
              "      <td>NaN</td>\n",
              "      <td>0</td>\n",
              "      <td>Transient</td>\n",
              "      <td>0.0</td>\n",
              "      <td>0</td>\n",
              "      <td>0</td>\n",
              "      <td>Check-Out</td>\n",
              "      <td>2015-07-01</td>\n",
              "    </tr>\n",
              "    <tr>\n",
              "      <td>1</td>\n",
              "      <td>Resort Hotel</td>\n",
              "      <td>0</td>\n",
              "      <td>737</td>\n",
              "      <td>2015</td>\n",
              "      <td>July</td>\n",
              "      <td>27</td>\n",
              "      <td>1</td>\n",
              "      <td>0</td>\n",
              "      <td>0</td>\n",
              "      <td>2</td>\n",
              "      <td>0.0</td>\n",
              "      <td>0</td>\n",
              "      <td>BB</td>\n",
              "      <td>PRT</td>\n",
              "      <td>Direct</td>\n",
              "      <td>Direct</td>\n",
              "      <td>0</td>\n",
              "      <td>0</td>\n",
              "      <td>0</td>\n",
              "      <td>C</td>\n",
              "      <td>C</td>\n",
              "      <td>4</td>\n",
              "      <td>No Deposit</td>\n",
              "      <td>NaN</td>\n",
              "      <td>NaN</td>\n",
              "      <td>0</td>\n",
              "      <td>Transient</td>\n",
              "      <td>0.0</td>\n",
              "      <td>0</td>\n",
              "      <td>0</td>\n",
              "      <td>Check-Out</td>\n",
              "      <td>2015-07-01</td>\n",
              "    </tr>\n",
              "    <tr>\n",
              "      <td>2</td>\n",
              "      <td>Resort Hotel</td>\n",
              "      <td>0</td>\n",
              "      <td>7</td>\n",
              "      <td>2015</td>\n",
              "      <td>July</td>\n",
              "      <td>27</td>\n",
              "      <td>1</td>\n",
              "      <td>0</td>\n",
              "      <td>1</td>\n",
              "      <td>1</td>\n",
              "      <td>0.0</td>\n",
              "      <td>0</td>\n",
              "      <td>BB</td>\n",
              "      <td>GBR</td>\n",
              "      <td>Direct</td>\n",
              "      <td>Direct</td>\n",
              "      <td>0</td>\n",
              "      <td>0</td>\n",
              "      <td>0</td>\n",
              "      <td>A</td>\n",
              "      <td>C</td>\n",
              "      <td>0</td>\n",
              "      <td>No Deposit</td>\n",
              "      <td>NaN</td>\n",
              "      <td>NaN</td>\n",
              "      <td>0</td>\n",
              "      <td>Transient</td>\n",
              "      <td>75.0</td>\n",
              "      <td>0</td>\n",
              "      <td>0</td>\n",
              "      <td>Check-Out</td>\n",
              "      <td>2015-07-02</td>\n",
              "    </tr>\n",
              "    <tr>\n",
              "      <td>3</td>\n",
              "      <td>Resort Hotel</td>\n",
              "      <td>0</td>\n",
              "      <td>13</td>\n",
              "      <td>2015</td>\n",
              "      <td>July</td>\n",
              "      <td>27</td>\n",
              "      <td>1</td>\n",
              "      <td>0</td>\n",
              "      <td>1</td>\n",
              "      <td>1</td>\n",
              "      <td>0.0</td>\n",
              "      <td>0</td>\n",
              "      <td>BB</td>\n",
              "      <td>GBR</td>\n",
              "      <td>Corporate</td>\n",
              "      <td>Corporate</td>\n",
              "      <td>0</td>\n",
              "      <td>0</td>\n",
              "      <td>0</td>\n",
              "      <td>A</td>\n",
              "      <td>A</td>\n",
              "      <td>0</td>\n",
              "      <td>No Deposit</td>\n",
              "      <td>304.0</td>\n",
              "      <td>NaN</td>\n",
              "      <td>0</td>\n",
              "      <td>Transient</td>\n",
              "      <td>75.0</td>\n",
              "      <td>0</td>\n",
              "      <td>0</td>\n",
              "      <td>Check-Out</td>\n",
              "      <td>2015-07-02</td>\n",
              "    </tr>\n",
              "    <tr>\n",
              "      <td>4</td>\n",
              "      <td>Resort Hotel</td>\n",
              "      <td>0</td>\n",
              "      <td>14</td>\n",
              "      <td>2015</td>\n",
              "      <td>July</td>\n",
              "      <td>27</td>\n",
              "      <td>1</td>\n",
              "      <td>0</td>\n",
              "      <td>2</td>\n",
              "      <td>2</td>\n",
              "      <td>0.0</td>\n",
              "      <td>0</td>\n",
              "      <td>BB</td>\n",
              "      <td>GBR</td>\n",
              "      <td>Online TA</td>\n",
              "      <td>TA/TO</td>\n",
              "      <td>0</td>\n",
              "      <td>0</td>\n",
              "      <td>0</td>\n",
              "      <td>A</td>\n",
              "      <td>A</td>\n",
              "      <td>0</td>\n",
              "      <td>No Deposit</td>\n",
              "      <td>240.0</td>\n",
              "      <td>NaN</td>\n",
              "      <td>0</td>\n",
              "      <td>Transient</td>\n",
              "      <td>98.0</td>\n",
              "      <td>0</td>\n",
              "      <td>1</td>\n",
              "      <td>Check-Out</td>\n",
              "      <td>2015-07-03</td>\n",
              "    </tr>\n",
              "    <tr>\n",
              "      <td>5</td>\n",
              "      <td>Resort Hotel</td>\n",
              "      <td>0</td>\n",
              "      <td>14</td>\n",
              "      <td>2015</td>\n",
              "      <td>July</td>\n",
              "      <td>27</td>\n",
              "      <td>1</td>\n",
              "      <td>0</td>\n",
              "      <td>2</td>\n",
              "      <td>2</td>\n",
              "      <td>0.0</td>\n",
              "      <td>0</td>\n",
              "      <td>BB</td>\n",
              "      <td>GBR</td>\n",
              "      <td>Online TA</td>\n",
              "      <td>TA/TO</td>\n",
              "      <td>0</td>\n",
              "      <td>0</td>\n",
              "      <td>0</td>\n",
              "      <td>A</td>\n",
              "      <td>A</td>\n",
              "      <td>0</td>\n",
              "      <td>No Deposit</td>\n",
              "      <td>240.0</td>\n",
              "      <td>NaN</td>\n",
              "      <td>0</td>\n",
              "      <td>Transient</td>\n",
              "      <td>98.0</td>\n",
              "      <td>0</td>\n",
              "      <td>1</td>\n",
              "      <td>Check-Out</td>\n",
              "      <td>2015-07-03</td>\n",
              "    </tr>\n",
              "    <tr>\n",
              "      <td>6</td>\n",
              "      <td>Resort Hotel</td>\n",
              "      <td>0</td>\n",
              "      <td>0</td>\n",
              "      <td>2015</td>\n",
              "      <td>July</td>\n",
              "      <td>27</td>\n",
              "      <td>1</td>\n",
              "      <td>0</td>\n",
              "      <td>2</td>\n",
              "      <td>2</td>\n",
              "      <td>0.0</td>\n",
              "      <td>0</td>\n",
              "      <td>BB</td>\n",
              "      <td>PRT</td>\n",
              "      <td>Direct</td>\n",
              "      <td>Direct</td>\n",
              "      <td>0</td>\n",
              "      <td>0</td>\n",
              "      <td>0</td>\n",
              "      <td>C</td>\n",
              "      <td>C</td>\n",
              "      <td>0</td>\n",
              "      <td>No Deposit</td>\n",
              "      <td>NaN</td>\n",
              "      <td>NaN</td>\n",
              "      <td>0</td>\n",
              "      <td>Transient</td>\n",
              "      <td>107.0</td>\n",
              "      <td>0</td>\n",
              "      <td>0</td>\n",
              "      <td>Check-Out</td>\n",
              "      <td>2015-07-03</td>\n",
              "    </tr>\n",
              "    <tr>\n",
              "      <td>7</td>\n",
              "      <td>Resort Hotel</td>\n",
              "      <td>0</td>\n",
              "      <td>9</td>\n",
              "      <td>2015</td>\n",
              "      <td>July</td>\n",
              "      <td>27</td>\n",
              "      <td>1</td>\n",
              "      <td>0</td>\n",
              "      <td>2</td>\n",
              "      <td>2</td>\n",
              "      <td>0.0</td>\n",
              "      <td>0</td>\n",
              "      <td>FB</td>\n",
              "      <td>PRT</td>\n",
              "      <td>Direct</td>\n",
              "      <td>Direct</td>\n",
              "      <td>0</td>\n",
              "      <td>0</td>\n",
              "      <td>0</td>\n",
              "      <td>C</td>\n",
              "      <td>C</td>\n",
              "      <td>0</td>\n",
              "      <td>No Deposit</td>\n",
              "      <td>303.0</td>\n",
              "      <td>NaN</td>\n",
              "      <td>0</td>\n",
              "      <td>Transient</td>\n",
              "      <td>103.0</td>\n",
              "      <td>0</td>\n",
              "      <td>1</td>\n",
              "      <td>Check-Out</td>\n",
              "      <td>2015-07-03</td>\n",
              "    </tr>\n",
              "    <tr>\n",
              "      <td>8</td>\n",
              "      <td>Resort Hotel</td>\n",
              "      <td>1</td>\n",
              "      <td>85</td>\n",
              "      <td>2015</td>\n",
              "      <td>July</td>\n",
              "      <td>27</td>\n",
              "      <td>1</td>\n",
              "      <td>0</td>\n",
              "      <td>3</td>\n",
              "      <td>2</td>\n",
              "      <td>0.0</td>\n",
              "      <td>0</td>\n",
              "      <td>BB</td>\n",
              "      <td>PRT</td>\n",
              "      <td>Online TA</td>\n",
              "      <td>TA/TO</td>\n",
              "      <td>0</td>\n",
              "      <td>0</td>\n",
              "      <td>0</td>\n",
              "      <td>A</td>\n",
              "      <td>A</td>\n",
              "      <td>0</td>\n",
              "      <td>No Deposit</td>\n",
              "      <td>240.0</td>\n",
              "      <td>NaN</td>\n",
              "      <td>0</td>\n",
              "      <td>Transient</td>\n",
              "      <td>82.0</td>\n",
              "      <td>0</td>\n",
              "      <td>1</td>\n",
              "      <td>Canceled</td>\n",
              "      <td>2015-05-06</td>\n",
              "    </tr>\n",
              "    <tr>\n",
              "      <td>9</td>\n",
              "      <td>Resort Hotel</td>\n",
              "      <td>1</td>\n",
              "      <td>75</td>\n",
              "      <td>2015</td>\n",
              "      <td>July</td>\n",
              "      <td>27</td>\n",
              "      <td>1</td>\n",
              "      <td>0</td>\n",
              "      <td>3</td>\n",
              "      <td>2</td>\n",
              "      <td>0.0</td>\n",
              "      <td>0</td>\n",
              "      <td>HB</td>\n",
              "      <td>PRT</td>\n",
              "      <td>Offline TA/TO</td>\n",
              "      <td>TA/TO</td>\n",
              "      <td>0</td>\n",
              "      <td>0</td>\n",
              "      <td>0</td>\n",
              "      <td>D</td>\n",
              "      <td>D</td>\n",
              "      <td>0</td>\n",
              "      <td>No Deposit</td>\n",
              "      <td>15.0</td>\n",
              "      <td>NaN</td>\n",
              "      <td>0</td>\n",
              "      <td>Transient</td>\n",
              "      <td>105.5</td>\n",
              "      <td>0</td>\n",
              "      <td>0</td>\n",
              "      <td>Canceled</td>\n",
              "      <td>2015-04-22</td>\n",
              "    </tr>\n",
              "  </tbody>\n",
              "</table>\n",
              "</div>"
            ],
            "text/plain": [
              "          hotel  is_canceled  lead_time  arrival_date_year arrival_date_month  \\\n",
              "0  Resort Hotel            0        342               2015               July   \n",
              "1  Resort Hotel            0        737               2015               July   \n",
              "2  Resort Hotel            0          7               2015               July   \n",
              "3  Resort Hotel            0         13               2015               July   \n",
              "4  Resort Hotel            0         14               2015               July   \n",
              "5  Resort Hotel            0         14               2015               July   \n",
              "6  Resort Hotel            0          0               2015               July   \n",
              "7  Resort Hotel            0          9               2015               July   \n",
              "8  Resort Hotel            1         85               2015               July   \n",
              "9  Resort Hotel            1         75               2015               July   \n",
              "\n",
              "   arrival_date_week_number  arrival_date_day_of_month  \\\n",
              "0                        27                          1   \n",
              "1                        27                          1   \n",
              "2                        27                          1   \n",
              "3                        27                          1   \n",
              "4                        27                          1   \n",
              "5                        27                          1   \n",
              "6                        27                          1   \n",
              "7                        27                          1   \n",
              "8                        27                          1   \n",
              "9                        27                          1   \n",
              "\n",
              "   stays_in_weekend_nights  stays_in_week_nights  adults  children  babies  \\\n",
              "0                        0                     0       2       0.0       0   \n",
              "1                        0                     0       2       0.0       0   \n",
              "2                        0                     1       1       0.0       0   \n",
              "3                        0                     1       1       0.0       0   \n",
              "4                        0                     2       2       0.0       0   \n",
              "5                        0                     2       2       0.0       0   \n",
              "6                        0                     2       2       0.0       0   \n",
              "7                        0                     2       2       0.0       0   \n",
              "8                        0                     3       2       0.0       0   \n",
              "9                        0                     3       2       0.0       0   \n",
              "\n",
              "  meal country market_segment distribution_channel  is_repeated_guest  \\\n",
              "0   BB     PRT         Direct               Direct                  0   \n",
              "1   BB     PRT         Direct               Direct                  0   \n",
              "2   BB     GBR         Direct               Direct                  0   \n",
              "3   BB     GBR      Corporate            Corporate                  0   \n",
              "4   BB     GBR      Online TA                TA/TO                  0   \n",
              "5   BB     GBR      Online TA                TA/TO                  0   \n",
              "6   BB     PRT         Direct               Direct                  0   \n",
              "7   FB     PRT         Direct               Direct                  0   \n",
              "8   BB     PRT      Online TA                TA/TO                  0   \n",
              "9   HB     PRT  Offline TA/TO                TA/TO                  0   \n",
              "\n",
              "   previous_cancellations  previous_bookings_not_canceled reserved_room_type  \\\n",
              "0                       0                               0                  C   \n",
              "1                       0                               0                  C   \n",
              "2                       0                               0                  A   \n",
              "3                       0                               0                  A   \n",
              "4                       0                               0                  A   \n",
              "5                       0                               0                  A   \n",
              "6                       0                               0                  C   \n",
              "7                       0                               0                  C   \n",
              "8                       0                               0                  A   \n",
              "9                       0                               0                  D   \n",
              "\n",
              "  assigned_room_type  booking_changes deposit_type  agent  company  \\\n",
              "0                  C                3   No Deposit    NaN      NaN   \n",
              "1                  C                4   No Deposit    NaN      NaN   \n",
              "2                  C                0   No Deposit    NaN      NaN   \n",
              "3                  A                0   No Deposit  304.0      NaN   \n",
              "4                  A                0   No Deposit  240.0      NaN   \n",
              "5                  A                0   No Deposit  240.0      NaN   \n",
              "6                  C                0   No Deposit    NaN      NaN   \n",
              "7                  C                0   No Deposit  303.0      NaN   \n",
              "8                  A                0   No Deposit  240.0      NaN   \n",
              "9                  D                0   No Deposit   15.0      NaN   \n",
              "\n",
              "   days_in_waiting_list customer_type    adr  required_car_parking_spaces  \\\n",
              "0                     0     Transient    0.0                            0   \n",
              "1                     0     Transient    0.0                            0   \n",
              "2                     0     Transient   75.0                            0   \n",
              "3                     0     Transient   75.0                            0   \n",
              "4                     0     Transient   98.0                            0   \n",
              "5                     0     Transient   98.0                            0   \n",
              "6                     0     Transient  107.0                            0   \n",
              "7                     0     Transient  103.0                            0   \n",
              "8                     0     Transient   82.0                            0   \n",
              "9                     0     Transient  105.5                            0   \n",
              "\n",
              "   total_of_special_requests reservation_status reservation_status_date  \n",
              "0                          0          Check-Out              2015-07-01  \n",
              "1                          0          Check-Out              2015-07-01  \n",
              "2                          0          Check-Out              2015-07-02  \n",
              "3                          0          Check-Out              2015-07-02  \n",
              "4                          1          Check-Out              2015-07-03  \n",
              "5                          1          Check-Out              2015-07-03  \n",
              "6                          0          Check-Out              2015-07-03  \n",
              "7                          1          Check-Out              2015-07-03  \n",
              "8                          1           Canceled              2015-05-06  \n",
              "9                          0           Canceled              2015-04-22  "
            ]
          },
          "metadata": {
            "tags": []
          },
          "execution_count": 19
        }
      ]
    },
    {
      "cell_type": "code",
      "metadata": {
        "id": "oYdh7hMdy6Tm",
        "colab_type": "code",
        "outputId": "00c8ce56-5f2f-4f97-dc09-eb89db10471d",
        "colab": {}
      },
      "source": [
        "df.shape"
      ],
      "execution_count": 0,
      "outputs": [
        {
          "output_type": "execute_result",
          "data": {
            "text/plain": [
              "(119390, 32)"
            ]
          },
          "metadata": {
            "tags": []
          },
          "execution_count": 4
        }
      ]
    },
    {
      "cell_type": "code",
      "metadata": {
        "id": "DKbLT2Xay6Tr",
        "colab_type": "code",
        "outputId": "9d3a315f-fc0c-46bb-93dc-e95dc80e8210",
        "colab": {}
      },
      "source": [
        "df.isnull().sum()"
      ],
      "execution_count": 0,
      "outputs": [
        {
          "output_type": "execute_result",
          "data": {
            "text/plain": [
              "hotel                                  0\n",
              "is_canceled                            0\n",
              "lead_time                              0\n",
              "arrival_date_year                      0\n",
              "arrival_date_month                     0\n",
              "arrival_date_week_number               0\n",
              "arrival_date_day_of_month              0\n",
              "stays_in_weekend_nights                0\n",
              "stays_in_week_nights                   0\n",
              "adults                                 0\n",
              "children                               4\n",
              "babies                                 0\n",
              "meal                                   0\n",
              "country                              488\n",
              "market_segment                         0\n",
              "distribution_channel                   0\n",
              "is_repeated_guest                      0\n",
              "previous_cancellations                 0\n",
              "previous_bookings_not_canceled         0\n",
              "reserved_room_type                     0\n",
              "assigned_room_type                     0\n",
              "booking_changes                        0\n",
              "deposit_type                           0\n",
              "agent                              16340\n",
              "company                           112593\n",
              "days_in_waiting_list                   0\n",
              "customer_type                          0\n",
              "adr                                    0\n",
              "required_car_parking_spaces            0\n",
              "total_of_special_requests              0\n",
              "reservation_status                     0\n",
              "reservation_status_date                0\n",
              "dtype: int64"
            ]
          },
          "metadata": {
            "tags": []
          },
          "execution_count": 5
        }
      ]
    },
    {
      "cell_type": "code",
      "metadata": {
        "id": "OMs-ienXy6Tv",
        "colab_type": "code",
        "outputId": "f3439d70-02c5-42c9-ca86-bd747dcbc32c",
        "colab": {}
      },
      "source": [
        "df[(df['stays_in_weekend_nights'] == 0) & (df['stays_in_week_nights'] == 0)]['stays_in_week_nights'].count()"
      ],
      "execution_count": 0,
      "outputs": [
        {
          "output_type": "execute_result",
          "data": {
            "text/plain": [
              "715"
            ]
          },
          "metadata": {
            "tags": []
          },
          "execution_count": 25
        }
      ]
    },
    {
      "cell_type": "code",
      "metadata": {
        "id": "g4w7_nCey6T1",
        "colab_type": "code",
        "outputId": "2a65bafc-3a6f-435f-fede-19f3759ce422",
        "colab": {}
      },
      "source": [
        "df[df['adr'] == 0]['adr'].count()"
      ],
      "execution_count": 0,
      "outputs": [
        {
          "output_type": "execute_result",
          "data": {
            "text/plain": [
              "1959"
            ]
          },
          "metadata": {
            "tags": []
          },
          "execution_count": 26
        }
      ]
    },
    {
      "cell_type": "code",
      "metadata": {
        "id": "VjrhV5vcy6T4",
        "colab_type": "code",
        "outputId": "d20f6e1e-f2de-4ed5-cd1b-dd6da56aaf28",
        "colab": {}
      },
      "source": [
        "df.dtypes"
      ],
      "execution_count": 0,
      "outputs": [
        {
          "output_type": "execute_result",
          "data": {
            "text/plain": [
              "hotel                              object\n",
              "is_canceled                         int64\n",
              "lead_time                           int64\n",
              "arrival_date_year                   int64\n",
              "arrival_date_month                 object\n",
              "arrival_date_week_number            int64\n",
              "arrival_date_day_of_month           int64\n",
              "stays_in_weekend_nights             int64\n",
              "stays_in_week_nights                int64\n",
              "adults                              int64\n",
              "children                          float64\n",
              "babies                              int64\n",
              "meal                               object\n",
              "country                            object\n",
              "market_segment                     object\n",
              "distribution_channel               object\n",
              "is_repeated_guest                   int64\n",
              "previous_cancellations              int64\n",
              "previous_bookings_not_canceled      int64\n",
              "reserved_room_type                 object\n",
              "assigned_room_type                 object\n",
              "booking_changes                     int64\n",
              "deposit_type                       object\n",
              "agent                             float64\n",
              "company                           float64\n",
              "days_in_waiting_list                int64\n",
              "customer_type                      object\n",
              "adr                               float64\n",
              "required_car_parking_spaces         int64\n",
              "total_of_special_requests           int64\n",
              "reservation_status                 object\n",
              "reservation_status_date            object\n",
              "dtype: object"
            ]
          },
          "metadata": {
            "tags": []
          },
          "execution_count": 6
        }
      ]
    },
    {
      "cell_type": "code",
      "metadata": {
        "id": "BmxROn6Fy6T8",
        "colab_type": "code",
        "outputId": "2f09957e-e679-4ef8-b65a-33002ce83048",
        "colab": {}
      },
      "source": [
        "df.describe()"
      ],
      "execution_count": 0,
      "outputs": [
        {
          "output_type": "execute_result",
          "data": {
            "text/html": [
              "<div>\n",
              "<style scoped>\n",
              "    .dataframe tbody tr th:only-of-type {\n",
              "        vertical-align: middle;\n",
              "    }\n",
              "\n",
              "    .dataframe tbody tr th {\n",
              "        vertical-align: top;\n",
              "    }\n",
              "\n",
              "    .dataframe thead th {\n",
              "        text-align: right;\n",
              "    }\n",
              "</style>\n",
              "<table border=\"1\" class=\"dataframe\">\n",
              "  <thead>\n",
              "    <tr style=\"text-align: right;\">\n",
              "      <th></th>\n",
              "      <th>is_canceled</th>\n",
              "      <th>lead_time</th>\n",
              "      <th>arrival_date_year</th>\n",
              "      <th>arrival_date_week_number</th>\n",
              "      <th>arrival_date_day_of_month</th>\n",
              "      <th>stays_in_weekend_nights</th>\n",
              "      <th>stays_in_week_nights</th>\n",
              "      <th>adults</th>\n",
              "      <th>children</th>\n",
              "      <th>babies</th>\n",
              "      <th>is_repeated_guest</th>\n",
              "      <th>previous_cancellations</th>\n",
              "      <th>previous_bookings_not_canceled</th>\n",
              "      <th>booking_changes</th>\n",
              "      <th>agent</th>\n",
              "      <th>company</th>\n",
              "      <th>days_in_waiting_list</th>\n",
              "      <th>adr</th>\n",
              "      <th>required_car_parking_spaces</th>\n",
              "      <th>total_of_special_requests</th>\n",
              "    </tr>\n",
              "  </thead>\n",
              "  <tbody>\n",
              "    <tr>\n",
              "      <td>count</td>\n",
              "      <td>119390.000000</td>\n",
              "      <td>119390.000000</td>\n",
              "      <td>119390.000000</td>\n",
              "      <td>119390.000000</td>\n",
              "      <td>119390.000000</td>\n",
              "      <td>119390.000000</td>\n",
              "      <td>119390.000000</td>\n",
              "      <td>119390.000000</td>\n",
              "      <td>119386.000000</td>\n",
              "      <td>119390.000000</td>\n",
              "      <td>119390.000000</td>\n",
              "      <td>119390.000000</td>\n",
              "      <td>119390.000000</td>\n",
              "      <td>119390.000000</td>\n",
              "      <td>103050.000000</td>\n",
              "      <td>6797.000000</td>\n",
              "      <td>119390.000000</td>\n",
              "      <td>119390.000000</td>\n",
              "      <td>119390.000000</td>\n",
              "      <td>119390.000000</td>\n",
              "    </tr>\n",
              "    <tr>\n",
              "      <td>mean</td>\n",
              "      <td>0.370416</td>\n",
              "      <td>104.011416</td>\n",
              "      <td>2016.156554</td>\n",
              "      <td>27.165173</td>\n",
              "      <td>15.798241</td>\n",
              "      <td>0.927599</td>\n",
              "      <td>2.500302</td>\n",
              "      <td>1.856403</td>\n",
              "      <td>0.103890</td>\n",
              "      <td>0.007949</td>\n",
              "      <td>0.031912</td>\n",
              "      <td>0.087118</td>\n",
              "      <td>0.137097</td>\n",
              "      <td>0.221124</td>\n",
              "      <td>86.693382</td>\n",
              "      <td>189.266735</td>\n",
              "      <td>2.321149</td>\n",
              "      <td>101.831122</td>\n",
              "      <td>0.062518</td>\n",
              "      <td>0.571363</td>\n",
              "    </tr>\n",
              "    <tr>\n",
              "      <td>std</td>\n",
              "      <td>0.482918</td>\n",
              "      <td>106.863097</td>\n",
              "      <td>0.707476</td>\n",
              "      <td>13.605138</td>\n",
              "      <td>8.780829</td>\n",
              "      <td>0.998613</td>\n",
              "      <td>1.908286</td>\n",
              "      <td>0.579261</td>\n",
              "      <td>0.398561</td>\n",
              "      <td>0.097436</td>\n",
              "      <td>0.175767</td>\n",
              "      <td>0.844336</td>\n",
              "      <td>1.497437</td>\n",
              "      <td>0.652306</td>\n",
              "      <td>110.774548</td>\n",
              "      <td>131.655015</td>\n",
              "      <td>17.594721</td>\n",
              "      <td>50.535790</td>\n",
              "      <td>0.245291</td>\n",
              "      <td>0.792798</td>\n",
              "    </tr>\n",
              "    <tr>\n",
              "      <td>min</td>\n",
              "      <td>0.000000</td>\n",
              "      <td>0.000000</td>\n",
              "      <td>2015.000000</td>\n",
              "      <td>1.000000</td>\n",
              "      <td>1.000000</td>\n",
              "      <td>0.000000</td>\n",
              "      <td>0.000000</td>\n",
              "      <td>0.000000</td>\n",
              "      <td>0.000000</td>\n",
              "      <td>0.000000</td>\n",
              "      <td>0.000000</td>\n",
              "      <td>0.000000</td>\n",
              "      <td>0.000000</td>\n",
              "      <td>0.000000</td>\n",
              "      <td>1.000000</td>\n",
              "      <td>6.000000</td>\n",
              "      <td>0.000000</td>\n",
              "      <td>-6.380000</td>\n",
              "      <td>0.000000</td>\n",
              "      <td>0.000000</td>\n",
              "    </tr>\n",
              "    <tr>\n",
              "      <td>25%</td>\n",
              "      <td>0.000000</td>\n",
              "      <td>18.000000</td>\n",
              "      <td>2016.000000</td>\n",
              "      <td>16.000000</td>\n",
              "      <td>8.000000</td>\n",
              "      <td>0.000000</td>\n",
              "      <td>1.000000</td>\n",
              "      <td>2.000000</td>\n",
              "      <td>0.000000</td>\n",
              "      <td>0.000000</td>\n",
              "      <td>0.000000</td>\n",
              "      <td>0.000000</td>\n",
              "      <td>0.000000</td>\n",
              "      <td>0.000000</td>\n",
              "      <td>9.000000</td>\n",
              "      <td>62.000000</td>\n",
              "      <td>0.000000</td>\n",
              "      <td>69.290000</td>\n",
              "      <td>0.000000</td>\n",
              "      <td>0.000000</td>\n",
              "    </tr>\n",
              "    <tr>\n",
              "      <td>50%</td>\n",
              "      <td>0.000000</td>\n",
              "      <td>69.000000</td>\n",
              "      <td>2016.000000</td>\n",
              "      <td>28.000000</td>\n",
              "      <td>16.000000</td>\n",
              "      <td>1.000000</td>\n",
              "      <td>2.000000</td>\n",
              "      <td>2.000000</td>\n",
              "      <td>0.000000</td>\n",
              "      <td>0.000000</td>\n",
              "      <td>0.000000</td>\n",
              "      <td>0.000000</td>\n",
              "      <td>0.000000</td>\n",
              "      <td>0.000000</td>\n",
              "      <td>14.000000</td>\n",
              "      <td>179.000000</td>\n",
              "      <td>0.000000</td>\n",
              "      <td>94.575000</td>\n",
              "      <td>0.000000</td>\n",
              "      <td>0.000000</td>\n",
              "    </tr>\n",
              "    <tr>\n",
              "      <td>75%</td>\n",
              "      <td>1.000000</td>\n",
              "      <td>160.000000</td>\n",
              "      <td>2017.000000</td>\n",
              "      <td>38.000000</td>\n",
              "      <td>23.000000</td>\n",
              "      <td>2.000000</td>\n",
              "      <td>3.000000</td>\n",
              "      <td>2.000000</td>\n",
              "      <td>0.000000</td>\n",
              "      <td>0.000000</td>\n",
              "      <td>0.000000</td>\n",
              "      <td>0.000000</td>\n",
              "      <td>0.000000</td>\n",
              "      <td>0.000000</td>\n",
              "      <td>229.000000</td>\n",
              "      <td>270.000000</td>\n",
              "      <td>0.000000</td>\n",
              "      <td>126.000000</td>\n",
              "      <td>0.000000</td>\n",
              "      <td>1.000000</td>\n",
              "    </tr>\n",
              "    <tr>\n",
              "      <td>max</td>\n",
              "      <td>1.000000</td>\n",
              "      <td>737.000000</td>\n",
              "      <td>2017.000000</td>\n",
              "      <td>53.000000</td>\n",
              "      <td>31.000000</td>\n",
              "      <td>19.000000</td>\n",
              "      <td>50.000000</td>\n",
              "      <td>55.000000</td>\n",
              "      <td>10.000000</td>\n",
              "      <td>10.000000</td>\n",
              "      <td>1.000000</td>\n",
              "      <td>26.000000</td>\n",
              "      <td>72.000000</td>\n",
              "      <td>21.000000</td>\n",
              "      <td>535.000000</td>\n",
              "      <td>543.000000</td>\n",
              "      <td>391.000000</td>\n",
              "      <td>5400.000000</td>\n",
              "      <td>8.000000</td>\n",
              "      <td>5.000000</td>\n",
              "    </tr>\n",
              "  </tbody>\n",
              "</table>\n",
              "</div>"
            ],
            "text/plain": [
              "         is_canceled      lead_time  arrival_date_year  \\\n",
              "count  119390.000000  119390.000000      119390.000000   \n",
              "mean        0.370416     104.011416        2016.156554   \n",
              "std         0.482918     106.863097           0.707476   \n",
              "min         0.000000       0.000000        2015.000000   \n",
              "25%         0.000000      18.000000        2016.000000   \n",
              "50%         0.000000      69.000000        2016.000000   \n",
              "75%         1.000000     160.000000        2017.000000   \n",
              "max         1.000000     737.000000        2017.000000   \n",
              "\n",
              "       arrival_date_week_number  arrival_date_day_of_month  \\\n",
              "count             119390.000000              119390.000000   \n",
              "mean                  27.165173                  15.798241   \n",
              "std                   13.605138                   8.780829   \n",
              "min                    1.000000                   1.000000   \n",
              "25%                   16.000000                   8.000000   \n",
              "50%                   28.000000                  16.000000   \n",
              "75%                   38.000000                  23.000000   \n",
              "max                   53.000000                  31.000000   \n",
              "\n",
              "       stays_in_weekend_nights  stays_in_week_nights         adults  \\\n",
              "count            119390.000000         119390.000000  119390.000000   \n",
              "mean                  0.927599              2.500302       1.856403   \n",
              "std                   0.998613              1.908286       0.579261   \n",
              "min                   0.000000              0.000000       0.000000   \n",
              "25%                   0.000000              1.000000       2.000000   \n",
              "50%                   1.000000              2.000000       2.000000   \n",
              "75%                   2.000000              3.000000       2.000000   \n",
              "max                  19.000000             50.000000      55.000000   \n",
              "\n",
              "            children         babies  is_repeated_guest  \\\n",
              "count  119386.000000  119390.000000      119390.000000   \n",
              "mean        0.103890       0.007949           0.031912   \n",
              "std         0.398561       0.097436           0.175767   \n",
              "min         0.000000       0.000000           0.000000   \n",
              "25%         0.000000       0.000000           0.000000   \n",
              "50%         0.000000       0.000000           0.000000   \n",
              "75%         0.000000       0.000000           0.000000   \n",
              "max        10.000000      10.000000           1.000000   \n",
              "\n",
              "       previous_cancellations  previous_bookings_not_canceled  \\\n",
              "count           119390.000000                   119390.000000   \n",
              "mean                 0.087118                        0.137097   \n",
              "std                  0.844336                        1.497437   \n",
              "min                  0.000000                        0.000000   \n",
              "25%                  0.000000                        0.000000   \n",
              "50%                  0.000000                        0.000000   \n",
              "75%                  0.000000                        0.000000   \n",
              "max                 26.000000                       72.000000   \n",
              "\n",
              "       booking_changes          agent      company  days_in_waiting_list  \\\n",
              "count    119390.000000  103050.000000  6797.000000         119390.000000   \n",
              "mean          0.221124      86.693382   189.266735              2.321149   \n",
              "std           0.652306     110.774548   131.655015             17.594721   \n",
              "min           0.000000       1.000000     6.000000              0.000000   \n",
              "25%           0.000000       9.000000    62.000000              0.000000   \n",
              "50%           0.000000      14.000000   179.000000              0.000000   \n",
              "75%           0.000000     229.000000   270.000000              0.000000   \n",
              "max          21.000000     535.000000   543.000000            391.000000   \n",
              "\n",
              "                 adr  required_car_parking_spaces  total_of_special_requests  \n",
              "count  119390.000000                119390.000000              119390.000000  \n",
              "mean      101.831122                     0.062518                   0.571363  \n",
              "std        50.535790                     0.245291                   0.792798  \n",
              "min        -6.380000                     0.000000                   0.000000  \n",
              "25%        69.290000                     0.000000                   0.000000  \n",
              "50%        94.575000                     0.000000                   0.000000  \n",
              "75%       126.000000                     0.000000                   1.000000  \n",
              "max      5400.000000                     8.000000                   5.000000  "
            ]
          },
          "metadata": {
            "tags": []
          },
          "execution_count": 6
        }
      ]
    },
    {
      "cell_type": "code",
      "metadata": {
        "id": "QCPZxaVqy6UA",
        "colab_type": "code",
        "outputId": "b38faa0f-17d7-4ba3-dd49-ab9eb630b98d",
        "colab": {}
      },
      "source": [
        "import numpy as np\n",
        "np.sort(df['company'].unique())"
      ],
      "execution_count": 0,
      "outputs": [
        {
          "output_type": "execute_result",
          "data": {
            "text/plain": [
              "array([  6.,   8.,   9.,  10.,  11.,  12.,  14.,  16.,  18.,  20.,  22.,\n",
              "        28.,  29.,  31.,  32.,  34.,  35.,  37.,  38.,  39.,  40.,  42.,\n",
              "        43.,  45.,  46.,  47.,  48.,  49.,  51.,  52.,  53.,  54.,  59.,\n",
              "        61.,  62.,  64.,  65.,  67.,  68.,  71.,  72.,  73.,  76.,  77.,\n",
              "        78.,  80.,  81.,  82.,  83.,  84.,  85.,  86.,  88.,  91.,  92.,\n",
              "        93.,  94.,  96.,  99., 100., 101., 102., 103., 104., 105., 106.,\n",
              "       107., 108., 109., 110., 112., 113., 115., 116., 118., 120., 122.,\n",
              "       126., 127., 130., 132., 135., 137., 139., 140., 142., 143., 144.,\n",
              "       146., 148., 149., 150., 153., 154., 158., 159., 160., 163., 165.,\n",
              "       167., 168., 169., 174., 178., 179., 180., 183., 184., 185., 186.,\n",
              "       192., 193., 195., 197., 200., 202., 203., 204., 207., 209., 210.,\n",
              "       212., 213., 215., 216., 217., 218., 219., 220., 221., 222., 223.,\n",
              "       224., 225., 227., 229., 230., 232., 233., 234., 237., 238., 240.,\n",
              "       242., 243., 245., 246., 250., 251., 253., 254., 255., 257., 258.,\n",
              "       259., 260., 263., 264., 268., 269., 270., 271., 272., 273., 274.,\n",
              "       275., 277., 278., 279., 280., 281., 282., 284., 286., 287., 288.,\n",
              "       289., 290., 291., 292., 293., 297., 301., 302., 304., 305., 307.,\n",
              "       308., 309., 311., 312., 313., 314., 316., 317., 318., 319., 320.,\n",
              "       321., 323., 324., 325., 329., 330., 331., 332., 333., 334., 337.,\n",
              "       338., 341., 342., 343., 346., 347., 348., 349., 350., 351., 352.,\n",
              "       353., 355., 356., 357., 358., 360., 361., 362., 364., 365., 366.,\n",
              "       367., 368., 369., 370., 371., 372., 373., 376., 377., 378., 379.,\n",
              "       380., 382., 383., 384., 385., 386., 388., 390., 391., 392., 393.,\n",
              "       394., 395., 396., 397., 398., 399., 400., 401., 402., 403., 405.,\n",
              "       407., 408., 409., 410., 411., 412., 413., 415., 416., 417., 418.,\n",
              "       419., 420., 421., 422., 423., 424., 425., 426., 428., 429., 433.,\n",
              "       435., 436., 437., 439., 442., 443., 444., 445., 446., 447., 448.,\n",
              "       450., 451., 452., 454., 455., 456., 457., 458., 459., 460., 461.,\n",
              "       465., 466., 470., 477., 478., 479., 481., 482., 483., 484., 485.,\n",
              "       486., 487., 489., 490., 491., 492., 494., 496., 497., 498., 499.,\n",
              "       501., 504., 506., 507., 511., 512., 513., 514., 515., 516., 518.,\n",
              "       520., 521., 523., 525., 528., 530., 531., 534., 539., 541., 543.,\n",
              "        nan])"
            ]
          },
          "metadata": {
            "tags": []
          },
          "execution_count": 17
        }
      ]
    },
    {
      "cell_type": "code",
      "metadata": {
        "id": "51aEmQ0Zy6UD",
        "colab_type": "code",
        "outputId": "a3aab61a-fb88-48b4-b658-7d61f15d8237",
        "colab": {}
      },
      "source": [
        "np.sort(df['agent'].unique())"
      ],
      "execution_count": 0,
      "outputs": [
        {
          "output_type": "execute_result",
          "data": {
            "text/plain": [
              "array([  1.,   2.,   3.,   4.,   5.,   6.,   7.,   8.,   9.,  10.,  11.,\n",
              "        12.,  13.,  14.,  15.,  16.,  17.,  19.,  20.,  21.,  22.,  23.,\n",
              "        24.,  25.,  26.,  27.,  28.,  29.,  30.,  31.,  32.,  33.,  34.,\n",
              "        35.,  36.,  37.,  38.,  39.,  40.,  41.,  42.,  44.,  45.,  47.,\n",
              "        50.,  52.,  53.,  54.,  55.,  56.,  57.,  58.,  59.,  60.,  61.,\n",
              "        63.,  64.,  66.,  67.,  68.,  69.,  70.,  71.,  72.,  73.,  74.,\n",
              "        75.,  77.,  78.,  79.,  81.,  82.,  83.,  85.,  86.,  87.,  88.,\n",
              "        89.,  90.,  91.,  92.,  93.,  94.,  95.,  96.,  98.,  99., 103.,\n",
              "       104., 105., 106., 107., 110., 111., 112., 114., 115., 117., 118.,\n",
              "       119., 121., 122., 126., 127., 128., 129., 132., 133., 134., 135.,\n",
              "       138., 139., 141., 142., 143., 144., 146., 147., 148., 149., 150.,\n",
              "       151., 152., 153., 154., 155., 156., 157., 158., 159., 162., 163.,\n",
              "       165., 167., 168., 170., 171., 173., 174., 175., 177., 179., 180.,\n",
              "       181., 182., 183., 184., 185., 187., 191., 192., 193., 195., 196.,\n",
              "       197., 201., 205., 208., 210., 211., 213., 214., 215., 216., 219.,\n",
              "       220., 223., 227., 229., 232., 234., 235., 236., 240., 241., 242.,\n",
              "       243., 244., 245., 247., 248., 249., 250., 251., 252., 253., 254.,\n",
              "       256., 257., 258., 261., 262., 265., 267., 269., 270., 273., 275.,\n",
              "       276., 278., 280., 281., 282., 283., 285., 286., 287., 288., 289.,\n",
              "       290., 291., 294., 295., 296., 298., 299., 300., 301., 302., 303.,\n",
              "       304., 305., 306., 307., 308., 310., 313., 314., 315., 321., 323.,\n",
              "       324., 325., 326., 327., 328., 330., 331., 332., 333., 334., 335.,\n",
              "       336., 337., 339., 341., 344., 346., 348., 350., 352., 354., 355.,\n",
              "       358., 359., 360., 363., 364., 367., 368., 370., 371., 375., 378.,\n",
              "       384., 385., 387., 388., 390., 391., 393., 394., 397., 403., 404.,\n",
              "       405., 406., 408., 410., 411., 414., 416., 418., 420., 423., 425.,\n",
              "       426., 427., 429., 430., 431., 432., 433., 434., 436., 438., 440.,\n",
              "       441., 444., 446., 449., 450., 451., 453., 454., 455., 459., 461.,\n",
              "       464., 467., 468., 469., 472., 474., 475., 476., 479., 480., 481.,\n",
              "       483., 484., 492., 493., 495., 497., 502., 508., 509., 510., 526.,\n",
              "       527., 531., 535.,  nan])"
            ]
          },
          "metadata": {
            "tags": []
          },
          "execution_count": 18
        }
      ]
    },
    {
      "cell_type": "code",
      "metadata": {
        "id": "Hry9v28_y6UH",
        "colab_type": "code",
        "outputId": "47ece939-a447-40d0-aa08-033b7b727934",
        "colab": {}
      },
      "source": [
        "df[['agent', 'company']].corr()"
      ],
      "execution_count": 0,
      "outputs": [
        {
          "output_type": "execute_result",
          "data": {
            "text/html": [
              "<div>\n",
              "<style scoped>\n",
              "    .dataframe tbody tr th:only-of-type {\n",
              "        vertical-align: middle;\n",
              "    }\n",
              "\n",
              "    .dataframe tbody tr th {\n",
              "        vertical-align: top;\n",
              "    }\n",
              "\n",
              "    .dataframe thead th {\n",
              "        text-align: right;\n",
              "    }\n",
              "</style>\n",
              "<table border=\"1\" class=\"dataframe\">\n",
              "  <thead>\n",
              "    <tr style=\"text-align: right;\">\n",
              "      <th></th>\n",
              "      <th>agent</th>\n",
              "      <th>company</th>\n",
              "    </tr>\n",
              "  </thead>\n",
              "  <tbody>\n",
              "    <tr>\n",
              "      <td>agent</td>\n",
              "      <td>1.000000</td>\n",
              "      <td>0.350746</td>\n",
              "    </tr>\n",
              "    <tr>\n",
              "      <td>company</td>\n",
              "      <td>0.350746</td>\n",
              "      <td>1.000000</td>\n",
              "    </tr>\n",
              "  </tbody>\n",
              "</table>\n",
              "</div>"
            ],
            "text/plain": [
              "            agent   company\n",
              "agent    1.000000  0.350746\n",
              "company  0.350746  1.000000"
            ]
          },
          "metadata": {
            "tags": []
          },
          "execution_count": 10
        }
      ]
    },
    {
      "cell_type": "code",
      "metadata": {
        "id": "2gNQGuJ6y6UK",
        "colab_type": "code",
        "outputId": "ebb0b6ff-bdac-4e98-97b5-4af8ac39f1c2",
        "colab": {}
      },
      "source": [
        "df['market_segment'].value_counts()"
      ],
      "execution_count": 0,
      "outputs": [
        {
          "output_type": "execute_result",
          "data": {
            "text/plain": [
              "Online TA        56477\n",
              "Offline TA/TO    24219\n",
              "Groups           19811\n",
              "Direct           12606\n",
              "Corporate         5295\n",
              "Complementary      743\n",
              "Aviation           237\n",
              "Undefined            2\n",
              "Name: market_segment, dtype: int64"
            ]
          },
          "metadata": {
            "tags": []
          },
          "execution_count": 10
        }
      ]
    },
    {
      "cell_type": "code",
      "metadata": {
        "id": "olUpmg8cy6UN",
        "colab_type": "code",
        "outputId": "1339687b-cfea-4000-89e2-4aca603a74b2",
        "colab": {}
      },
      "source": [
        "df['distribution_channel'].value_counts()"
      ],
      "execution_count": 0,
      "outputs": [
        {
          "output_type": "execute_result",
          "data": {
            "text/plain": [
              "TA/TO        97870\n",
              "Direct       14645\n",
              "Corporate     6677\n",
              "GDS            193\n",
              "Undefined        5\n",
              "Name: distribution_channel, dtype: int64"
            ]
          },
          "metadata": {
            "tags": []
          },
          "execution_count": 11
        }
      ]
    },
    {
      "cell_type": "code",
      "metadata": {
        "id": "YE2yIXYdy6UQ",
        "colab_type": "code",
        "colab": {}
      },
      "source": [
        "import matplotlib.pyplot as plt\n",
        "import seaborn as sns\n",
        "%matplotlib inline"
      ],
      "execution_count": 0,
      "outputs": []
    },
    {
      "cell_type": "code",
      "metadata": {
        "id": "sH79dgiwy6UT",
        "colab_type": "code",
        "outputId": "da6352fe-d1e3-437c-c8bb-2e4551018759",
        "colab": {}
      },
      "source": [
        "df.describe(exclude='number')"
      ],
      "execution_count": 0,
      "outputs": [
        {
          "output_type": "execute_result",
          "data": {
            "text/html": [
              "<div>\n",
              "<style scoped>\n",
              "    .dataframe tbody tr th:only-of-type {\n",
              "        vertical-align: middle;\n",
              "    }\n",
              "\n",
              "    .dataframe tbody tr th {\n",
              "        vertical-align: top;\n",
              "    }\n",
              "\n",
              "    .dataframe thead th {\n",
              "        text-align: right;\n",
              "    }\n",
              "</style>\n",
              "<table border=\"1\" class=\"dataframe\">\n",
              "  <thead>\n",
              "    <tr style=\"text-align: right;\">\n",
              "      <th></th>\n",
              "      <th>hotel</th>\n",
              "      <th>arrival_date_month</th>\n",
              "      <th>meal</th>\n",
              "      <th>country</th>\n",
              "      <th>market_segment</th>\n",
              "      <th>distribution_channel</th>\n",
              "      <th>reserved_room_type</th>\n",
              "      <th>assigned_room_type</th>\n",
              "      <th>deposit_type</th>\n",
              "      <th>customer_type</th>\n",
              "      <th>reservation_status</th>\n",
              "      <th>reservation_status_date</th>\n",
              "    </tr>\n",
              "  </thead>\n",
              "  <tbody>\n",
              "    <tr>\n",
              "      <td>count</td>\n",
              "      <td>119390</td>\n",
              "      <td>119390</td>\n",
              "      <td>119390</td>\n",
              "      <td>118902</td>\n",
              "      <td>119390</td>\n",
              "      <td>119390</td>\n",
              "      <td>119390</td>\n",
              "      <td>119390</td>\n",
              "      <td>119390</td>\n",
              "      <td>119390</td>\n",
              "      <td>119390</td>\n",
              "      <td>119390</td>\n",
              "    </tr>\n",
              "    <tr>\n",
              "      <td>unique</td>\n",
              "      <td>2</td>\n",
              "      <td>12</td>\n",
              "      <td>5</td>\n",
              "      <td>177</td>\n",
              "      <td>8</td>\n",
              "      <td>5</td>\n",
              "      <td>10</td>\n",
              "      <td>12</td>\n",
              "      <td>3</td>\n",
              "      <td>4</td>\n",
              "      <td>3</td>\n",
              "      <td>926</td>\n",
              "    </tr>\n",
              "    <tr>\n",
              "      <td>top</td>\n",
              "      <td>City Hotel</td>\n",
              "      <td>August</td>\n",
              "      <td>BB</td>\n",
              "      <td>PRT</td>\n",
              "      <td>Online TA</td>\n",
              "      <td>TA/TO</td>\n",
              "      <td>A</td>\n",
              "      <td>A</td>\n",
              "      <td>No Deposit</td>\n",
              "      <td>Transient</td>\n",
              "      <td>Check-Out</td>\n",
              "      <td>2015-10-21</td>\n",
              "    </tr>\n",
              "    <tr>\n",
              "      <td>freq</td>\n",
              "      <td>79330</td>\n",
              "      <td>13877</td>\n",
              "      <td>92310</td>\n",
              "      <td>48590</td>\n",
              "      <td>56477</td>\n",
              "      <td>97870</td>\n",
              "      <td>85994</td>\n",
              "      <td>74053</td>\n",
              "      <td>104641</td>\n",
              "      <td>89613</td>\n",
              "      <td>75166</td>\n",
              "      <td>1461</td>\n",
              "    </tr>\n",
              "  </tbody>\n",
              "</table>\n",
              "</div>"
            ],
            "text/plain": [
              "             hotel arrival_date_month    meal country market_segment  \\\n",
              "count       119390             119390  119390  118902         119390   \n",
              "unique           2                 12       5     177              8   \n",
              "top     City Hotel             August      BB     PRT      Online TA   \n",
              "freq         79330              13877   92310   48590          56477   \n",
              "\n",
              "       distribution_channel reserved_room_type assigned_room_type  \\\n",
              "count                119390             119390             119390   \n",
              "unique                    5                 10                 12   \n",
              "top                   TA/TO                  A                  A   \n",
              "freq                  97870              85994              74053   \n",
              "\n",
              "       deposit_type customer_type reservation_status reservation_status_date  \n",
              "count        119390        119390             119390                  119390  \n",
              "unique            3             4                  3                     926  \n",
              "top      No Deposit     Transient          Check-Out              2015-10-21  \n",
              "freq         104641         89613              75166                    1461  "
            ]
          },
          "metadata": {
            "tags": []
          },
          "execution_count": 10
        }
      ]
    },
    {
      "cell_type": "code",
      "metadata": {
        "id": "_M3yney_y6UW",
        "colab_type": "code",
        "outputId": "b1d89dee-ea9a-4f67-ea37-a7894e2e75a6",
        "colab": {}
      },
      "source": [
        "plt.figure(figsize=(10,5))\n",
        "sns.distplot(df[df['reservation_status'] == 'No-Show']['lead_time'], label='No Shows')\n",
        "sns.distplot(df[df['reservation_status'] == 'Canceled']['lead_time'], label='Cancellations')\n",
        "plt.legend();"
      ],
      "execution_count": 0,
      "outputs": [
        {
          "output_type": "display_data",
          "data": {
            "image/png": "[encoded data removed]",
            "text/plain": [
              "<Figure size 720x360 with 1 Axes>"
            ]
          },
          "metadata": {
            "tags": [],
            "needs_background": "light"
          }
        }
      ]
    },
    {
      "cell_type": "code",
      "metadata": {
        "id": "iriuyaUPy6UZ",
        "colab_type": "code",
        "outputId": "f540c2ac-b8e0-43d4-9226-9423f708fe71",
        "colab": {}
      },
      "source": [
        "plt.figure(figsize=(10,5))\n",
        "sns.distplot(df[(df['adr'] < 500) & (df['reservation_status'] == 'No-Show')]['adr'], label='No Shows')\n",
        "sns.distplot(df[(df['adr'] < 500) & (df['reservation_status'] == 'Canceled')]['adr'], label='Cancellations')\n",
        "plt.legend();"
      ],
      "execution_count": 0,
      "outputs": [
        {
          "output_type": "display_data",
          "data": {
            "image/png": "[encoded data removed]",
            "text/plain": [
              "<Figure size 720x360 with 1 Axes>"
            ]
          },
          "metadata": {
            "tags": [],
            "needs_background": "light"
          }
        }
      ]
    },
    {
      "cell_type": "code",
      "metadata": {
        "id": "ofGLGPcgy6Ud",
        "colab_type": "code",
        "outputId": "342482a9-455c-4ff8-c232-2f42b701a09a",
        "colab": {}
      },
      "source": [
        "plt.figure(figsize=(10,5))\n",
        "sns.distplot(df[df['reservation_status'] == 'No-Show']['arrival_date_week_number'], label='No Shows')\n",
        "sns.distplot(df[df['reservation_status'] == 'Canceled']['arrival_date_week_number'], label='Cancellations')\n",
        "plt.legend();"
      ],
      "execution_count": 0,
      "outputs": [
        {
          "output_type": "display_data",
          "data": {
            "image/png": "[encoded data removed]",
            "text/plain": [
              "<Figure size 720x360 with 1 Axes>"
            ]
          },
          "metadata": {
            "tags": [],
            "needs_background": "light"
          }
        }
      ]
    },
    {
      "cell_type": "code",
      "metadata": {
        "id": "rrvwCDrxy6Uj",
        "colab_type": "code",
        "outputId": "c2ebb338-707a-4017-e59b-4acff9953572",
        "colab": {}
      },
      "source": [
        "plt.figure(figsize=(10,5))\n",
        "sns.distplot(df[df['reservation_status'] == 'No-Show']['arrival_date_day_of_month'], label='No Shows')\n",
        "sns.distplot(df[df['reservation_status'] == 'Canceled']['arrival_date_day_of_month'], label='Cancellations')\n",
        "plt.legend();"
      ],
      "execution_count": 0,
      "outputs": [
        {
          "output_type": "display_data",
          "data": {
            "image/png": "[encoded data removed]",
            "text/plain": [
              "<Figure size 720x360 with 1 Axes>"
            ]
          },
          "metadata": {
            "tags": [],
            "needs_background": "light"
          }
        }
      ]
    },
    {
      "cell_type": "code",
      "metadata": {
        "id": "sWFt1kAUy6Um",
        "colab_type": "code",
        "outputId": "b2b0cc97-bf11-4f8a-9a8d-82002f3443d9",
        "colab": {}
      },
      "source": [
        "plt.figure(figsize=(10,5))\n",
        "sns.distplot(df[df['reservation_status'] == 'No-Show']['arrival_date_year'], label='No Shows')\n",
        "sns.distplot(df[df['reservation_status'] == 'Canceled']['arrival_date_year'], label='Cancellations')\n",
        "plt.legend();"
      ],
      "execution_count": 0,
      "outputs": [
        {
          "output_type": "display_data",
          "data": {
            "image/png": "[encoded data removed]",
            "text/plain": [
              "<Figure size 720x360 with 1 Axes>"
            ]
          },
          "metadata": {
            "tags": [],
            "needs_background": "light"
          }
        }
      ]
    },
    {
      "cell_type": "code",
      "metadata": {
        "id": "gB3AjFHHy6Up",
        "colab_type": "code",
        "outputId": "972fdc4b-c04e-4f0c-8a5a-471ad9db9060",
        "colab": {}
      },
      "source": [
        "plt.figure(figsize=(10,5))\n",
        "sns.distplot(df[df['reservation_status'] == 'No-Show']['booking_changes'], label='No Shows')\n",
        "sns.distplot(df[df['reservation_status'] == 'Canceled']['booking_changes'], label='Cancellations')\n",
        "sns.distplot(df['booking_changes'], label='Overall')\n",
        "plt.legend();"
      ],
      "execution_count": 0,
      "outputs": [
        {
          "output_type": "display_data",
          "data": {
            "image/png": "[encoded data removed]",
            "text/plain": [
              "<Figure size 720x360 with 1 Axes>"
            ]
          },
          "metadata": {
            "tags": [],
            "needs_background": "light"
          }
        }
      ]
    },
    {
      "cell_type": "code",
      "metadata": {
        "id": "jTKBIFrcy6Us",
        "colab_type": "code",
        "outputId": "6437b009-9324-4491-ee77-45912b618dac",
        "colab": {}
      },
      "source": [
        "plt.figure(figsize=(10,5))\n",
        "sns.distplot(df[df['reservation_status'] == 'No-Show']['previous_cancellations'], label='No Shows')\n",
        "sns.distplot(df[df['reservation_status'] == 'Canceled']['previous_cancellations'], label='Cancellations')\n",
        "plt.legend();"
      ],
      "execution_count": 0,
      "outputs": [
        {
          "output_type": "display_data",
          "data": {
            "image/png": "[encoded data removed]",
            "text/plain": [
              "<Figure size 720x360 with 1 Axes>"
            ]
          },
          "metadata": {
            "tags": [],
            "needs_background": "light"
          }
        }
      ]
    },
    {
      "cell_type": "code",
      "metadata": {
        "id": "YB0L4bpay6Uv",
        "colab_type": "code",
        "outputId": "b99a236a-18b9-44db-863e-d7ed0fe03858",
        "colab": {}
      },
      "source": [
        "df['hotel'].value_counts().plot.bar();"
      ],
      "execution_count": 0,
      "outputs": [
        {
          "output_type": "display_data",
          "data": {
            "image/png": "[encoded data removed]",
            "text/plain": [
              "<Figure size 432x288 with 1 Axes>"
            ]
          },
          "metadata": {
            "tags": [],
            "needs_background": "light"
          }
        }
      ]
    },
    {
      "cell_type": "code",
      "metadata": {
        "id": "R-hN8IKoy6Uy",
        "colab_type": "code",
        "outputId": "275f34aa-5496-4fb2-f8fb-22343e5bd331",
        "colab": {}
      },
      "source": [
        "df[df['hotel'] == 'City Hotel'].head(10)"
      ],
      "execution_count": 0,
      "outputs": [
        {
          "output_type": "execute_result",
          "data": {
            "text/html": [
              "<div>\n",
              "<style scoped>\n",
              "    .dataframe tbody tr th:only-of-type {\n",
              "        vertical-align: middle;\n",
              "    }\n",
              "\n",
              "    .dataframe tbody tr th {\n",
              "        vertical-align: top;\n",
              "    }\n",
              "\n",
              "    .dataframe thead th {\n",
              "        text-align: right;\n",
              "    }\n",
              "</style>\n",
              "<table border=\"1\" class=\"dataframe\">\n",
              "  <thead>\n",
              "    <tr style=\"text-align: right;\">\n",
              "      <th></th>\n",
              "      <th>hotel</th>\n",
              "      <th>is_canceled</th>\n",
              "      <th>lead_time</th>\n",
              "      <th>arrival_date_year</th>\n",
              "      <th>arrival_date_month</th>\n",
              "      <th>arrival_date_week_number</th>\n",
              "      <th>arrival_date_day_of_month</th>\n",
              "      <th>stays_in_weekend_nights</th>\n",
              "      <th>stays_in_week_nights</th>\n",
              "      <th>adults</th>\n",
              "      <th>children</th>\n",
              "      <th>babies</th>\n",
              "      <th>meal</th>\n",
              "      <th>country</th>\n",
              "      <th>market_segment</th>\n",
              "      <th>distribution_channel</th>\n",
              "      <th>is_repeated_guest</th>\n",
              "      <th>previous_cancellations</th>\n",
              "      <th>previous_bookings_not_canceled</th>\n",
              "      <th>reserved_room_type</th>\n",
              "      <th>assigned_room_type</th>\n",
              "      <th>booking_changes</th>\n",
              "      <th>deposit_type</th>\n",
              "      <th>agent</th>\n",
              "      <th>company</th>\n",
              "      <th>days_in_waiting_list</th>\n",
              "      <th>customer_type</th>\n",
              "      <th>adr</th>\n",
              "      <th>required_car_parking_spaces</th>\n",
              "      <th>total_of_special_requests</th>\n",
              "      <th>reservation_status</th>\n",
              "      <th>reservation_status_date</th>\n",
              "    </tr>\n",
              "  </thead>\n",
              "  <tbody>\n",
              "    <tr>\n",
              "      <td>40060</td>\n",
              "      <td>City Hotel</td>\n",
              "      <td>0</td>\n",
              "      <td>6</td>\n",
              "      <td>2015</td>\n",
              "      <td>July</td>\n",
              "      <td>27</td>\n",
              "      <td>1</td>\n",
              "      <td>0</td>\n",
              "      <td>2</td>\n",
              "      <td>1</td>\n",
              "      <td>0.0</td>\n",
              "      <td>0</td>\n",
              "      <td>HB</td>\n",
              "      <td>PRT</td>\n",
              "      <td>Offline TA/TO</td>\n",
              "      <td>TA/TO</td>\n",
              "      <td>0</td>\n",
              "      <td>0</td>\n",
              "      <td>0</td>\n",
              "      <td>A</td>\n",
              "      <td>A</td>\n",
              "      <td>0</td>\n",
              "      <td>No Deposit</td>\n",
              "      <td>6.0</td>\n",
              "      <td>NaN</td>\n",
              "      <td>0</td>\n",
              "      <td>Transient</td>\n",
              "      <td>0.00</td>\n",
              "      <td>0</td>\n",
              "      <td>0</td>\n",
              "      <td>Check-Out</td>\n",
              "      <td>2015-07-03</td>\n",
              "    </tr>\n",
              "    <tr>\n",
              "      <td>40061</td>\n",
              "      <td>City Hotel</td>\n",
              "      <td>1</td>\n",
              "      <td>88</td>\n",
              "      <td>2015</td>\n",
              "      <td>July</td>\n",
              "      <td>27</td>\n",
              "      <td>1</td>\n",
              "      <td>0</td>\n",
              "      <td>4</td>\n",
              "      <td>2</td>\n",
              "      <td>0.0</td>\n",
              "      <td>0</td>\n",
              "      <td>BB</td>\n",
              "      <td>PRT</td>\n",
              "      <td>Online TA</td>\n",
              "      <td>TA/TO</td>\n",
              "      <td>0</td>\n",
              "      <td>0</td>\n",
              "      <td>0</td>\n",
              "      <td>A</td>\n",
              "      <td>A</td>\n",
              "      <td>0</td>\n",
              "      <td>No Deposit</td>\n",
              "      <td>9.0</td>\n",
              "      <td>NaN</td>\n",
              "      <td>0</td>\n",
              "      <td>Transient</td>\n",
              "      <td>76.50</td>\n",
              "      <td>0</td>\n",
              "      <td>1</td>\n",
              "      <td>Canceled</td>\n",
              "      <td>2015-07-01</td>\n",
              "    </tr>\n",
              "    <tr>\n",
              "      <td>40062</td>\n",
              "      <td>City Hotel</td>\n",
              "      <td>1</td>\n",
              "      <td>65</td>\n",
              "      <td>2015</td>\n",
              "      <td>July</td>\n",
              "      <td>27</td>\n",
              "      <td>1</td>\n",
              "      <td>0</td>\n",
              "      <td>4</td>\n",
              "      <td>1</td>\n",
              "      <td>0.0</td>\n",
              "      <td>0</td>\n",
              "      <td>BB</td>\n",
              "      <td>PRT</td>\n",
              "      <td>Online TA</td>\n",
              "      <td>TA/TO</td>\n",
              "      <td>0</td>\n",
              "      <td>0</td>\n",
              "      <td>0</td>\n",
              "      <td>A</td>\n",
              "      <td>A</td>\n",
              "      <td>0</td>\n",
              "      <td>No Deposit</td>\n",
              "      <td>9.0</td>\n",
              "      <td>NaN</td>\n",
              "      <td>0</td>\n",
              "      <td>Transient</td>\n",
              "      <td>68.00</td>\n",
              "      <td>0</td>\n",
              "      <td>1</td>\n",
              "      <td>Canceled</td>\n",
              "      <td>2015-04-30</td>\n",
              "    </tr>\n",
              "    <tr>\n",
              "      <td>40063</td>\n",
              "      <td>City Hotel</td>\n",
              "      <td>1</td>\n",
              "      <td>92</td>\n",
              "      <td>2015</td>\n",
              "      <td>July</td>\n",
              "      <td>27</td>\n",
              "      <td>1</td>\n",
              "      <td>2</td>\n",
              "      <td>4</td>\n",
              "      <td>2</td>\n",
              "      <td>0.0</td>\n",
              "      <td>0</td>\n",
              "      <td>BB</td>\n",
              "      <td>PRT</td>\n",
              "      <td>Online TA</td>\n",
              "      <td>TA/TO</td>\n",
              "      <td>0</td>\n",
              "      <td>0</td>\n",
              "      <td>0</td>\n",
              "      <td>A</td>\n",
              "      <td>A</td>\n",
              "      <td>0</td>\n",
              "      <td>No Deposit</td>\n",
              "      <td>9.0</td>\n",
              "      <td>NaN</td>\n",
              "      <td>0</td>\n",
              "      <td>Transient</td>\n",
              "      <td>76.50</td>\n",
              "      <td>0</td>\n",
              "      <td>2</td>\n",
              "      <td>Canceled</td>\n",
              "      <td>2015-06-23</td>\n",
              "    </tr>\n",
              "    <tr>\n",
              "      <td>40064</td>\n",
              "      <td>City Hotel</td>\n",
              "      <td>1</td>\n",
              "      <td>100</td>\n",
              "      <td>2015</td>\n",
              "      <td>July</td>\n",
              "      <td>27</td>\n",
              "      <td>2</td>\n",
              "      <td>0</td>\n",
              "      <td>2</td>\n",
              "      <td>2</td>\n",
              "      <td>0.0</td>\n",
              "      <td>0</td>\n",
              "      <td>BB</td>\n",
              "      <td>PRT</td>\n",
              "      <td>Online TA</td>\n",
              "      <td>TA/TO</td>\n",
              "      <td>0</td>\n",
              "      <td>0</td>\n",
              "      <td>0</td>\n",
              "      <td>A</td>\n",
              "      <td>A</td>\n",
              "      <td>0</td>\n",
              "      <td>No Deposit</td>\n",
              "      <td>9.0</td>\n",
              "      <td>NaN</td>\n",
              "      <td>0</td>\n",
              "      <td>Transient</td>\n",
              "      <td>76.50</td>\n",
              "      <td>0</td>\n",
              "      <td>1</td>\n",
              "      <td>Canceled</td>\n",
              "      <td>2015-04-02</td>\n",
              "    </tr>\n",
              "    <tr>\n",
              "      <td>40065</td>\n",
              "      <td>City Hotel</td>\n",
              "      <td>1</td>\n",
              "      <td>79</td>\n",
              "      <td>2015</td>\n",
              "      <td>July</td>\n",
              "      <td>27</td>\n",
              "      <td>2</td>\n",
              "      <td>0</td>\n",
              "      <td>3</td>\n",
              "      <td>2</td>\n",
              "      <td>0.0</td>\n",
              "      <td>0</td>\n",
              "      <td>BB</td>\n",
              "      <td>PRT</td>\n",
              "      <td>Online TA</td>\n",
              "      <td>TA/TO</td>\n",
              "      <td>0</td>\n",
              "      <td>0</td>\n",
              "      <td>0</td>\n",
              "      <td>A</td>\n",
              "      <td>A</td>\n",
              "      <td>0</td>\n",
              "      <td>No Deposit</td>\n",
              "      <td>9.0</td>\n",
              "      <td>NaN</td>\n",
              "      <td>0</td>\n",
              "      <td>Transient</td>\n",
              "      <td>76.50</td>\n",
              "      <td>0</td>\n",
              "      <td>1</td>\n",
              "      <td>Canceled</td>\n",
              "      <td>2015-06-25</td>\n",
              "    </tr>\n",
              "    <tr>\n",
              "      <td>40066</td>\n",
              "      <td>City Hotel</td>\n",
              "      <td>0</td>\n",
              "      <td>3</td>\n",
              "      <td>2015</td>\n",
              "      <td>July</td>\n",
              "      <td>27</td>\n",
              "      <td>2</td>\n",
              "      <td>0</td>\n",
              "      <td>3</td>\n",
              "      <td>1</td>\n",
              "      <td>0.0</td>\n",
              "      <td>0</td>\n",
              "      <td>HB</td>\n",
              "      <td>PRT</td>\n",
              "      <td>Groups</td>\n",
              "      <td>TA/TO</td>\n",
              "      <td>0</td>\n",
              "      <td>0</td>\n",
              "      <td>0</td>\n",
              "      <td>A</td>\n",
              "      <td>A</td>\n",
              "      <td>1</td>\n",
              "      <td>No Deposit</td>\n",
              "      <td>1.0</td>\n",
              "      <td>NaN</td>\n",
              "      <td>0</td>\n",
              "      <td>Transient-Party</td>\n",
              "      <td>58.67</td>\n",
              "      <td>0</td>\n",
              "      <td>0</td>\n",
              "      <td>Check-Out</td>\n",
              "      <td>2015-07-05</td>\n",
              "    </tr>\n",
              "    <tr>\n",
              "      <td>40067</td>\n",
              "      <td>City Hotel</td>\n",
              "      <td>1</td>\n",
              "      <td>63</td>\n",
              "      <td>2015</td>\n",
              "      <td>July</td>\n",
              "      <td>27</td>\n",
              "      <td>2</td>\n",
              "      <td>1</td>\n",
              "      <td>3</td>\n",
              "      <td>1</td>\n",
              "      <td>0.0</td>\n",
              "      <td>0</td>\n",
              "      <td>BB</td>\n",
              "      <td>PRT</td>\n",
              "      <td>Online TA</td>\n",
              "      <td>TA/TO</td>\n",
              "      <td>0</td>\n",
              "      <td>0</td>\n",
              "      <td>0</td>\n",
              "      <td>A</td>\n",
              "      <td>A</td>\n",
              "      <td>0</td>\n",
              "      <td>No Deposit</td>\n",
              "      <td>9.0</td>\n",
              "      <td>NaN</td>\n",
              "      <td>0</td>\n",
              "      <td>Transient</td>\n",
              "      <td>68.00</td>\n",
              "      <td>0</td>\n",
              "      <td>0</td>\n",
              "      <td>Canceled</td>\n",
              "      <td>2015-06-25</td>\n",
              "    </tr>\n",
              "    <tr>\n",
              "      <td>40068</td>\n",
              "      <td>City Hotel</td>\n",
              "      <td>1</td>\n",
              "      <td>62</td>\n",
              "      <td>2015</td>\n",
              "      <td>July</td>\n",
              "      <td>27</td>\n",
              "      <td>2</td>\n",
              "      <td>2</td>\n",
              "      <td>3</td>\n",
              "      <td>2</td>\n",
              "      <td>0.0</td>\n",
              "      <td>0</td>\n",
              "      <td>BB</td>\n",
              "      <td>PRT</td>\n",
              "      <td>Online TA</td>\n",
              "      <td>TA/TO</td>\n",
              "      <td>0</td>\n",
              "      <td>0</td>\n",
              "      <td>0</td>\n",
              "      <td>A</td>\n",
              "      <td>A</td>\n",
              "      <td>0</td>\n",
              "      <td>No Deposit</td>\n",
              "      <td>8.0</td>\n",
              "      <td>NaN</td>\n",
              "      <td>0</td>\n",
              "      <td>Transient</td>\n",
              "      <td>76.50</td>\n",
              "      <td>0</td>\n",
              "      <td>1</td>\n",
              "      <td>No-Show</td>\n",
              "      <td>2015-07-02</td>\n",
              "    </tr>\n",
              "    <tr>\n",
              "      <td>40069</td>\n",
              "      <td>City Hotel</td>\n",
              "      <td>1</td>\n",
              "      <td>62</td>\n",
              "      <td>2015</td>\n",
              "      <td>July</td>\n",
              "      <td>27</td>\n",
              "      <td>2</td>\n",
              "      <td>2</td>\n",
              "      <td>3</td>\n",
              "      <td>2</td>\n",
              "      <td>0.0</td>\n",
              "      <td>0</td>\n",
              "      <td>BB</td>\n",
              "      <td>PRT</td>\n",
              "      <td>Online TA</td>\n",
              "      <td>TA/TO</td>\n",
              "      <td>0</td>\n",
              "      <td>0</td>\n",
              "      <td>0</td>\n",
              "      <td>A</td>\n",
              "      <td>A</td>\n",
              "      <td>0</td>\n",
              "      <td>No Deposit</td>\n",
              "      <td>8.0</td>\n",
              "      <td>NaN</td>\n",
              "      <td>0</td>\n",
              "      <td>Transient</td>\n",
              "      <td>76.50</td>\n",
              "      <td>0</td>\n",
              "      <td>1</td>\n",
              "      <td>No-Show</td>\n",
              "      <td>2015-07-02</td>\n",
              "    </tr>\n",
              "  </tbody>\n",
              "</table>\n",
              "</div>"
            ],
            "text/plain": [
              "            hotel  is_canceled  lead_time  arrival_date_year  \\\n",
              "40060  City Hotel            0          6               2015   \n",
              "40061  City Hotel            1         88               2015   \n",
              "40062  City Hotel            1         65               2015   \n",
              "40063  City Hotel            1         92               2015   \n",
              "40064  City Hotel            1        100               2015   \n",
              "40065  City Hotel            1         79               2015   \n",
              "40066  City Hotel            0          3               2015   \n",
              "40067  City Hotel            1         63               2015   \n",
              "40068  City Hotel            1         62               2015   \n",
              "40069  City Hotel            1         62               2015   \n",
              "\n",
              "      arrival_date_month  arrival_date_week_number  arrival_date_day_of_month  \\\n",
              "40060               July                        27                          1   \n",
              "40061               July                        27                          1   \n",
              "40062               July                        27                          1   \n",
              "40063               July                        27                          1   \n",
              "40064               July                        27                          2   \n",
              "40065               July                        27                          2   \n",
              "40066               July                        27                          2   \n",
              "40067               July                        27                          2   \n",
              "40068               July                        27                          2   \n",
              "40069               July                        27                          2   \n",
              "\n",
              "       stays_in_weekend_nights  stays_in_week_nights  adults  children  \\\n",
              "40060                        0                     2       1       0.0   \n",
              "40061                        0                     4       2       0.0   \n",
              "40062                        0                     4       1       0.0   \n",
              "40063                        2                     4       2       0.0   \n",
              "40064                        0                     2       2       0.0   \n",
              "40065                        0                     3       2       0.0   \n",
              "40066                        0                     3       1       0.0   \n",
              "40067                        1                     3       1       0.0   \n",
              "40068                        2                     3       2       0.0   \n",
              "40069                        2                     3       2       0.0   \n",
              "\n",
              "       babies meal country market_segment distribution_channel  \\\n",
              "40060       0   HB     PRT  Offline TA/TO                TA/TO   \n",
              "40061       0   BB     PRT      Online TA                TA/TO   \n",
              "40062       0   BB     PRT      Online TA                TA/TO   \n",
              "40063       0   BB     PRT      Online TA                TA/TO   \n",
              "40064       0   BB     PRT      Online TA                TA/TO   \n",
              "40065       0   BB     PRT      Online TA                TA/TO   \n",
              "40066       0   HB     PRT         Groups                TA/TO   \n",
              "40067       0   BB     PRT      Online TA                TA/TO   \n",
              "40068       0   BB     PRT      Online TA                TA/TO   \n",
              "40069       0   BB     PRT      Online TA                TA/TO   \n",
              "\n",
              "       is_repeated_guest  previous_cancellations  \\\n",
              "40060                  0                       0   \n",
              "40061                  0                       0   \n",
              "40062                  0                       0   \n",
              "40063                  0                       0   \n",
              "40064                  0                       0   \n",
              "40065                  0                       0   \n",
              "40066                  0                       0   \n",
              "40067                  0                       0   \n",
              "40068                  0                       0   \n",
              "40069                  0                       0   \n",
              "\n",
              "       previous_bookings_not_canceled reserved_room_type assigned_room_type  \\\n",
              "40060                               0                  A                  A   \n",
              "40061                               0                  A                  A   \n",
              "40062                               0                  A                  A   \n",
              "40063                               0                  A                  A   \n",
              "40064                               0                  A                  A   \n",
              "40065                               0                  A                  A   \n",
              "40066                               0                  A                  A   \n",
              "40067                               0                  A                  A   \n",
              "40068                               0                  A                  A   \n",
              "40069                               0                  A                  A   \n",
              "\n",
              "       booking_changes deposit_type  agent  company  days_in_waiting_list  \\\n",
              "40060                0   No Deposit    6.0      NaN                     0   \n",
              "40061                0   No Deposit    9.0      NaN                     0   \n",
              "40062                0   No Deposit    9.0      NaN                     0   \n",
              "40063                0   No Deposit    9.0      NaN                     0   \n",
              "40064                0   No Deposit    9.0      NaN                     0   \n",
              "40065                0   No Deposit    9.0      NaN                     0   \n",
              "40066                1   No Deposit    1.0      NaN                     0   \n",
              "40067                0   No Deposit    9.0      NaN                     0   \n",
              "40068                0   No Deposit    8.0      NaN                     0   \n",
              "40069                0   No Deposit    8.0      NaN                     0   \n",
              "\n",
              "         customer_type    adr  required_car_parking_spaces  \\\n",
              "40060        Transient   0.00                            0   \n",
              "40061        Transient  76.50                            0   \n",
              "40062        Transient  68.00                            0   \n",
              "40063        Transient  76.50                            0   \n",
              "40064        Transient  76.50                            0   \n",
              "40065        Transient  76.50                            0   \n",
              "40066  Transient-Party  58.67                            0   \n",
              "40067        Transient  68.00                            0   \n",
              "40068        Transient  76.50                            0   \n",
              "40069        Transient  76.50                            0   \n",
              "\n",
              "       total_of_special_requests reservation_status reservation_status_date  \n",
              "40060                          0          Check-Out              2015-07-03  \n",
              "40061                          1           Canceled              2015-07-01  \n",
              "40062                          1           Canceled              2015-04-30  \n",
              "40063                          2           Canceled              2015-06-23  \n",
              "40064                          1           Canceled              2015-04-02  \n",
              "40065                          1           Canceled              2015-06-25  \n",
              "40066                          0          Check-Out              2015-07-05  \n",
              "40067                          0           Canceled              2015-06-25  \n",
              "40068                          1            No-Show              2015-07-02  \n",
              "40069                          1            No-Show              2015-07-02  "
            ]
          },
          "metadata": {
            "tags": []
          },
          "execution_count": 23
        }
      ]
    },
    {
      "cell_type": "code",
      "metadata": {
        "id": "yhc2ykaTy6U2",
        "colab_type": "code",
        "outputId": "241f6faa-b64e-4384-9d7f-2ea2d2d605b6",
        "colab": {}
      },
      "source": [
        "df['reservation_status'].value_counts().plot.bar();"
      ],
      "execution_count": 0,
      "outputs": [
        {
          "output_type": "display_data",
          "data": {
            "image/png": "[encoded data removed]",
            "text/plain": [
              "<Figure size 432x288 with 1 Axes>"
            ]
          },
          "metadata": {
            "tags": [],
            "needs_background": "light"
          }
        }
      ]
    },
    {
      "cell_type": "code",
      "metadata": {
        "id": "nmvFWFmTy6U5",
        "colab_type": "code",
        "outputId": "3b15c216-e2cb-47a5-8ee7-455d80242072",
        "colab": {}
      },
      "source": [
        "ms_status = pd.crosstab(df['market_segment'], df['reservation_status'], margins=True)\n",
        "ms_status"
      ],
      "execution_count": 0,
      "outputs": [
        {
          "output_type": "execute_result",
          "data": {
            "text/html": [
              "<div>\n",
              "<style scoped>\n",
              "    .dataframe tbody tr th:only-of-type {\n",
              "        vertical-align: middle;\n",
              "    }\n",
              "\n",
              "    .dataframe tbody tr th {\n",
              "        vertical-align: top;\n",
              "    }\n",
              "\n",
              "    .dataframe thead th {\n",
              "        text-align: right;\n",
              "    }\n",
              "</style>\n",
              "<table border=\"1\" class=\"dataframe\">\n",
              "  <thead>\n",
              "    <tr style=\"text-align: right;\">\n",
              "      <th>reservation_status</th>\n",
              "      <th>Canceled</th>\n",
              "      <th>Check-Out</th>\n",
              "      <th>No-Show</th>\n",
              "      <th>All</th>\n",
              "    </tr>\n",
              "    <tr>\n",
              "      <th>market_segment</th>\n",
              "      <th></th>\n",
              "      <th></th>\n",
              "      <th></th>\n",
              "      <th></th>\n",
              "    </tr>\n",
              "  </thead>\n",
              "  <tbody>\n",
              "    <tr>\n",
              "      <td>Aviation</td>\n",
              "      <td>41</td>\n",
              "      <td>185</td>\n",
              "      <td>11</td>\n",
              "      <td>237</td>\n",
              "    </tr>\n",
              "    <tr>\n",
              "      <td>Complementary</td>\n",
              "      <td>85</td>\n",
              "      <td>646</td>\n",
              "      <td>12</td>\n",
              "      <td>743</td>\n",
              "    </tr>\n",
              "    <tr>\n",
              "      <td>Corporate</td>\n",
              "      <td>916</td>\n",
              "      <td>4303</td>\n",
              "      <td>76</td>\n",
              "      <td>5295</td>\n",
              "    </tr>\n",
              "    <tr>\n",
              "      <td>Direct</td>\n",
              "      <td>1722</td>\n",
              "      <td>10672</td>\n",
              "      <td>212</td>\n",
              "      <td>12606</td>\n",
              "    </tr>\n",
              "    <tr>\n",
              "      <td>Groups</td>\n",
              "      <td>12023</td>\n",
              "      <td>7714</td>\n",
              "      <td>74</td>\n",
              "      <td>19811</td>\n",
              "    </tr>\n",
              "    <tr>\n",
              "      <td>Offline TA/TO</td>\n",
              "      <td>8080</td>\n",
              "      <td>15908</td>\n",
              "      <td>231</td>\n",
              "      <td>24219</td>\n",
              "    </tr>\n",
              "    <tr>\n",
              "      <td>Online TA</td>\n",
              "      <td>20148</td>\n",
              "      <td>35738</td>\n",
              "      <td>591</td>\n",
              "      <td>56477</td>\n",
              "    </tr>\n",
              "    <tr>\n",
              "      <td>Undefined</td>\n",
              "      <td>2</td>\n",
              "      <td>0</td>\n",
              "      <td>0</td>\n",
              "      <td>2</td>\n",
              "    </tr>\n",
              "    <tr>\n",
              "      <td>All</td>\n",
              "      <td>43017</td>\n",
              "      <td>75166</td>\n",
              "      <td>1207</td>\n",
              "      <td>119390</td>\n",
              "    </tr>\n",
              "  </tbody>\n",
              "</table>\n",
              "</div>"
            ],
            "text/plain": [
              "reservation_status  Canceled  Check-Out  No-Show     All\n",
              "market_segment                                          \n",
              "Aviation                  41        185       11     237\n",
              "Complementary             85        646       12     743\n",
              "Corporate                916       4303       76    5295\n",
              "Direct                  1722      10672      212   12606\n",
              "Groups                 12023       7714       74   19811\n",
              "Offline TA/TO           8080      15908      231   24219\n",
              "Online TA              20148      35738      591   56477\n",
              "Undefined                  2          0        0       2\n",
              "All                    43017      75166     1207  119390"
            ]
          },
          "metadata": {
            "tags": []
          },
          "execution_count": 26
        }
      ]
    },
    {
      "cell_type": "code",
      "metadata": {
        "id": "AZJ5_xh4y6U_",
        "colab_type": "code",
        "outputId": "207f4e5b-0c68-441b-e745-5b9230d1fb79",
        "colab": {}
      },
      "source": [
        "ms_status.plot.bar();"
      ],
      "execution_count": 0,
      "outputs": [
        {
          "output_type": "display_data",
          "data": {
            "image/png": "[encoded data removed]",
            "text/plain": [
              "<Figure size 432x288 with 1 Axes>"
            ]
          },
          "metadata": {
            "tags": [],
            "needs_background": "light"
          }
        }
      ]
    },
    {
      "cell_type": "code",
      "metadata": {
        "id": "nJhg2E0ny6VC",
        "colab_type": "code",
        "outputId": "949b4c1d-b48e-4eaf-805e-91b47d319998",
        "colab": {}
      },
      "source": [
        "ct_status = pd.crosstab(df['customer_type'], df['reservation_status'], margins=True)\n",
        "ct_status"
      ],
      "execution_count": 0,
      "outputs": [
        {
          "output_type": "execute_result",
          "data": {
            "text/html": [
              "<div>\n",
              "<style scoped>\n",
              "    .dataframe tbody tr th:only-of-type {\n",
              "        vertical-align: middle;\n",
              "    }\n",
              "\n",
              "    .dataframe tbody tr th {\n",
              "        vertical-align: top;\n",
              "    }\n",
              "\n",
              "    .dataframe thead th {\n",
              "        text-align: right;\n",
              "    }\n",
              "</style>\n",
              "<table border=\"1\" class=\"dataframe\">\n",
              "  <thead>\n",
              "    <tr style=\"text-align: right;\">\n",
              "      <th>reservation_status</th>\n",
              "      <th>Canceled</th>\n",
              "      <th>Check-Out</th>\n",
              "      <th>No-Show</th>\n",
              "      <th>All</th>\n",
              "    </tr>\n",
              "    <tr>\n",
              "      <th>customer_type</th>\n",
              "      <th></th>\n",
              "      <th></th>\n",
              "      <th></th>\n",
              "      <th></th>\n",
              "    </tr>\n",
              "  </thead>\n",
              "  <tbody>\n",
              "    <tr>\n",
              "      <td>Contract</td>\n",
              "      <td>1236</td>\n",
              "      <td>2814</td>\n",
              "      <td>26</td>\n",
              "      <td>4076</td>\n",
              "    </tr>\n",
              "    <tr>\n",
              "      <td>Group</td>\n",
              "      <td>55</td>\n",
              "      <td>518</td>\n",
              "      <td>4</td>\n",
              "      <td>577</td>\n",
              "    </tr>\n",
              "    <tr>\n",
              "      <td>Transient</td>\n",
              "      <td>35557</td>\n",
              "      <td>53099</td>\n",
              "      <td>957</td>\n",
              "      <td>89613</td>\n",
              "    </tr>\n",
              "    <tr>\n",
              "      <td>Transient-Party</td>\n",
              "      <td>6169</td>\n",
              "      <td>18735</td>\n",
              "      <td>220</td>\n",
              "      <td>25124</td>\n",
              "    </tr>\n",
              "    <tr>\n",
              "      <td>All</td>\n",
              "      <td>43017</td>\n",
              "      <td>75166</td>\n",
              "      <td>1207</td>\n",
              "      <td>119390</td>\n",
              "    </tr>\n",
              "  </tbody>\n",
              "</table>\n",
              "</div>"
            ],
            "text/plain": [
              "reservation_status  Canceled  Check-Out  No-Show     All\n",
              "customer_type                                           \n",
              "Contract                1236       2814       26    4076\n",
              "Group                     55        518        4     577\n",
              "Transient              35557      53099      957   89613\n",
              "Transient-Party         6169      18735      220   25124\n",
              "All                    43017      75166     1207  119390"
            ]
          },
          "metadata": {
            "tags": []
          },
          "execution_count": 24
        }
      ]
    },
    {
      "cell_type": "code",
      "metadata": {
        "id": "MjW9S_t9y6VF",
        "colab_type": "code",
        "colab": {}
      },
      "source": [
        ""
      ],
      "execution_count": 0,
      "outputs": []
    },
    {
      "cell_type": "code",
      "metadata": {
        "id": "uy-sMGwty6VH",
        "colab_type": "code",
        "outputId": "3f632cbb-411f-4724-906e-4db21c0c734a",
        "colab": {}
      },
      "source": [
        "ct_status.plot.bar();"
      ],
      "execution_count": 0,
      "outputs": [
        {
          "output_type": "display_data",
          "data": {
            "image/png": "[encoded data removed]",
            "text/plain": [
              "<Figure size 432x288 with 1 Axes>"
            ]
          },
          "metadata": {
            "tags": [],
            "needs_background": "light"
          }
        }
      ]
    },
    {
      "cell_type": "code",
      "metadata": {
        "id": "yKttxwO5y6VK",
        "colab_type": "code",
        "outputId": "de4d0e5a-16b2-44e4-95c4-3298ee21ebd4",
        "colab": {}
      },
      "source": [
        "dt_status = pd.crosstab(df['deposit_type'], df['reservation_status'], margins=True)\n",
        "dt_status"
      ],
      "execution_count": 0,
      "outputs": [
        {
          "output_type": "execute_result",
          "data": {
            "text/html": [
              "<div>\n",
              "<style scoped>\n",
              "    .dataframe tbody tr th:only-of-type {\n",
              "        vertical-align: middle;\n",
              "    }\n",
              "\n",
              "    .dataframe tbody tr th {\n",
              "        vertical-align: top;\n",
              "    }\n",
              "\n",
              "    .dataframe thead th {\n",
              "        text-align: right;\n",
              "    }\n",
              "</style>\n",
              "<table border=\"1\" class=\"dataframe\">\n",
              "  <thead>\n",
              "    <tr style=\"text-align: right;\">\n",
              "      <th>reservation_status</th>\n",
              "      <th>Canceled</th>\n",
              "      <th>Check-Out</th>\n",
              "      <th>No-Show</th>\n",
              "      <th>All</th>\n",
              "    </tr>\n",
              "    <tr>\n",
              "      <th>deposit_type</th>\n",
              "      <th></th>\n",
              "      <th></th>\n",
              "      <th></th>\n",
              "      <th></th>\n",
              "    </tr>\n",
              "  </thead>\n",
              "  <tbody>\n",
              "    <tr>\n",
              "      <td>No Deposit</td>\n",
              "      <td>28522</td>\n",
              "      <td>74947</td>\n",
              "      <td>1172</td>\n",
              "      <td>104641</td>\n",
              "    </tr>\n",
              "    <tr>\n",
              "      <td>Non Refund</td>\n",
              "      <td>14460</td>\n",
              "      <td>93</td>\n",
              "      <td>34</td>\n",
              "      <td>14587</td>\n",
              "    </tr>\n",
              "    <tr>\n",
              "      <td>Refundable</td>\n",
              "      <td>35</td>\n",
              "      <td>126</td>\n",
              "      <td>1</td>\n",
              "      <td>162</td>\n",
              "    </tr>\n",
              "    <tr>\n",
              "      <td>All</td>\n",
              "      <td>43017</td>\n",
              "      <td>75166</td>\n",
              "      <td>1207</td>\n",
              "      <td>119390</td>\n",
              "    </tr>\n",
              "  </tbody>\n",
              "</table>\n",
              "</div>"
            ],
            "text/plain": [
              "reservation_status  Canceled  Check-Out  No-Show     All\n",
              "deposit_type                                            \n",
              "No Deposit             28522      74947     1172  104641\n",
              "Non Refund             14460         93       34   14587\n",
              "Refundable                35        126        1     162\n",
              "All                    43017      75166     1207  119390"
            ]
          },
          "metadata": {
            "tags": []
          },
          "execution_count": 28
        }
      ]
    },
    {
      "cell_type": "code",
      "metadata": {
        "id": "UQZv1ShMy6VO",
        "colab_type": "code",
        "outputId": "49096a24-034c-49c8-ee16-02fd52525ba5",
        "colab": {}
      },
      "source": [
        "dt_status.plot.bar();"
      ],
      "execution_count": 0,
      "outputs": [
        {
          "output_type": "display_data",
          "data": {
            "image/png": "[encoded data removed]",
            "text/plain": [
              "<Figure size 432x288 with 1 Axes>"
            ]
          },
          "metadata": {
            "tags": [],
            "needs_background": "light"
          }
        }
      ]
    },
    {
      "cell_type": "code",
      "metadata": {
        "id": "6uXuFEdky6VR",
        "colab_type": "code",
        "outputId": "41c84fa0-6d08-45ac-a3dc-af05e362195e",
        "colab": {}
      },
      "source": [
        "ht_status = pd.crosstab(df['hotel'], df['reservation_status'], margins=True)\n",
        "ht_status"
      ],
      "execution_count": 0,
      "outputs": [
        {
          "output_type": "execute_result",
          "data": {
            "text/html": [
              "<div>\n",
              "<style scoped>\n",
              "    .dataframe tbody tr th:only-of-type {\n",
              "        vertical-align: middle;\n",
              "    }\n",
              "\n",
              "    .dataframe tbody tr th {\n",
              "        vertical-align: top;\n",
              "    }\n",
              "\n",
              "    .dataframe thead th {\n",
              "        text-align: right;\n",
              "    }\n",
              "</style>\n",
              "<table border=\"1\" class=\"dataframe\">\n",
              "  <thead>\n",
              "    <tr style=\"text-align: right;\">\n",
              "      <th>reservation_status</th>\n",
              "      <th>Canceled</th>\n",
              "      <th>Check-Out</th>\n",
              "      <th>No-Show</th>\n",
              "      <th>All</th>\n",
              "    </tr>\n",
              "    <tr>\n",
              "      <th>hotel</th>\n",
              "      <th></th>\n",
              "      <th></th>\n",
              "      <th></th>\n",
              "      <th></th>\n",
              "    </tr>\n",
              "  </thead>\n",
              "  <tbody>\n",
              "    <tr>\n",
              "      <td>City Hotel</td>\n",
              "      <td>32186</td>\n",
              "      <td>46228</td>\n",
              "      <td>916</td>\n",
              "      <td>79330</td>\n",
              "    </tr>\n",
              "    <tr>\n",
              "      <td>Resort Hotel</td>\n",
              "      <td>10831</td>\n",
              "      <td>28938</td>\n",
              "      <td>291</td>\n",
              "      <td>40060</td>\n",
              "    </tr>\n",
              "    <tr>\n",
              "      <td>All</td>\n",
              "      <td>43017</td>\n",
              "      <td>75166</td>\n",
              "      <td>1207</td>\n",
              "      <td>119390</td>\n",
              "    </tr>\n",
              "  </tbody>\n",
              "</table>\n",
              "</div>"
            ],
            "text/plain": [
              "reservation_status  Canceled  Check-Out  No-Show     All\n",
              "hotel                                                   \n",
              "City Hotel             32186      46228      916   79330\n",
              "Resort Hotel           10831      28938      291   40060\n",
              "All                    43017      75166     1207  119390"
            ]
          },
          "metadata": {
            "tags": []
          },
          "execution_count": 30
        }
      ]
    },
    {
      "cell_type": "code",
      "metadata": {
        "id": "55wnmVyfy6VU",
        "colab_type": "code",
        "outputId": "0c9b94c0-d4ed-4782-8ffc-90947a7128fb",
        "colab": {}
      },
      "source": [
        "ht_status.plot.bar();"
      ],
      "execution_count": 0,
      "outputs": [
        {
          "output_type": "display_data",
          "data": {
            "image/png": "[encoded data removed]",
            "text/plain": [
              "<Figure size 432x288 with 1 Axes>"
            ]
          },
          "metadata": {
            "tags": [],
            "needs_background": "light"
          }
        }
      ]
    },
    {
      "cell_type": "code",
      "metadata": {
        "id": "DdXUqu4xy6VX",
        "colab_type": "code",
        "outputId": "9a5a07b0-0439-49e5-e7aa-70de02fd96ae",
        "colab": {}
      },
      "source": [
        "ad_status = pd.crosstab(df[df['adults'] <= 4]['adults'], df[df['adults'] <= 4]['reservation_status'], margins=True)\n",
        "ad_status"
      ],
      "execution_count": 0,
      "outputs": [
        {
          "output_type": "execute_result",
          "data": {
            "text/html": [
              "<div>\n",
              "<style scoped>\n",
              "    .dataframe tbody tr th:only-of-type {\n",
              "        vertical-align: middle;\n",
              "    }\n",
              "\n",
              "    .dataframe tbody tr th {\n",
              "        vertical-align: top;\n",
              "    }\n",
              "\n",
              "    .dataframe thead th {\n",
              "        text-align: right;\n",
              "    }\n",
              "</style>\n",
              "<table border=\"1\" class=\"dataframe\">\n",
              "  <thead>\n",
              "    <tr style=\"text-align: right;\">\n",
              "      <th>reservation_status</th>\n",
              "      <th>Canceled</th>\n",
              "      <th>Check-Out</th>\n",
              "      <th>No-Show</th>\n",
              "      <th>All</th>\n",
              "    </tr>\n",
              "    <tr>\n",
              "      <th>adults</th>\n",
              "      <th></th>\n",
              "      <th></th>\n",
              "      <th></th>\n",
              "      <th></th>\n",
              "    </tr>\n",
              "  </thead>\n",
              "  <tbody>\n",
              "    <tr>\n",
              "      <td>0</td>\n",
              "      <td>105</td>\n",
              "      <td>294</td>\n",
              "      <td>4</td>\n",
              "      <td>403</td>\n",
              "    </tr>\n",
              "    <tr>\n",
              "      <td>1</td>\n",
              "      <td>6228</td>\n",
              "      <td>16353</td>\n",
              "      <td>446</td>\n",
              "      <td>23027</td>\n",
              "    </tr>\n",
              "    <tr>\n",
              "      <td>2</td>\n",
              "      <td>34548</td>\n",
              "      <td>54422</td>\n",
              "      <td>710</td>\n",
              "      <td>89680</td>\n",
              "    </tr>\n",
              "    <tr>\n",
              "      <td>3</td>\n",
              "      <td>2104</td>\n",
              "      <td>4051</td>\n",
              "      <td>47</td>\n",
              "      <td>6202</td>\n",
              "    </tr>\n",
              "    <tr>\n",
              "      <td>4</td>\n",
              "      <td>16</td>\n",
              "      <td>46</td>\n",
              "      <td>0</td>\n",
              "      <td>62</td>\n",
              "    </tr>\n",
              "    <tr>\n",
              "      <td>All</td>\n",
              "      <td>43001</td>\n",
              "      <td>75166</td>\n",
              "      <td>1207</td>\n",
              "      <td>119374</td>\n",
              "    </tr>\n",
              "  </tbody>\n",
              "</table>\n",
              "</div>"
            ],
            "text/plain": [
              "reservation_status  Canceled  Check-Out  No-Show     All\n",
              "adults                                                  \n",
              "0                        105        294        4     403\n",
              "1                       6228      16353      446   23027\n",
              "2                      34548      54422      710   89680\n",
              "3                       2104       4051       47    6202\n",
              "4                         16         46        0      62\n",
              "All                    43001      75166     1207  119374"
            ]
          },
          "metadata": {
            "tags": []
          },
          "execution_count": 75
        }
      ]
    },
    {
      "cell_type": "code",
      "metadata": {
        "id": "7jpbYLh_y6Vb",
        "colab_type": "code",
        "outputId": "159a5be7-017e-4362-acb6-1497c37cfe1c",
        "colab": {}
      },
      "source": [
        "ad_status.plot.bar();"
      ],
      "execution_count": 0,
      "outputs": [
        {
          "output_type": "display_data",
          "data": {
            "image/png": "[encoded data removed]",
            "text/plain": [
              "<Figure size 432x288 with 1 Axes>"
            ]
          },
          "metadata": {
            "tags": [],
            "needs_background": "light"
          }
        }
      ]
    },
    {
      "cell_type": "code",
      "metadata": {
        "id": "LQfeUEIQy6Vd",
        "colab_type": "code",
        "outputId": "0df548bf-b910-4d85-da96-718335e81403",
        "colab": {}
      },
      "source": [
        "ch_status = pd.crosstab(df[df['children'] <= 4]['children'], df[df['children'] <= 4]['reservation_status'], margins=True)\n",
        "ch_status"
      ],
      "execution_count": 0,
      "outputs": [
        {
          "output_type": "execute_result",
          "data": {
            "text/html": [
              "<div>\n",
              "<style scoped>\n",
              "    .dataframe tbody tr th:only-of-type {\n",
              "        vertical-align: middle;\n",
              "    }\n",
              "\n",
              "    .dataframe tbody tr th {\n",
              "        vertical-align: top;\n",
              "    }\n",
              "\n",
              "    .dataframe thead th {\n",
              "        text-align: right;\n",
              "    }\n",
              "</style>\n",
              "<table border=\"1\" class=\"dataframe\">\n",
              "  <thead>\n",
              "    <tr style=\"text-align: right;\">\n",
              "      <th>reservation_status</th>\n",
              "      <th>Canceled</th>\n",
              "      <th>Check-Out</th>\n",
              "      <th>No-Show</th>\n",
              "      <th>All</th>\n",
              "    </tr>\n",
              "    <tr>\n",
              "      <th>children</th>\n",
              "      <th></th>\n",
              "      <th></th>\n",
              "      <th></th>\n",
              "      <th></th>\n",
              "    </tr>\n",
              "  </thead>\n",
              "  <tbody>\n",
              "    <tr>\n",
              "      <td>0.0</td>\n",
              "      <td>39980</td>\n",
              "      <td>69702</td>\n",
              "      <td>1114</td>\n",
              "      <td>110796</td>\n",
              "    </tr>\n",
              "    <tr>\n",
              "      <td>1.0</td>\n",
              "      <td>1516</td>\n",
              "      <td>3294</td>\n",
              "      <td>51</td>\n",
              "      <td>4861</td>\n",
              "    </tr>\n",
              "    <tr>\n",
              "      <td>2.0</td>\n",
              "      <td>1500</td>\n",
              "      <td>2111</td>\n",
              "      <td>41</td>\n",
              "      <td>3652</td>\n",
              "    </tr>\n",
              "    <tr>\n",
              "      <td>3.0</td>\n",
              "      <td>17</td>\n",
              "      <td>59</td>\n",
              "      <td>0</td>\n",
              "      <td>76</td>\n",
              "    </tr>\n",
              "    <tr>\n",
              "      <td>All</td>\n",
              "      <td>43013</td>\n",
              "      <td>75166</td>\n",
              "      <td>1206</td>\n",
              "      <td>119385</td>\n",
              "    </tr>\n",
              "  </tbody>\n",
              "</table>\n",
              "</div>"
            ],
            "text/plain": [
              "reservation_status  Canceled  Check-Out  No-Show     All\n",
              "children                                                \n",
              "0.0                    39980      69702     1114  110796\n",
              "1.0                     1516       3294       51    4861\n",
              "2.0                     1500       2111       41    3652\n",
              "3.0                       17         59        0      76\n",
              "All                    43013      75166     1206  119385"
            ]
          },
          "metadata": {
            "tags": []
          },
          "execution_count": 73
        }
      ]
    },
    {
      "cell_type": "code",
      "metadata": {
        "id": "pvwSy2rAy6Vh",
        "colab_type": "code",
        "outputId": "ffe8bbb1-68da-494b-99d7-a1be497a255a",
        "colab": {}
      },
      "source": [
        "ch_status.plot.bar();"
      ],
      "execution_count": 0,
      "outputs": [
        {
          "output_type": "display_data",
          "data": {
            "image/png": "[encoded data removed]",
            "text/plain": [
              "<Figure size 432x288 with 1 Axes>"
            ]
          },
          "metadata": {
            "tags": [],
            "needs_background": "light"
          }
        }
      ]
    },
    {
      "cell_type": "code",
      "metadata": {
        "id": "gBn8CJ4my6Vk",
        "colab_type": "code",
        "outputId": "0d887b53-6f4c-4072-89b1-f8c19cf9a984",
        "colab": {}
      },
      "source": [
        "b_status = pd.crosstab(df[df['babies'] <= 4]['babies'], df[df['babies'] <= 4]['reservation_status'], margins=True)\n",
        "b_status"
      ],
      "execution_count": 0,
      "outputs": [
        {
          "output_type": "execute_result",
          "data": {
            "text/html": [
              "<div>\n",
              "<style scoped>\n",
              "    .dataframe tbody tr th:only-of-type {\n",
              "        vertical-align: middle;\n",
              "    }\n",
              "\n",
              "    .dataframe tbody tr th {\n",
              "        vertical-align: top;\n",
              "    }\n",
              "\n",
              "    .dataframe thead th {\n",
              "        text-align: right;\n",
              "    }\n",
              "</style>\n",
              "<table border=\"1\" class=\"dataframe\">\n",
              "  <thead>\n",
              "    <tr style=\"text-align: right;\">\n",
              "      <th>reservation_status</th>\n",
              "      <th>Canceled</th>\n",
              "      <th>Check-Out</th>\n",
              "      <th>No-Show</th>\n",
              "      <th>All</th>\n",
              "    </tr>\n",
              "    <tr>\n",
              "      <th>babies</th>\n",
              "      <th></th>\n",
              "      <th></th>\n",
              "      <th></th>\n",
              "      <th></th>\n",
              "    </tr>\n",
              "  </thead>\n",
              "  <tbody>\n",
              "    <tr>\n",
              "      <td>0</td>\n",
              "      <td>42858</td>\n",
              "      <td>74416</td>\n",
              "      <td>1199</td>\n",
              "      <td>118473</td>\n",
              "    </tr>\n",
              "    <tr>\n",
              "      <td>1</td>\n",
              "      <td>157</td>\n",
              "      <td>735</td>\n",
              "      <td>8</td>\n",
              "      <td>900</td>\n",
              "    </tr>\n",
              "    <tr>\n",
              "      <td>2</td>\n",
              "      <td>2</td>\n",
              "      <td>13</td>\n",
              "      <td>0</td>\n",
              "      <td>15</td>\n",
              "    </tr>\n",
              "    <tr>\n",
              "      <td>All</td>\n",
              "      <td>43017</td>\n",
              "      <td>75164</td>\n",
              "      <td>1207</td>\n",
              "      <td>119388</td>\n",
              "    </tr>\n",
              "  </tbody>\n",
              "</table>\n",
              "</div>"
            ],
            "text/plain": [
              "reservation_status  Canceled  Check-Out  No-Show     All\n",
              "babies                                                  \n",
              "0                      42858      74416     1199  118473\n",
              "1                        157        735        8     900\n",
              "2                          2         13        0      15\n",
              "All                    43017      75164     1207  119388"
            ]
          },
          "metadata": {
            "tags": []
          },
          "execution_count": 77
        }
      ]
    },
    {
      "cell_type": "code",
      "metadata": {
        "id": "0DJZNMiHy6Vn",
        "colab_type": "code",
        "outputId": "9c0d1a14-81f6-4ad8-a36b-6ffb074b4cf4",
        "colab": {}
      },
      "source": [
        "b_status.plot.bar();"
      ],
      "execution_count": 0,
      "outputs": [
        {
          "output_type": "display_data",
          "data": {
            "image/png": "[encoded data removed]",
            "text/plain": [
              "<Figure size 432x288 with 1 Axes>"
            ]
          },
          "metadata": {
            "tags": [],
            "needs_background": "light"
          }
        }
      ]
    },
    {
      "cell_type": "code",
      "metadata": {
        "id": "_CyXh33qy6Vr",
        "colab_type": "code",
        "outputId": "258d3a4b-c3f6-4b55-c4f8-0b9de14e9e77",
        "colab": {}
      },
      "source": [
        "m_status = pd.crosstab(df['arrival_date_month'], df['reservation_status'])\n",
        "m_status"
      ],
      "execution_count": 0,
      "outputs": [
        {
          "output_type": "execute_result",
          "data": {
            "text/html": [
              "<div>\n",
              "<style scoped>\n",
              "    .dataframe tbody tr th:only-of-type {\n",
              "        vertical-align: middle;\n",
              "    }\n",
              "\n",
              "    .dataframe tbody tr th {\n",
              "        vertical-align: top;\n",
              "    }\n",
              "\n",
              "    .dataframe thead th {\n",
              "        text-align: right;\n",
              "    }\n",
              "</style>\n",
              "<table border=\"1\" class=\"dataframe\">\n",
              "  <thead>\n",
              "    <tr style=\"text-align: right;\">\n",
              "      <th>reservation_status</th>\n",
              "      <th>Canceled</th>\n",
              "      <th>Check-Out</th>\n",
              "      <th>No-Show</th>\n",
              "    </tr>\n",
              "    <tr>\n",
              "      <th>arrival_date_month</th>\n",
              "      <th></th>\n",
              "      <th></th>\n",
              "      <th></th>\n",
              "    </tr>\n",
              "  </thead>\n",
              "  <tbody>\n",
              "    <tr>\n",
              "      <td>April</td>\n",
              "      <td>4447</td>\n",
              "      <td>6565</td>\n",
              "      <td>77</td>\n",
              "    </tr>\n",
              "    <tr>\n",
              "      <td>August</td>\n",
              "      <td>5147</td>\n",
              "      <td>8638</td>\n",
              "      <td>92</td>\n",
              "    </tr>\n",
              "    <tr>\n",
              "      <td>December</td>\n",
              "      <td>2289</td>\n",
              "      <td>4409</td>\n",
              "      <td>82</td>\n",
              "    </tr>\n",
              "    <tr>\n",
              "      <td>February</td>\n",
              "      <td>2467</td>\n",
              "      <td>5372</td>\n",
              "      <td>229</td>\n",
              "    </tr>\n",
              "    <tr>\n",
              "      <td>January</td>\n",
              "      <td>1732</td>\n",
              "      <td>4122</td>\n",
              "      <td>75</td>\n",
              "    </tr>\n",
              "    <tr>\n",
              "      <td>July</td>\n",
              "      <td>4646</td>\n",
              "      <td>7919</td>\n",
              "      <td>96</td>\n",
              "    </tr>\n",
              "    <tr>\n",
              "      <td>June</td>\n",
              "      <td>4451</td>\n",
              "      <td>6404</td>\n",
              "      <td>84</td>\n",
              "    </tr>\n",
              "    <tr>\n",
              "      <td>March</td>\n",
              "      <td>3027</td>\n",
              "      <td>6645</td>\n",
              "      <td>122</td>\n",
              "    </tr>\n",
              "    <tr>\n",
              "      <td>May</td>\n",
              "      <td>4545</td>\n",
              "      <td>7114</td>\n",
              "      <td>132</td>\n",
              "    </tr>\n",
              "    <tr>\n",
              "      <td>November</td>\n",
              "      <td>2044</td>\n",
              "      <td>4672</td>\n",
              "      <td>78</td>\n",
              "    </tr>\n",
              "    <tr>\n",
              "      <td>October</td>\n",
              "      <td>4173</td>\n",
              "      <td>6914</td>\n",
              "      <td>73</td>\n",
              "    </tr>\n",
              "    <tr>\n",
              "      <td>September</td>\n",
              "      <td>4049</td>\n",
              "      <td>6392</td>\n",
              "      <td>67</td>\n",
              "    </tr>\n",
              "  </tbody>\n",
              "</table>\n",
              "</div>"
            ],
            "text/plain": [
              "reservation_status  Canceled  Check-Out  No-Show\n",
              "arrival_date_month                              \n",
              "April                   4447       6565       77\n",
              "August                  5147       8638       92\n",
              "December                2289       4409       82\n",
              "February                2467       5372      229\n",
              "January                 1732       4122       75\n",
              "July                    4646       7919       96\n",
              "June                    4451       6404       84\n",
              "March                   3027       6645      122\n",
              "May                     4545       7114      132\n",
              "November                2044       4672       78\n",
              "October                 4173       6914       73\n",
              "September               4049       6392       67"
            ]
          },
          "metadata": {
            "tags": []
          },
          "execution_count": 48
        }
      ]
    },
    {
      "cell_type": "code",
      "metadata": {
        "id": "TWijq6yOy6Vx",
        "colab_type": "code",
        "outputId": "56f52178-301b-4423-cb89-424bf989bea7",
        "colab": {}
      },
      "source": [
        "m_status.plot.bar();"
      ],
      "execution_count": 0,
      "outputs": [
        {
          "output_type": "display_data",
          "data": {
            "image/png": "[encoded data removed]",
            "text/plain": [
              "<Figure size 432x288 with 1 Axes>"
            ]
          },
          "metadata": {
            "tags": [],
            "needs_background": "light"
          }
        }
      ]
    },
    {
      "cell_type": "code",
      "metadata": {
        "id": "AU60-RZOy6V1",
        "colab_type": "code",
        "outputId": "8e5dfa56-b952-4d32-d463-1a3b7fe077b9",
        "colab": {}
      },
      "source": [
        "df['country'].unique()"
      ],
      "execution_count": 0,
      "outputs": [
        {
          "output_type": "execute_result",
          "data": {
            "text/plain": [
              "array(['PRT', 'GBR', 'USA', 'ESP', 'IRL', 'FRA', nan, 'ROU', 'NOR', 'OMN',\n",
              "       'ARG', 'POL', 'DEU', 'BEL', 'CHE', 'CN', 'GRC', 'ITA', 'NLD',\n",
              "       'DNK', 'RUS', 'SWE', 'AUS', 'EST', 'CZE', 'BRA', 'FIN', 'MOZ',\n",
              "       'BWA', 'LUX', 'SVN', 'ALB', 'IND', 'CHN', 'MEX', 'MAR', 'UKR',\n",
              "       'SMR', 'LVA', 'PRI', 'SRB', 'CHL', 'AUT', 'BLR', 'LTU', 'TUR',\n",
              "       'ZAF', 'AGO', 'ISR', 'CYM', 'ZMB', 'CPV', 'ZWE', 'DZA', 'KOR',\n",
              "       'CRI', 'HUN', 'ARE', 'TUN', 'JAM', 'HRV', 'HKG', 'IRN', 'GEO',\n",
              "       'AND', 'GIB', 'URY', 'JEY', 'CAF', 'CYP', 'COL', 'GGY', 'KWT',\n",
              "       'NGA', 'MDV', 'VEN', 'SVK', 'FJI', 'KAZ', 'PAK', 'IDN', 'LBN',\n",
              "       'PHL', 'SEN', 'SYC', 'AZE', 'BHR', 'NZL', 'THA', 'DOM', 'MKD',\n",
              "       'MYS', 'ARM', 'JPN', 'LKA', 'CUB', 'CMR', 'BIH', 'MUS', 'COM',\n",
              "       'SUR', 'UGA', 'BGR', 'CIV', 'JOR', 'SYR', 'SGP', 'BDI', 'SAU',\n",
              "       'VNM', 'PLW', 'QAT', 'EGY', 'PER', 'MLT', 'MWI', 'ECU', 'MDG',\n",
              "       'ISL', 'UZB', 'NPL', 'BHS', 'MAC', 'TGO', 'TWN', 'DJI', 'STP',\n",
              "       'KNA', 'ETH', 'IRQ', 'HND', 'RWA', 'KHM', 'MCO', 'BGD', 'IMN',\n",
              "       'TJK', 'NIC', 'BEN', 'VGB', 'TZA', 'GAB', 'GHA', 'TMP', 'GLP',\n",
              "       'KEN', 'LIE', 'GNB', 'MNE', 'UMI', 'MYT', 'FRO', 'MMR', 'PAN',\n",
              "       'BFA', 'LBY', 'MLI', 'NAM', 'BOL', 'PRY', 'BRB', 'ABW', 'AIA',\n",
              "       'SLV', 'DMA', 'PYF', 'GUY', 'LCA', 'ATA', 'GTM', 'ASM', 'MRT',\n",
              "       'NCL', 'KIR', 'SDN', 'ATF', 'SLE', 'LAO'], dtype=object)"
            ]
          },
          "metadata": {
            "tags": []
          },
          "execution_count": 27
        }
      ]
    },
    {
      "cell_type": "code",
      "metadata": {
        "id": "yG91kWd9y6V4",
        "colab_type": "code",
        "outputId": "1743ecfa-fb22-42b5-9888-2ed7e991d823",
        "colab": {}
      },
      "source": [
        "df['country'].value_counts()"
      ],
      "execution_count": 0,
      "outputs": [
        {
          "output_type": "execute_result",
          "data": {
            "text/plain": [
              "PRT    48590\n",
              "GBR    12129\n",
              "FRA    10415\n",
              "ESP     8568\n",
              "DEU     7287\n",
              "       ...  \n",
              "KIR        1\n",
              "BHS        1\n",
              "VGB        1\n",
              "SDN        1\n",
              "MLI        1\n",
              "Name: country, Length: 177, dtype: int64"
            ]
          },
          "metadata": {
            "tags": []
          },
          "execution_count": 28
        }
      ]
    },
    {
      "cell_type": "code",
      "metadata": {
        "id": "mtbFixPWy6V7",
        "colab_type": "code",
        "outputId": "f2462523-811d-459a-98ec-11497d05aaaf",
        "colab": {}
      },
      "source": [
        "df['country'].nunique()"
      ],
      "execution_count": 0,
      "outputs": [
        {
          "output_type": "execute_result",
          "data": {
            "text/plain": [
              "177"
            ]
          },
          "metadata": {
            "tags": []
          },
          "execution_count": 29
        }
      ]
    },
    {
      "cell_type": "code",
      "metadata": {
        "id": "ArUCBuAEy6V-",
        "colab_type": "code",
        "outputId": "4afcf3e6-3599-4d33-eb1a-52af30cd5211",
        "colab": {}
      },
      "source": [
        "df['reservation_status'].value_counts()"
      ],
      "execution_count": 0,
      "outputs": [
        {
          "output_type": "execute_result",
          "data": {
            "text/plain": [
              "Check-Out    75166\n",
              "Canceled     43017\n",
              "No-Show       1207\n",
              "Name: reservation_status, dtype: int64"
            ]
          },
          "metadata": {
            "tags": []
          },
          "execution_count": 30
        }
      ]
    },
    {
      "cell_type": "code",
      "metadata": {
        "id": "9I6_jz5ry6WC",
        "colab_type": "code",
        "outputId": "1e2e6ec9-186c-4a59-8237-bebb446f2b4c",
        "colab": {}
      },
      "source": [
        "df[df['reservation_status'] == 'Check-Out']['reservation_status'].count() / df.shape[0]"
      ],
      "execution_count": 0,
      "outputs": [
        {
          "output_type": "execute_result",
          "data": {
            "text/plain": [
              "0.6295837172292487"
            ]
          },
          "metadata": {
            "tags": []
          },
          "execution_count": 40
        }
      ]
    },
    {
      "cell_type": "code",
      "metadata": {
        "id": "Vjs5eZGfy6WH",
        "colab_type": "code",
        "colab": {}
      },
      "source": [
        ""
      ],
      "execution_count": 0,
      "outputs": []
    }
  ]
}