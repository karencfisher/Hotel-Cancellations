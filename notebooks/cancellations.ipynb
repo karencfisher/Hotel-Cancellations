{
  "nbformat": 4,
  "nbformat_minor": 0,
  "metadata": {
    "colab": {
      "name": "cancellations.ipynb",
      "provenance": [],
      "authorship_tag": "ABX9TyPo2G+ldfALAckg87eHTMIE",
      "include_colab_link": true
    },
    "kernelspec": {
      "name": "python3",
      "display_name": "Python 3"
    }
  },
  "cells": [
    {
      "cell_type": "markdown",
      "metadata": {
        "id": "view-in-github",
        "colab_type": "text"
      },
      "source": [
        "<a href=\"https://colab.research.google.com/github/karencfisher/Hotel-Cancellations/blob/master/notebooks/cancellations.ipynb\" target=\"_parent\"><img src=\"https://colab.research.google.com/assets/colab-badge.svg\" alt=\"Open In Colab\"/></a>"
      ]
    },
    {
      "cell_type": "code",
      "metadata": {
        "id": "4_QHfZsJdlD9",
        "colab_type": "code",
        "colab": {}
      },
      "source": [
        "def convertTarget(df):\n",
        "    df_copy = df.copy()\n",
        "    cond = df_copy['reservation_status'] == 'No-Show'\n",
        "    df_copy.loc[cond, 'reservation_status'] = 'Canceled'\n",
        "    return df_copy\n",
        "    "
      ],
      "execution_count": 0,
      "outputs": []
    },
    {
      "cell_type": "code",
      "metadata": {
        "id": "n6_KU8yAa6_Y",
        "colab_type": "code",
        "colab": {
          "base_uri": "https://localhost:8080/",
          "height": 407
        },
        "outputId": "e1d3ce38-473d-4491-8630-047a59fda504"
      },
      "source": [
        "!pip install category_encoders==2.*\n",
        "!wget https://raw.githubusercontent.com/karencfisher/Hotel-Cancellations/master/tools.py\n",
        "\n",
        "import tools\n",
        "import pandas as pd\n",
        "from sklearn.model_selection import train_test_split\n",
        "import numpy as np\n",
        "\n",
        "url = 'https://raw.githubusercontent.com/karencfisher/Hotel-Cancellations/master/hotel_bookings.csv'\n",
        "df = pd.read_csv(url)\n",
        "df = tools.fixTarget(df)\n",
        "df = convertTarget(df)\n",
        "\n",
        "X = df.drop('reservation_status', axis=1)\n",
        "y= df['reservation_status']\n",
        "X_train, X_test, y_train, y_test = train_test_split(X, y, test_size=.3, random_state=42,\n",
        "                                                    stratify=y)\n",
        "X_train, X_val, y_train, y_val = train_test_split(X_train, y_train, test_size=.2,\n",
        "                                                  random_state=42, stratify=y_train)"
      ],
      "execution_count": 7,
      "outputs": [
        {
          "output_type": "stream",
          "text": [
            "Requirement already satisfied: category_encoders==2.* in /usr/local/lib/python3.6/dist-packages (2.2.2)\n",
            "Requirement already satisfied: numpy>=1.14.0 in /usr/local/lib/python3.6/dist-packages (from category_encoders==2.*) (1.18.4)\n",
            "Requirement already satisfied: pandas>=0.21.1 in /usr/local/lib/python3.6/dist-packages (from category_encoders==2.*) (1.0.4)\n",
            "Requirement already satisfied: statsmodels>=0.9.0 in /usr/local/lib/python3.6/dist-packages (from category_encoders==2.*) (0.10.2)\n",
            "Requirement already satisfied: scikit-learn>=0.20.0 in /usr/local/lib/python3.6/dist-packages (from category_encoders==2.*) (0.22.2.post1)\n",
            "Requirement already satisfied: scipy>=1.0.0 in /usr/local/lib/python3.6/dist-packages (from category_encoders==2.*) (1.4.1)\n",
            "Requirement already satisfied: patsy>=0.5.1 in /usr/local/lib/python3.6/dist-packages (from category_encoders==2.*) (0.5.1)\n",
            "Requirement already satisfied: pytz>=2017.2 in /usr/local/lib/python3.6/dist-packages (from pandas>=0.21.1->category_encoders==2.*) (2018.9)\n",
            "Requirement already satisfied: python-dateutil>=2.6.1 in /usr/local/lib/python3.6/dist-packages (from pandas>=0.21.1->category_encoders==2.*) (2.8.1)\n",
            "Requirement already satisfied: joblib>=0.11 in /usr/local/lib/python3.6/dist-packages (from scikit-learn>=0.20.0->category_encoders==2.*) (0.15.1)\n",
            "Requirement already satisfied: six in /usr/local/lib/python3.6/dist-packages (from patsy>=0.5.1->category_encoders==2.*) (1.12.0)\n",
            "--2020-06-08 06:17:33--  https://raw.githubusercontent.com/karencfisher/Hotel-Cancellations/master/tools.py\n",
            "Resolving raw.githubusercontent.com (raw.githubusercontent.com)... 151.101.0.133, 151.101.64.133, 151.101.128.133, ...\n",
            "Connecting to raw.githubusercontent.com (raw.githubusercontent.com)|151.101.0.133|:443... connected.\n",
            "HTTP request sent, awaiting response... 200 OK\n",
            "Length: 8279 (8.1K) [text/plain]\n",
            "Saving to: ‘tools.py.2’\n",
            "\n",
            "tools.py.2          100%[===================>]   8.08K  --.-KB/s    in 0s      \n",
            "\n",
            "2020-06-08 06:17:33 (87.0 MB/s) - ‘tools.py.2’ saved [8279/8279]\n",
            "\n"
          ],
          "name": "stdout"
        }
      ]
    },
    {
      "cell_type": "code",
      "metadata": {
        "id": "ozznEQNUbEzm",
        "colab_type": "code",
        "colab": {
          "base_uri": "https://localhost:8080/",
          "height": 301
        },
        "outputId": "57a6dad0-f7a0-4585-a541-3fb6b505f26f"
      },
      "source": [
        "tools.wrangleData(max_cardinality=50).transform(X_train).head()\n"
      ],
      "execution_count": 3,
      "outputs": [
        {
          "output_type": "execute_result",
          "data": {
            "text/html": [
              "<div>\n",
              "<style scoped>\n",
              "    .dataframe tbody tr th:only-of-type {\n",
              "        vertical-align: middle;\n",
              "    }\n",
              "\n",
              "    .dataframe tbody tr th {\n",
              "        vertical-align: top;\n",
              "    }\n",
              "\n",
              "    .dataframe thead th {\n",
              "        text-align: right;\n",
              "    }\n",
              "</style>\n",
              "<table border=\"1\" class=\"dataframe\">\n",
              "  <thead>\n",
              "    <tr style=\"text-align: right;\">\n",
              "      <th></th>\n",
              "      <th>hotel</th>\n",
              "      <th>lead_time</th>\n",
              "      <th>arrival_date_week_number</th>\n",
              "      <th>adults</th>\n",
              "      <th>children</th>\n",
              "      <th>babies</th>\n",
              "      <th>meal</th>\n",
              "      <th>market_segment</th>\n",
              "      <th>distribution_channel</th>\n",
              "      <th>is_repeated_guest</th>\n",
              "      <th>previous_cancellations</th>\n",
              "      <th>previous_bookings_not_canceled</th>\n",
              "      <th>reserved_room_type</th>\n",
              "      <th>assigned_room_type</th>\n",
              "      <th>booking_changes</th>\n",
              "      <th>deposit_type</th>\n",
              "      <th>days_in_waiting_list</th>\n",
              "      <th>customer_type</th>\n",
              "      <th>adr</th>\n",
              "      <th>required_car_parking_spaces</th>\n",
              "      <th>total_of_special_requests</th>\n",
              "      <th>nights_stay</th>\n",
              "    </tr>\n",
              "  </thead>\n",
              "  <tbody>\n",
              "    <tr>\n",
              "      <th>69573</th>\n",
              "      <td>City Hotel</td>\n",
              "      <td>189</td>\n",
              "      <td>22</td>\n",
              "      <td>2.0</td>\n",
              "      <td>0.0</td>\n",
              "      <td>0</td>\n",
              "      <td>BB</td>\n",
              "      <td>Groups</td>\n",
              "      <td>TA/TO</td>\n",
              "      <td>0</td>\n",
              "      <td>0</td>\n",
              "      <td>0</td>\n",
              "      <td>A</td>\n",
              "      <td>A</td>\n",
              "      <td>0</td>\n",
              "      <td>Non Refund</td>\n",
              "      <td>0</td>\n",
              "      <td>Transient</td>\n",
              "      <td>100.00</td>\n",
              "      <td>0</td>\n",
              "      <td>0</td>\n",
              "      <td>2.0</td>\n",
              "    </tr>\n",
              "    <tr>\n",
              "      <th>9066</th>\n",
              "      <td>Resort Hotel</td>\n",
              "      <td>79</td>\n",
              "      <td>44</td>\n",
              "      <td>2.0</td>\n",
              "      <td>0.0</td>\n",
              "      <td>0</td>\n",
              "      <td>BB</td>\n",
              "      <td>Online TA</td>\n",
              "      <td>TA/TO</td>\n",
              "      <td>0</td>\n",
              "      <td>0</td>\n",
              "      <td>0</td>\n",
              "      <td>D</td>\n",
              "      <td>D</td>\n",
              "      <td>0</td>\n",
              "      <td>No Deposit</td>\n",
              "      <td>0</td>\n",
              "      <td>Transient</td>\n",
              "      <td>58.05</td>\n",
              "      <td>0</td>\n",
              "      <td>3</td>\n",
              "      <td>8.0</td>\n",
              "    </tr>\n",
              "    <tr>\n",
              "      <th>37865</th>\n",
              "      <td>Resort Hotel</td>\n",
              "      <td>87</td>\n",
              "      <td>26</td>\n",
              "      <td>1.0</td>\n",
              "      <td>0.0</td>\n",
              "      <td>0</td>\n",
              "      <td>BB</td>\n",
              "      <td>Corporate</td>\n",
              "      <td>TA/TO</td>\n",
              "      <td>0</td>\n",
              "      <td>0</td>\n",
              "      <td>0</td>\n",
              "      <td>A</td>\n",
              "      <td>I</td>\n",
              "      <td>2</td>\n",
              "      <td>No Deposit</td>\n",
              "      <td>0</td>\n",
              "      <td>Transient-Party</td>\n",
              "      <td>NaN</td>\n",
              "      <td>0</td>\n",
              "      <td>0</td>\n",
              "      <td>NaN</td>\n",
              "    </tr>\n",
              "    <tr>\n",
              "      <th>65344</th>\n",
              "      <td>City Hotel</td>\n",
              "      <td>55</td>\n",
              "      <td>13</td>\n",
              "      <td>2.0</td>\n",
              "      <td>0.0</td>\n",
              "      <td>0</td>\n",
              "      <td>BB</td>\n",
              "      <td>Offline TA/TO</td>\n",
              "      <td>TA/TO</td>\n",
              "      <td>0</td>\n",
              "      <td>0</td>\n",
              "      <td>0</td>\n",
              "      <td>A</td>\n",
              "      <td>A</td>\n",
              "      <td>0</td>\n",
              "      <td>No Deposit</td>\n",
              "      <td>0</td>\n",
              "      <td>Transient</td>\n",
              "      <td>82.42</td>\n",
              "      <td>0</td>\n",
              "      <td>1</td>\n",
              "      <td>5.0</td>\n",
              "    </tr>\n",
              "    <tr>\n",
              "      <th>67378</th>\n",
              "      <td>City Hotel</td>\n",
              "      <td>14</td>\n",
              "      <td>18</td>\n",
              "      <td>2.0</td>\n",
              "      <td>0.0</td>\n",
              "      <td>0</td>\n",
              "      <td>SC</td>\n",
              "      <td>Online TA</td>\n",
              "      <td>TA/TO</td>\n",
              "      <td>0</td>\n",
              "      <td>0</td>\n",
              "      <td>0</td>\n",
              "      <td>A</td>\n",
              "      <td>A</td>\n",
              "      <td>0</td>\n",
              "      <td>No Deposit</td>\n",
              "      <td>0</td>\n",
              "      <td>Transient</td>\n",
              "      <td>120.00</td>\n",
              "      <td>0</td>\n",
              "      <td>0</td>\n",
              "      <td>1.0</td>\n",
              "    </tr>\n",
              "  </tbody>\n",
              "</table>\n",
              "</div>"
            ],
            "text/plain": [
              "              hotel  lead_time  ...  total_of_special_requests  nights_stay\n",
              "69573    City Hotel        189  ...                          0          2.0\n",
              "9066   Resort Hotel         79  ...                          3          8.0\n",
              "37865  Resort Hotel         87  ...                          0          NaN\n",
              "65344    City Hotel         55  ...                          1          5.0\n",
              "67378    City Hotel         14  ...                          0          1.0\n",
              "\n",
              "[5 rows x 22 columns]"
            ]
          },
          "metadata": {
            "tags": []
          },
          "execution_count": 3
        }
      ]
    },
    {
      "cell_type": "code",
      "metadata": {
        "id": "8oGDWZR4kaum",
        "colab_type": "code",
        "colab": {
          "base_uri": "https://localhost:8080/",
          "height": 70
        },
        "outputId": "314d1e11-4efe-4d93-df76-70eb9cc7a7cc"
      },
      "source": [
        "y_train.value_counts()"
      ],
      "execution_count": 8,
      "outputs": [
        {
          "output_type": "execute_result",
          "data": {
            "text/plain": [
              "Check-Out    41697\n",
              "Canceled     25161\n",
              "Name: reservation_status, dtype: int64"
            ]
          },
          "metadata": {
            "tags": []
          },
          "execution_count": 8
        }
      ]
    },
    {
      "cell_type": "code",
      "metadata": {
        "id": "YAf1D88LlEmW",
        "colab_type": "code",
        "colab": {
          "base_uri": "https://localhost:8080/",
          "height": 72
        },
        "outputId": "09396645-c1b3-40a3-b0b0-cf67b83a896a"
      },
      "source": [
        "from sklearn.feature_selection import SelectKBest, chi2\n",
        "from sklearn.pipeline import make_pipeline\n",
        "from sklearn.impute import SimpleImputer\n",
        "import category_encoders as ce\n",
        "from sklearn.preprocessing import LabelEncoder"
      ],
      "execution_count": 9,
      "outputs": [
        {
          "output_type": "stream",
          "text": [
            "/usr/local/lib/python3.6/dist-packages/statsmodels/tools/_testing.py:19: FutureWarning: pandas.util.testing is deprecated. Use the functions in the public API at pandas.testing instead.\n",
            "  import pandas.util.testing as tm\n"
          ],
          "name": "stderr"
        }
      ]
    },
    {
      "cell_type": "code",
      "metadata": {
        "id": "rrg7fVjvmEIz",
        "colab_type": "code",
        "colab": {}
      },
      "source": [
        "le = LabelEncoder()\n",
        "y_train_enc = le.fit_transform(y_train)"
      ],
      "execution_count": 0,
      "outputs": []
    },
    {
      "cell_type": "code",
      "metadata": {
        "id": "Qaf6w7B6mRrU",
        "colab_type": "code",
        "colab": {
          "base_uri": "https://localhost:8080/",
          "height": 532
        },
        "outputId": "ee9c5bb6-1bfa-47ee-df95-b88b99127d81"
      },
      "source": [
        "pipe = make_pipeline(tools.wrangleData(max_cardinality=50),\n",
        "                     ce.OrdinalEncoder(),\n",
        "                     SimpleImputer(),\n",
        "                     SelectKBest(score_func=chi2, k='all'))\n",
        "\n",
        "pipe.fit(X_train, y_train_enc)"
      ],
      "execution_count": 11,
      "outputs": [
        {
          "output_type": "execute_result",
          "data": {
            "text/plain": [
              "Pipeline(memory=None,\n",
              "         steps=[('wrangledata',\n",
              "                 wrangleData(max_cardinality=50, remove_dates=True)),\n",
              "                ('ordinalencoder',\n",
              "                 OrdinalEncoder(cols=['hotel', 'meal', 'market_segment',\n",
              "                                      'distribution_channel',\n",
              "                                      'reserved_room_type',\n",
              "                                      'assigned_room_type', 'deposit_type',\n",
              "                                      'customer_type'],\n",
              "                                drop_invariant=False, handle_missing='value',\n",
              "                                handle_unknown='value',\n",
              "                                mapping=[{'col': 'hote...\n",
              "                                         {'col': 'customer_type',\n",
              "                                          'data_type': dtype('O'),\n",
              "                                          'mapping': Transient          1\n",
              "Contract           2\n",
              "Transient-Party    3\n",
              "Group              4\n",
              "NaN               -2\n",
              "dtype: int64}],\n",
              "                                return_df=True, verbose=0)),\n",
              "                ('simpleimputer',\n",
              "                 SimpleImputer(add_indicator=False, copy=True, fill_value=None,\n",
              "                               missing_values=nan, strategy='mean',\n",
              "                               verbose=0)),\n",
              "                ('selectkbest',\n",
              "                 SelectKBest(k='all',\n",
              "                             score_func=<function chi2 at 0x7f2d269ee840>))],\n",
              "         verbose=False)"
            ]
          },
          "metadata": {
            "tags": []
          },
          "execution_count": 11
        }
      ]
    },
    {
      "cell_type": "code",
      "metadata": {
        "id": "vYjKgANrm2HV",
        "colab_type": "code",
        "colab": {
          "base_uri": "https://localhost:8080/",
          "height": 425
        },
        "outputId": "f0aa99ff-1390-4c06-a337-e212fa5e2a55"
      },
      "source": [
        "scores = pd.Series(pipe.named_steps['selectkbest'].scores_, \n",
        "                   pipe.named_steps['wrangledata'].columns_)\n",
        "\n",
        "scores.sort_values(ascending=False)"
      ],
      "execution_count": 18,
      "outputs": [
        {
          "output_type": "execute_result",
          "data": {
            "text/plain": [
              "lead_time                         582626.324725\n",
              "days_in_waiting_list               18787.629353\n",
              "previous_cancellations              6104.345450\n",
              "total_of_special_requests           3915.958923\n",
              "previous_bookings_not_canceled      3790.607223\n",
              "booking_changes                     2640.130997\n",
              "required_car_parking_spaces         2467.158677\n",
              "deposit_type                        1409.064243\n",
              "assigned_room_type                  1287.141439\n",
              "customer_type                        574.711918\n",
              "distribution_channel                 390.642237\n",
              "is_repeated_guest                    237.348662\n",
              "hotel                                192.453417\n",
              "market_segment                        87.576957\n",
              "babies                                70.389153\n",
              "arrival_date_week_number              32.329470\n",
              "nights_stay                           31.094507\n",
              "adults                                30.136481\n",
              "children                               4.788557\n",
              "reserved_room_type                     3.767487\n",
              "meal                                   3.240974\n",
              "adr                                    0.037487\n",
              "dtype: float64"
            ]
          },
          "metadata": {
            "tags": []
          },
          "execution_count": 18
        }
      ]
    },
    {
      "cell_type": "code",
      "metadata": {
        "id": "ApUSrMsrnAvQ",
        "colab_type": "code",
        "colab": {
          "base_uri": "https://localhost:8080/",
          "height": 650
        },
        "outputId": "ac36d8ec-3e5a-4786-b047-ac1a33bc05ab"
      },
      "source": [
        "import matplotlib.pyplot as plt\n",
        "\n",
        "plt.figure(figsize=(10, len(pipe.named_steps['wrangledata'].columns_) / 2))\n",
        "scores.sort_values().plot.barh()\n",
        "plt.xscale('log');"
      ],
      "execution_count": 20,
      "outputs": [
        {
          "output_type": "display_data",
          "data": {
            "image/png": "[encoded data removed]",
            "text/plain": [
              "<Figure size 720x792 with 1 Axes>"
            ]
          },
          "metadata": {
            "tags": [],
            "needs_background": "light"
          }
        }
      ]
    },
    {
      "cell_type": "code",
      "metadata": {
        "id": "8cLLwU4GsHqG",
        "colab_type": "code",
        "colab": {}
      },
      "source": [
        "def getFeatures(scores, threshold):\n",
        "    scores = scores.to_dict()\n",
        "    features = []\n",
        "    for key in scores:\n",
        "        if scores[key] >= threshold:\n",
        "          features.append(key)\n",
        "\n",
        "    return features"
      ],
      "execution_count": 0,
      "outputs": []
    },
    {
      "cell_type": "code",
      "metadata": {
        "id": "BMsYF187tXTm",
        "colab_type": "code",
        "colab": {
          "base_uri": "https://localhost:8080/",
          "height": 450
        },
        "outputId": "d43c35be-8443-4786-abce-6fbf2699612b"
      },
      "source": [
        "from sklearn.ensemble import RandomForestClassifier\n",
        "from imblearn.over_sampling import SMOTE\n",
        "from imblearn.pipeline import make_pipeline as make_imb_pipeline\n",
        "\n",
        "pipeline = make_imb_pipeline(tools.wrangleData(max_cardinality=50),\n",
        "                         ce.OrdinalEncoder(),\n",
        "                         SimpleImputer(),\n",
        "                         SMOTE(random_state=42),\n",
        "                         RandomForestClassifier(random_state=42,\n",
        "                                                n_jobs=-1))\n",
        "\n",
        "tools.tryModel(pipeline, X_train, y_train, X_val, y_val)"
      ],
      "execution_count": 37,
      "outputs": [
        {
          "output_type": "stream",
          "text": [
            "/usr/local/lib/python3.6/dist-packages/sklearn/utils/deprecation.py:87: FutureWarning: Function safe_indexing is deprecated; safe_indexing is deprecated in version 0.22 and will be removed in version 0.24.\n",
            "  warnings.warn(msg, category=FutureWarning)\n"
          ],
          "name": "stderr"
        },
        {
          "output_type": "stream",
          "text": [
            "\n",
            "\n",
            "Train score = 99.24616351072422 %\n",
            "Validate score = 85.88094525874963 %\n",
            "\n",
            "\n"
          ],
          "name": "stdout"
        },
        {
          "output_type": "display_data",
          "data": {
            "text/plain": [
              "'Confusion Matrix'"
            ]
          },
          "metadata": {
            "tags": []
          }
        },
        {
          "output_type": "display_data",
          "data": {
            "text/html": [
              "<div>\n",
              "<style scoped>\n",
              "    .dataframe tbody tr th:only-of-type {\n",
              "        vertical-align: middle;\n",
              "    }\n",
              "\n",
              "    .dataframe tbody tr th {\n",
              "        vertical-align: top;\n",
              "    }\n",
              "\n",
              "    .dataframe thead th {\n",
              "        text-align: right;\n",
              "    }\n",
              "</style>\n",
              "<table border=\"1\" class=\"dataframe\">\n",
              "  <thead>\n",
              "    <tr style=\"text-align: right;\">\n",
              "      <th></th>\n",
              "      <th>Check-Out</th>\n",
              "      <th>Canceled</th>\n",
              "    </tr>\n",
              "  </thead>\n",
              "  <tbody>\n",
              "    <tr>\n",
              "      <th>Check-Out</th>\n",
              "      <td>9508</td>\n",
              "      <td>917</td>\n",
              "    </tr>\n",
              "    <tr>\n",
              "      <th>Canceled</th>\n",
              "      <td>1443</td>\n",
              "      <td>4847</td>\n",
              "    </tr>\n",
              "  </tbody>\n",
              "</table>\n",
              "</div>"
            ],
            "text/plain": [
              "           Check-Out  Canceled\n",
              "Check-Out       9508       917\n",
              "Canceled        1443      4847"
            ]
          },
          "metadata": {
            "tags": []
          }
        },
        {
          "output_type": "stream",
          "text": [
            "\n",
            "\n",
            "\n"
          ],
          "name": "stdout"
        },
        {
          "output_type": "display_data",
          "data": {
            "text/plain": [
              "'Metrics'"
            ]
          },
          "metadata": {
            "tags": []
          }
        },
        {
          "output_type": "display_data",
          "data": {
            "text/html": [
              "<div>\n",
              "<style scoped>\n",
              "    .dataframe tbody tr th:only-of-type {\n",
              "        vertical-align: middle;\n",
              "    }\n",
              "\n",
              "    .dataframe tbody tr th {\n",
              "        vertical-align: top;\n",
              "    }\n",
              "\n",
              "    .dataframe thead th {\n",
              "        text-align: right;\n",
              "    }\n",
              "</style>\n",
              "<table border=\"1\" class=\"dataframe\">\n",
              "  <thead>\n",
              "    <tr style=\"text-align: right;\">\n",
              "      <th></th>\n",
              "      <th>precision</th>\n",
              "      <th>recall</th>\n",
              "      <th>f1-score</th>\n",
              "    </tr>\n",
              "  </thead>\n",
              "  <tbody>\n",
              "    <tr>\n",
              "      <th>Check-Out</th>\n",
              "      <td>0.868231</td>\n",
              "      <td>0.912038</td>\n",
              "      <td>0.889596</td>\n",
              "    </tr>\n",
              "    <tr>\n",
              "      <th>Canceled</th>\n",
              "      <td>0.840909</td>\n",
              "      <td>0.770588</td>\n",
              "      <td>0.804214</td>\n",
              "    </tr>\n",
              "  </tbody>\n",
              "</table>\n",
              "</div>"
            ],
            "text/plain": [
              "           precision    recall  f1-score\n",
              "Check-Out   0.868231  0.912038  0.889596\n",
              "Canceled    0.840909  0.770588  0.804214"
            ]
          },
          "metadata": {
            "tags": []
          }
        }
      ]
    },
    {
      "cell_type": "code",
      "metadata": {
        "id": "yaKrQuw7wmc2",
        "colab_type": "code",
        "colab": {
          "base_uri": "https://localhost:8080/",
          "height": 34
        },
        "outputId": "e6a106f6-167c-4b26-9d0d-ca5603d08696"
      },
      "source": [
        "from sklearn.utils import compute_class_weight\n",
        "weights = compute_class_weight('balanced', y_train.unique(), y_train)\n",
        "weights"
      ],
      "execution_count": 39,
      "outputs": [
        {
          "output_type": "execute_result",
          "data": {
            "text/plain": [
              "array([0.80171235, 1.32860379])"
            ]
          },
          "metadata": {
            "tags": []
          },
          "execution_count": 39
        }
      ]
    },
    {
      "cell_type": "code",
      "metadata": {
        "id": "x7weBFJEzDi5",
        "colab_type": "code",
        "colab": {
          "base_uri": "https://localhost:8080/",
          "height": 450
        },
        "outputId": "4df34a33-d1c9-4ca7-fdd4-a27410be54ea"
      },
      "source": [
        "pipeline = make_imb_pipeline(tools.wrangleData(max_cardinality=50),\n",
        "                         ce.OrdinalEncoder(),\n",
        "                         SimpleImputer(),\n",
        "                         SMOTE(random_state=42),\n",
        "                         RandomForestClassifier(random_state=42,\n",
        "                                                n_jobs=-1,\n",
        "                                                class_weight={'Check-Out':weights[1],\n",
        "                                                              'Canceled':weights[0]}))\n",
        "\n",
        "tools.tryModel(pipeline, X_train, y_train, X_val, y_val)"
      ],
      "execution_count": 42,
      "outputs": [
        {
          "output_type": "stream",
          "text": [
            "/usr/local/lib/python3.6/dist-packages/sklearn/utils/deprecation.py:87: FutureWarning: Function safe_indexing is deprecated; safe_indexing is deprecated in version 0.22 and will be removed in version 0.24.\n",
            "  warnings.warn(msg, category=FutureWarning)\n"
          ],
          "name": "stderr"
        },
        {
          "output_type": "stream",
          "text": [
            "\n",
            "\n",
            "Train score = 99.25214634000419 %\n",
            "Validate score = 85.95871971283279 %\n",
            "\n",
            "\n"
          ],
          "name": "stdout"
        },
        {
          "output_type": "display_data",
          "data": {
            "text/plain": [
              "'Confusion Matrix'"
            ]
          },
          "metadata": {
            "tags": []
          }
        },
        {
          "output_type": "display_data",
          "data": {
            "text/html": [
              "<div>\n",
              "<style scoped>\n",
              "    .dataframe tbody tr th:only-of-type {\n",
              "        vertical-align: middle;\n",
              "    }\n",
              "\n",
              "    .dataframe tbody tr th {\n",
              "        vertical-align: top;\n",
              "    }\n",
              "\n",
              "    .dataframe thead th {\n",
              "        text-align: right;\n",
              "    }\n",
              "</style>\n",
              "<table border=\"1\" class=\"dataframe\">\n",
              "  <thead>\n",
              "    <tr style=\"text-align: right;\">\n",
              "      <th></th>\n",
              "      <th>Check-Out</th>\n",
              "      <th>Canceled</th>\n",
              "    </tr>\n",
              "  </thead>\n",
              "  <tbody>\n",
              "    <tr>\n",
              "      <th>Check-Out</th>\n",
              "      <td>9512</td>\n",
              "      <td>913</td>\n",
              "    </tr>\n",
              "    <tr>\n",
              "      <th>Canceled</th>\n",
              "      <td>1434</td>\n",
              "      <td>4856</td>\n",
              "    </tr>\n",
              "  </tbody>\n",
              "</table>\n",
              "</div>"
            ],
            "text/plain": [
              "           Check-Out  Canceled\n",
              "Check-Out       9512       913\n",
              "Canceled        1434      4856"
            ]
          },
          "metadata": {
            "tags": []
          }
        },
        {
          "output_type": "stream",
          "text": [
            "\n",
            "\n",
            "\n"
          ],
          "name": "stdout"
        },
        {
          "output_type": "display_data",
          "data": {
            "text/plain": [
              "'Metrics'"
            ]
          },
          "metadata": {
            "tags": []
          }
        },
        {
          "output_type": "display_data",
          "data": {
            "text/html": [
              "<div>\n",
              "<style scoped>\n",
              "    .dataframe tbody tr th:only-of-type {\n",
              "        vertical-align: middle;\n",
              "    }\n",
              "\n",
              "    .dataframe tbody tr th {\n",
              "        vertical-align: top;\n",
              "    }\n",
              "\n",
              "    .dataframe thead th {\n",
              "        text-align: right;\n",
              "    }\n",
              "</style>\n",
              "<table border=\"1\" class=\"dataframe\">\n",
              "  <thead>\n",
              "    <tr style=\"text-align: right;\">\n",
              "      <th></th>\n",
              "      <th>precision</th>\n",
              "      <th>recall</th>\n",
              "      <th>f1-score</th>\n",
              "    </tr>\n",
              "  </thead>\n",
              "  <tbody>\n",
              "    <tr>\n",
              "      <th>Check-Out</th>\n",
              "      <td>0.868993</td>\n",
              "      <td>0.912422</td>\n",
              "      <td>0.890178</td>\n",
              "    </tr>\n",
              "    <tr>\n",
              "      <th>Canceled</th>\n",
              "      <td>0.841740</td>\n",
              "      <td>0.772019</td>\n",
              "      <td>0.805374</td>\n",
              "    </tr>\n",
              "  </tbody>\n",
              "</table>\n",
              "</div>"
            ],
            "text/plain": [
              "           precision    recall  f1-score\n",
              "Check-Out   0.868993  0.912422  0.890178\n",
              "Canceled    0.841740  0.772019  0.805374"
            ]
          },
          "metadata": {
            "tags": []
          }
        }
      ]
    },
    {
      "cell_type": "code",
      "metadata": {
        "id": "1DqLiACuzpUP",
        "colab_type": "code",
        "colab": {
          "base_uri": "https://localhost:8080/",
          "height": 645
        },
        "outputId": "90b33701-6044-4fa1-cc57-91a88bba67c0"
      },
      "source": [
        "model = pipeline.named_steps['randomforestclassifier']\n",
        "wrangle = pipeline.named_steps['wrangledata']\n",
        "importances = pd.Series(model.feature_importances_, wrangle.columns_)\n",
        "\n",
        "plt.figure(figsize=(10, len(wrangle.columns_) / 2))\n",
        "importances.sort_values().plot.barh();"
      ],
      "execution_count": 43,
      "outputs": [
        {
          "output_type": "display_data",
          "data": {
            "image/png": "[encoded data removed]",
            "text/plain": [
              "<Figure size 720x792 with 1 Axes>"
            ]
          },
          "metadata": {
            "tags": [],
            "needs_background": "light"
          }
        }
      ]
    },
    {
      "cell_type": "code",
      "metadata": {
        "id": "_91cHjpB1hH5",
        "colab_type": "code",
        "colab": {
          "base_uri": "https://localhost:8080/",
          "height": 457
        },
        "outputId": "858a8538-3092-442f-cf26-982fa17ea48b"
      },
      "source": [
        "tools.ROCcurves(y_val, X_val, pipeline, model.classes_)"
      ],
      "execution_count": 44,
      "outputs": [
        {
          "output_type": "display_data",
          "data": {
            "image/png": "[encoded data removed]",
            "text/plain": [
              "<Figure size 720x504 with 1 Axes>"
            ]
          },
          "metadata": {
            "tags": [],
            "needs_background": "light"
          }
        }
      ]
    },
    {
      "cell_type": "code",
      "metadata": {
        "id": "hFp_fdaC126w",
        "colab_type": "code",
        "colab": {}
      },
      "source": [
        ""
      ],
      "execution_count": 0,
      "outputs": []
    }
  ]
}